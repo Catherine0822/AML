{
 "cells": [
  {
   "cell_type": "markdown",
   "metadata": {},
   "source": [
    "# Problem Set 3\n",
    "\n",
    "### Before You Start\n",
    "\n",
    "Make sure the following libraries load correctly (hit Ctrl-Enter). Note that while you are loading several powerful libraries, including machine learning libraries, the goal of this problem set is to implement several algorithms from scratch. In particular, you should *not* be using any built-in libraries for nearest neighbors, distance metrics, or cross-validation -- your mission is to write those algorithms in Python! Part 1 will be relatively easy; Part 2 will take more time."
   ]
  },
  {
   "cell_type": "code",
   "execution_count": 2,
   "metadata": {
    "jupyter": {
     "outputs_hidden": true
    }
   },
   "outputs": [],
   "source": [
    "import IPython\n",
    "import numpy as np\n",
    "import scipy as sp\n",
    "import pandas as pd\n",
    "import matplotlib\n",
    "import sklearn\n",
    "import time"
   ]
  },
  {
   "cell_type": "code",
   "execution_count": 3,
   "metadata": {
    "jupyter": {
     "outputs_hidden": true
    }
   },
   "outputs": [],
   "source": [
    "%matplotlib inline  \n",
    "import matplotlib.pyplot as plt  "
   ]
  },
  {
   "cell_type": "markdown",
   "metadata": {},
   "source": [
    "---\n",
    "\n",
    "## Introduction to the assignment\n",
    "\n",
    "For this assignment, you will be using the [Boston Housing Prices Data Set](http://www.kellogg.northwestern.edu/faculty/weber/emp/_session_3/boston.htm).  Please read about the dataset carefully before continuing.  Use the following commands to load the dataset:\n",
    "\n",
    "*NOTE - This dataset is similar to the one you used in PS1; we are just using a different method to load it this time. The column names and their order will remain the same for this dataset as was in PS1.*"
   ]
  },
  {
   "cell_type": "code",
   "execution_count": 4,
   "metadata": {
    "jupyter": {
     "outputs_hidden": true
    }
   },
   "outputs": [],
   "source": [
    "# load Boston housing data set\n",
    "data = np.loadtxt('data.txt')\n",
    "target = np.loadtxt('target.txt')"
   ]
  },
  {
   "cell_type": "code",
   "execution_count": 5,
   "metadata": {},
   "outputs": [
    {
     "data": {
      "text/plain": [
       "array([24. , 21.6, 34.7, 33.4, 36.2])"
      ]
     },
     "execution_count": 5,
     "metadata": {},
     "output_type": "execute_result"
    }
   ],
   "source": [
    "data[:5]\n",
    "target[:5]"
   ]
  },
  {
   "cell_type": "markdown",
   "metadata": {},
   "source": [
    "---\n",
    "\n",
    "## Part 1: Experimental Setup\n",
    "\n",
    "The goal of the next few sections is to design an experiment to predict the median home value for an instance in the data.\n",
    "Before beginning the \"real\" work, refamiliarize yourself with the dataset."
   ]
  },
  {
   "cell_type": "markdown",
   "metadata": {},
   "source": [
    "### 1.1 Begin by writing a function to compute the Root Mean Squared Error for a list of numbers\n",
    "\n",
    "You can find the sqrt function in the Numpy package. Furthermore the details of RMSE can be found on [Wikipedia](http://en.wikipedia.org/wiki/Root-mean-square_deviation). Do not use a built-in function  to compute RMSE, other than numpy functions like `sqrt` and if needed, `sum` or other relevant ones."
   ]
  },
  {
   "cell_type": "code",
   "execution_count": 8,
   "metadata": {
    "jupyter": {
     "outputs_hidden": true
    }
   },
   "outputs": [
    {
     "data": {
      "text/plain": [
       "3.162"
      ]
     },
     "execution_count": 8,
     "metadata": {},
     "output_type": "execute_result"
    }
   ],
   "source": [
    "\"\"\"\n",
    "Function\n",
    "--------\n",
    "compute_rmse\n",
    "\n",
    "Given two arrays, one of actual values and one of predicted values,\n",
    "compute the Roote Mean Squared Error\n",
    "\n",
    "Parameters\n",
    "----------\n",
    "predictions : array\n",
    "    Array of numerical values corresponding to predictions for each of the N observations\n",
    "\n",
    "yvalues : array\n",
    "    Array of numerical values corresponding to the actual values for each of the N observations\n",
    "\n",
    "Returns\n",
    "-------\n",
    "rmse : int\n",
    "    Root Mean Squared Error of the prediction\n",
    "\n",
    "Example\n",
    "-------\n",
    ">>> print(compute_rmse((4,6,3),(2,1,4)))\n",
    "3.16\n",
    "\"\"\"\n",
    "def compute_rmse(predictions, yvalues):\n",
    "    rmse = np.round(np.sqrt(np.mean(np.power(np.subtract(predictions, yvalues), 2))), 3)\n",
    "    return rmse\n",
    "\n",
    "compute_rmse((4,6,3),(2,1,4))"
   ]
  },
  {
   "cell_type": "markdown",
   "metadata": {},
   "source": [
    "### 1.2 Divide your data into training and testing datasets\n",
    "\n",
    "Randomly select 75% of the data and put this in a training dataset (call this \"bdata_train\"), and place the remaining 25% in a testing dataset (call this \"bdata_test\"). Do not use built-in functions.\n",
    "\n",
    "To perform any randomized operation, only use functions in the *numpy library (np.random)*. Do not use other packages for random functions."
   ]
  },
  {
   "cell_type": "code",
   "execution_count": 9,
   "metadata": {
    "jupyter": {
     "outputs_hidden": true
    }
   },
   "outputs": [
    {
     "data": {
      "text/plain": [
       "((379, 14), (127, 14), 379, 127)"
      ]
     },
     "execution_count": 9,
     "metadata": {},
     "output_type": "execute_result"
    }
   ],
   "source": [
    "# leave the following line untouched, it will help ensure that your \"random\" split is the same \"random\" split used by the rest of the class\n",
    "np.random.seed(seed=13579)\n",
    "\n",
    "train_num = int(.75 * len(data))\n",
    "\n",
    "idx = np.arange(0, len(data), 1)\n",
    "idx = np.random.permutation(idx)\n",
    "train_idx = idx[:train_num]\n",
    "test_idx = idx[train_num:]\n",
    "\n",
    "bdata_train = data[train_idx]\n",
    "bdata_test = data[test_idx]\n",
    "btarget_train = target[train_idx]\n",
    "btarget_test = target[test_idx]\n",
    "\n",
    "# switch to data frame \n",
    "bdata_train = pd.DataFrame(bdata_train)\n",
    "bdata_train = pd.concat([bdata_train, pd.Series(btarget_train)], axis=1)\n",
    "bdata_train.columns = ['CRIM','ZN','INDUS','CHAS','NOX','RM','AGE','DIS','RAD','TAX','PTRATIO','B','LSTAT','MEDV']\n",
    "\n",
    "bdata_test = pd.DataFrame(bdata_test)\n",
    "bdata_test = pd.concat([bdata_test, pd.Series(btarget_test)], axis=1)\n",
    "bdata_test.columns = ['CRIM','ZN','INDUS','CHAS','NOX','RM','AGE','DIS','RAD','TAX','PTRATIO','B','LSTAT','MEDV']\n",
    "\n",
    "bdata_train.shape, bdata_test.shape, len(btarget_train), len(btarget_test)"
   ]
  },
  {
   "cell_type": "code",
   "execution_count": 10,
   "metadata": {},
   "outputs": [
    {
     "data": {
      "text/html": [
       "<div>\n",
       "<style scoped>\n",
       "    .dataframe tbody tr th:only-of-type {\n",
       "        vertical-align: middle;\n",
       "    }\n",
       "\n",
       "    .dataframe tbody tr th {\n",
       "        vertical-align: top;\n",
       "    }\n",
       "\n",
       "    .dataframe thead th {\n",
       "        text-align: right;\n",
       "    }\n",
       "</style>\n",
       "<table border=\"1\" class=\"dataframe\">\n",
       "  <thead>\n",
       "    <tr style=\"text-align: right;\">\n",
       "      <th></th>\n",
       "      <th>CRIM</th>\n",
       "      <th>ZN</th>\n",
       "      <th>INDUS</th>\n",
       "      <th>CHAS</th>\n",
       "      <th>NOX</th>\n",
       "      <th>RM</th>\n",
       "      <th>AGE</th>\n",
       "      <th>DIS</th>\n",
       "      <th>RAD</th>\n",
       "      <th>TAX</th>\n",
       "      <th>PTRATIO</th>\n",
       "      <th>B</th>\n",
       "      <th>LSTAT</th>\n",
       "      <th>MEDV</th>\n",
       "    </tr>\n",
       "  </thead>\n",
       "  <tbody>\n",
       "    <tr>\n",
       "      <th>0</th>\n",
       "      <td>22.406867</td>\n",
       "      <td>0.0</td>\n",
       "      <td>18.247928</td>\n",
       "      <td>0.0</td>\n",
       "      <td>1.099452</td>\n",
       "      <td>6.199415</td>\n",
       "      <td>92.4</td>\n",
       "      <td>2.224853</td>\n",
       "      <td>24.0</td>\n",
       "      <td>679.0</td>\n",
       "      <td>20.568926</td>\n",
       "      <td>391.952694</td>\n",
       "      <td>22.798646</td>\n",
       "      <td>10.5</td>\n",
       "    </tr>\n",
       "    <tr>\n",
       "      <th>1</th>\n",
       "      <td>0.476132</td>\n",
       "      <td>0.0</td>\n",
       "      <td>10.794566</td>\n",
       "      <td>0.0</td>\n",
       "      <td>0.766851</td>\n",
       "      <td>6.208124</td>\n",
       "      <td>42.4</td>\n",
       "      <td>4.032132</td>\n",
       "      <td>4.0</td>\n",
       "      <td>280.0</td>\n",
       "      <td>18.819660</td>\n",
       "      <td>397.172838</td>\n",
       "      <td>9.537777</td>\n",
       "      <td>25.0</td>\n",
       "    </tr>\n",
       "    <tr>\n",
       "      <th>2</th>\n",
       "      <td>0.532648</td>\n",
       "      <td>0.0</td>\n",
       "      <td>10.799418</td>\n",
       "      <td>1.0</td>\n",
       "      <td>0.802291</td>\n",
       "      <td>6.063011</td>\n",
       "      <td>53.8</td>\n",
       "      <td>4.043867</td>\n",
       "      <td>4.0</td>\n",
       "      <td>289.0</td>\n",
       "      <td>18.982791</td>\n",
       "      <td>394.249614</td>\n",
       "      <td>16.440364</td>\n",
       "      <td>22.4</td>\n",
       "    </tr>\n",
       "    <tr>\n",
       "      <th>3</th>\n",
       "      <td>0.187889</td>\n",
       "      <td>80.0</td>\n",
       "      <td>1.526865</td>\n",
       "      <td>0.0</td>\n",
       "      <td>0.708481</td>\n",
       "      <td>7.499923</td>\n",
       "      <td>36.6</td>\n",
       "      <td>7.572798</td>\n",
       "      <td>2.0</td>\n",
       "      <td>334.0</td>\n",
       "      <td>12.865843</td>\n",
       "      <td>355.462216</td>\n",
       "      <td>9.173969</td>\n",
       "      <td>30.3</td>\n",
       "    </tr>\n",
       "    <tr>\n",
       "      <th>4</th>\n",
       "      <td>1.741062</td>\n",
       "      <td>0.0</td>\n",
       "      <td>19.780861</td>\n",
       "      <td>0.0</td>\n",
       "      <td>0.664006</td>\n",
       "      <td>7.614751</td>\n",
       "      <td>90.8</td>\n",
       "      <td>2.115829</td>\n",
       "      <td>5.0</td>\n",
       "      <td>416.0</td>\n",
       "      <td>14.859422</td>\n",
       "      <td>376.320064</td>\n",
       "      <td>2.378481</td>\n",
       "      <td>50.0</td>\n",
       "    </tr>\n",
       "  </tbody>\n",
       "</table>\n",
       "</div>"
      ],
      "text/plain": [
       "        CRIM    ZN      INDUS  CHAS       NOX        RM   AGE       DIS   RAD  \\\n",
       "0  22.406867   0.0  18.247928   0.0  1.099452  6.199415  92.4  2.224853  24.0   \n",
       "1   0.476132   0.0  10.794566   0.0  0.766851  6.208124  42.4  4.032132   4.0   \n",
       "2   0.532648   0.0  10.799418   1.0  0.802291  6.063011  53.8  4.043867   4.0   \n",
       "3   0.187889  80.0   1.526865   0.0  0.708481  7.499923  36.6  7.572798   2.0   \n",
       "4   1.741062   0.0  19.780861   0.0  0.664006  7.614751  90.8  2.115829   5.0   \n",
       "\n",
       "     TAX    PTRATIO           B      LSTAT  MEDV  \n",
       "0  679.0  20.568926  391.952694  22.798646  10.5  \n",
       "1  280.0  18.819660  397.172838   9.537777  25.0  \n",
       "2  289.0  18.982791  394.249614  16.440364  22.4  \n",
       "3  334.0  12.865843  355.462216   9.173969  30.3  \n",
       "4  416.0  14.859422  376.320064   2.378481  50.0  "
      ]
     },
     "execution_count": 10,
     "metadata": {},
     "output_type": "execute_result"
    }
   ],
   "source": [
    "bdata_train.head()"
   ]
  },
  {
   "cell_type": "markdown",
   "metadata": {},
   "source": [
    "### 1.3 Use a very bad baseline for prediction, and compute RMSE\n",
    "\n",
    "Let's start by creating a very bad baseline model that predicts median home values as the averages of `MEDV` based on adjacency to Charles River. \n",
    "\n",
    "Specifically, create a model that predicts, for every observation X_i, the median home value as the average of the median home values of all houses in the **training set** that have the same adjacency value as the observation.\n",
    "\n",
    "For example - For an input observation where `CHAS==1`, the model should predict the `MEDV` as the mean of all `MEDV` values in the training set that also have `CHAS==1`.\n",
    "\n",
    "\n",
    "\n",
    "Once the model is built, do the following:\n",
    "\n",
    "1. Compute the RMSE of the training set.\n",
    "2. Now compute the RMSE of the test data set (but use the model you trained on the training set!).\n",
    "3. How does RMSE compare for training vs. testing datasets? Is this what you expected, and why?\n",
    "4. Create a scatter plot that shows the true value of each instance on the x-axis and the predicted value of each instance on the y-axis. Color the training instances in red and the test instances in blue. Make sure to label your axes appropriately, and add a legend to your figure to make clear which dots are which.\n",
    "5. Add code to your function to measure the running time of your algorithm. How long does it take to compute the predicted values for the test data?\n",
    "\n",
    "\n",
    "*NOTE - Be careful while dealing with floats and integers. Additionally, the `groupby` operation might come handy here.*"
   ]
  },
  {
   "cell_type": "code",
   "execution_count": 11,
   "metadata": {
    "jupyter": {
     "outputs_hidden": true
    }
   },
   "outputs": [
    {
     "name": "stdout",
     "output_type": "stream",
     "text": [
      "======== Training ========\n",
      "Run time: 0.039716 sec\n",
      "RMSE: 8.963\n",
      "======== Testing ========\n",
      "Run time: 0.001288 sec\n",
      "RMSE: 9.293\n"
     ]
    },
    {
     "data": {
      "text/plain": [
       "<matplotlib.legend.Legend at 0x7fb3757a26a0>"
      ]
     },
     "execution_count": 11,
     "metadata": {},
     "output_type": "execute_result"
    },
    {
     "data": {
      "image/png": "[encoded data removed]",
      "text/plain": [
       "<Figure size 648x432 with 1 Axes>"
      ]
     },
     "metadata": {
      "needs_background": "light"
     },
     "output_type": "display_data"
    }
   ],
   "source": [
    "def fit(train_df):\n",
    "    return dict(bdata_train.groupby(\"CHAS\")[\"MEDV\"].mean())\n",
    "    \n",
    "def predict(model, score_df):    \n",
    "    start_time = time.time()\n",
    "    prediction = score_df[\"CHAS\"].apply(lambda x: model.get(0) if x == 0 else model.get(1))\n",
    "    rmse = compute_rmse(prediction, score_df[\"MEDV\"])\n",
    "    print(\"Run time: %8.6f sec\" % (time.time() - start_time))\n",
    "    return rmse, prediction\n",
    "\n",
    "\n",
    "model = fit(bdata_train)\n",
    "print(\"======== Training ========\")\n",
    "rmse_train, pred_train = predict(model, bdata_train)\n",
    "print(\"RMSE: %5.3f\" % rmse_train)\n",
    "\n",
    "print(\"======== Testing ========\")\n",
    "rmse_test, pred_test = predict(model, bdata_test)\n",
    "print(\"RMSE: %5.3f\" % rmse_test)\n",
    "\n",
    "# plot\n",
    "fig = plt.figure(figsize=(9, 6))\n",
    "ax = fig.add_subplot()\n",
    "plt.scatter(btarget_train, pred_train, color=\"r\", label=\"train\")\n",
    "plt.scatter(btarget_test, pred_test, color=\"b\", label=\"test\")\n",
    "ax.set_xlabel(\"Ground Truth\")\n",
    "ax.set_ylabel(\"Prediction\")\n",
    "ax.set_title(\"1.3 Baseline Model\", fontsize=16)\n",
    "ax.legend()"
   ]
  },
  {
   "cell_type": "markdown",
   "metadata": {},
   "source": [
    "*Observations*\n",
    "\n",
    "- The RMSE of testing dataset (9.293) is larger than training dataset (8.963) as expected. Since the model was built on training dataset, it should perform better on training dataset than any other testing datasets.\n",
    "- The running time of predicting testing data is 0.001 second.\n",
    "- In the scatter plot, only two values on vertical axis (prediction) can be found, where the ground truth spread along the horizontal axis.\n"
   ]
  },
  {
   "cell_type": "markdown",
   "metadata": {},
   "source": [
    "---\n",
    "\n",
    "## Part 2: Nearest Neighbors\n"
   ]
  },
  {
   "cell_type": "markdown",
   "metadata": {},
   "source": [
    "### 2.1 Nearest Neighbors: Distance function\n",
    "Let's try and build a machine learning algorithm to beat the \"Average Value\" baseline that you computed above.  Soon you will implement the Nearest Neighbor algorithm, but first you need to create a distance metric to measure the distance (and similarity) between two instances.  Write a generic function to compute the L-Norm distance (called the [*p*-norm][1] distance on Wikipedia). Verify that your function works by computing the Euclidean distance between the points (2,7) and (5,11), and then compute the Manhattan distance between (4,4) and (12,10).\n",
    "\n",
    "[1]: https://en.wikipedia.org/wiki/Norm_(mathematics)#p-norm"
   ]
  },
  {
   "cell_type": "code",
   "execution_count": 12,
   "metadata": {},
   "outputs": [
    {
     "name": "stdout",
     "output_type": "stream",
     "text": [
      "5.0\n"
     ]
    }
   ],
   "source": [
    "\"\"\"\n",
    "Function\n",
    "--------\n",
    "distance\n",
    "\n",
    "Given two instances and a value for L, return the L-Norm distance between them\n",
    "\n",
    "Parameters\n",
    "----------\n",
    "x1, x2 : array\n",
    "    Array of numerical values corresponding to predictions for each of the N observations\n",
    "\n",
    "L: int\n",
    "    Value of L to use in computing distances\n",
    "\n",
    "Returns\n",
    "-------\n",
    "dist : int\n",
    "    The L-norm distance between instances\n",
    "\n",
    "Example\n",
    "-------\n",
    ">>> print(distance((2,7),(5,11),2))\n",
    "5\n",
    "\n",
    "\"\"\"\n",
    "def distance(x1, x2, L):\n",
    "    x1, x2 = np.array(x1), np.array(x2)\n",
    "    if len(x1) == len(x2):\n",
    "        dist = np.power(np.power(abs(x1 - x2), L).sum(), 1/L)\n",
    "        return dist\n",
    "    print(\"feature dimensions does not equal\")\n",
    "    \n",
    "print(distance((2,7),(5,11),2))"
   ]
  },
  {
   "cell_type": "markdown",
   "metadata": {},
   "source": [
    "### 2.2 Basic Nearest Neighbor algorithm\n",
    "\n",
    "Your next task is to implement a basic nearest neighbor algorithm from scratch.  Your simple model will use three input features (`CRIM, RM and ZN`) and a single output (`MEDV`).  In other words, you are modelling the relationship between median home value and crime rates, house size and the proportion of residential land zoned for lots.\n",
    "\n",
    "Use your training data (bdata_train) to \"fit\" your model, although as you know, with Nearest Neighbors there is no real training, you just need to keep your training data in memory.  Write a function that predicts the median home value using the nearest neighbor algorithm we discussed in class.  Since this is a small dataset, you can simply compare your test instance to every instance in the training set, and return the `MEDV` value of the closest training instance.  Have your function take L as an input, where L is passed to the distance function. Use L=2 for all questions henceforth unless explicitly stated otherwise.\n",
    "\n",
    "Make sure to do the following - \n",
    "1. Fill in the function specification below\n",
    "2. Use your algorithm to predict the median home value of every instance in the test set. Report the RMSE (\"test RMSE\")\n",
    "3. Use your algorithm to predict the median home value of every instance in the training set and report the training RMSE.\n",
    "4. Create a scatter plot that shows the true value of each instance on the x-axis and the predicted value of each instance on the y-axis. Color the training instances in red and the test instances in blue. \n",
    "5. Report an estimate of the total time taken by your code to predict the nearest neighbors for all the values in the test data set.\n",
    "6. How does the performance (test RMSE and total runtime) of your nearest neighbors algorithm compare to the baseline in part 1.3?"
   ]
  },
  {
   "cell_type": "code",
   "execution_count": 13,
   "metadata": {
    "jupyter": {
     "outputs_hidden": true
    }
   },
   "outputs": [
    {
     "name": "stdout",
     "output_type": "stream",
     "text": [
      "======== Training ========\n",
      "Time taken: 1.45 seconds\n",
      "train RMSE: 0.000\n",
      "======== Testing ========\n",
      "Time taken: 0.50 seconds\n",
      "test RMSE: 7.115\n"
     ]
    },
    {
     "data": {
      "text/plain": [
       "<matplotlib.legend.Legend at 0x7fb375a7d490>"
      ]
     },
     "execution_count": 13,
     "metadata": {},
     "output_type": "execute_result"
    },
    {
     "data": {
      "image/png": "[encoded data removed]",
      "text/plain": [
       "<Figure size 648x432 with 1 Axes>"
      ]
     },
     "metadata": {
      "needs_background": "light"
     },
     "output_type": "display_data"
    }
   ],
   "source": [
    "\"\"\"\n",
    "Function\n",
    "--------\n",
    "Nearest Neighbors\n",
    "\n",
    "Implementation of nearest neighbors algorithm.\n",
    "\n",
    "Parameters\n",
    "----------\n",
    "x_train: array\n",
    "    Array of numerical feature values for training the model.\n",
    "y_train: array\n",
    "    Array of numerical output values for training the model.\n",
    "x_test: array\n",
    "    Array of numerical feature values for testing the model.\n",
    "y_test: array\n",
    "    Array of numerical output values for testing the model.\n",
    "L: int\n",
    "    Order of L-norm function used for calculating distance.\n",
    "\n",
    "Returns\n",
    "-------\n",
    "rmse : int\n",
    "    Value of the RMSE from data.\n",
    "\"\"\"\n",
    "\n",
    "def nneighbor(x_train, y_train, x_test, y_test, L, feature_set=[\"CRIM\", \"RM\", \"ZN\"], output_runtime=True):\n",
    "    start_time = time.time()\n",
    "    \n",
    "    # manipulating data\n",
    "    x_train = np.array(x_train[feature_set])\n",
    "    x_test = np.array(x_test[feature_set])\n",
    "    n_train = len(x_train)\n",
    "    n_test = len(x_test)\n",
    "    \n",
    "    # predict on testing data\n",
    "    y_pred_test = []\n",
    "    for i in range(n_test):\n",
    "        min_dist = np.inf\n",
    "        min_dist_idx = np.nan\n",
    "        for j in range(n_train):\n",
    "            dist = distance(x_test[i], x_train[j], L)\n",
    "            if dist < min_dist:\n",
    "                min_dist = dist\n",
    "                min_dist_idx = j\n",
    "        y_pred_test.append(y_train[min_dist_idx])\n",
    "        \n",
    "    rmse = compute_rmse(y_pred_test, y_test)\n",
    "    runtime = time.time() - start_time\n",
    "    if output_runtime:\n",
    "        print(\"Time taken: %.2f seconds\" % runtime)\n",
    "\n",
    "    return rmse, y_pred_test, runtime\n",
    "\n",
    "print(\"======== Training ========\")\n",
    "rmse_train, pred_train, _ = nneighbor(bdata_train, btarget_train, bdata_train, btarget_train, L=2)\n",
    "print(\"train RMSE: %5.3f\" % rmse_train)\n",
    "\n",
    "print(\"======== Testing ========\")\n",
    "rmse_test, pred_test, _ = nneighbor(bdata_train, btarget_train, bdata_test, btarget_test, L=2)\n",
    "print(\"test RMSE: %5.3f\" % rmse_test)\n",
    "\n",
    "# plot\n",
    "fig = plt.figure(figsize=(9, 6))\n",
    "ax = fig.add_subplot()\n",
    "plt.scatter(btarget_train, pred_train, color=\"r\", label=\"train\")\n",
    "plt.scatter(btarget_test, pred_test, color=\"b\", label=\"test\")\n",
    "ax.set_xlabel(\"Ground Truth\")\n",
    "ax.set_ylabel(\"Prediction\")\n",
    "ax.set_title(\"2.2 Nearset Neighbors\", fontsize=16)\n",
    "ax.legend()\n"
   ]
  },
  {
   "cell_type": "markdown",
   "metadata": {},
   "source": [
    "*Observations*\n",
    "\n",
    "- RMSE of testing dataset decreases a little (9.293 -> 7.115) compare to baseline; RMSE of training dataset becomes 0 as expected (since every datapoint in training set should be predicted as its real MEDV value).\n",
    "- The running time of predicting testing data in Nearset Neighbor model is 0.5 second, which is 500 times slower than the baseline (0.001 second).\n",
    "- In the scatter plot, training datasets are predicted perfectly while large errors in testing data are observed."
   ]
  },
  {
   "cell_type": "markdown",
   "metadata": {},
   "source": [
    "### 2.3 Results and Normalization\n",
    "\n",
    "If you were being astute, you would have noticed that we never normalized our features -- a big no-no with Nearest Neighbor algorithms.  Write a generic normalization function that takes as input an array of values for a given feature, and returns the standardized array (subtract the mean and divide by the standard deviation).\n",
    "\n",
    "Re-run the Nearest Neighbor algorithm on the normalized dataset (still just using `CRIM, RM and ZN` as input), and compare the RMSE from this method with your previous RMSE evaluations. What do you observe?\n",
    "\n",
    "*NOTE*: To normalize properly, you should compute the mean and standard deviation on the training set, and use the same values to normalize both the training and the testing dataset.\n",
    "\n",
    "*NOTE 2*: In this case, the normalization may or may not reduce the RMSE; don't get confused if you find that to be the case."
   ]
  },
  {
   "cell_type": "code",
   "execution_count": 14,
   "metadata": {
    "jupyter": {
     "outputs_hidden": true
    }
   },
   "outputs": [
    {
     "name": "stdout",
     "output_type": "stream",
     "text": [
      "======== Training ========\n",
      "Time taken: 1.51 seconds\n",
      "train RMSE: 0.000\n",
      "======== Testing ========\n",
      "Time taken: 0.53 seconds\n",
      "test RMSE: 7.456\n"
     ]
    },
    {
     "data": {
      "text/plain": [
       "<matplotlib.legend.Legend at 0x7fb375ae21c0>"
      ]
     },
     "execution_count": 14,
     "metadata": {},
     "output_type": "execute_result"
    },
    {
     "data": {
      "image/png": "[encoded data removed]",
      "text/plain": [
       "<Figure size 648x432 with 1 Axes>"
      ]
     },
     "metadata": {
      "needs_background": "light"
     },
     "output_type": "display_data"
    }
   ],
   "source": [
    "\"\"\"\n",
    "Function\n",
    "--------\n",
    "Normalize data\n",
    "\n",
    "Normalize all of the features in a data frame.\n",
    "\n",
    "Parameters\n",
    "----------\n",
    "raw_data: array\n",
    "    Array of numerical values to normalize.\n",
    "\n",
    "Returns\n",
    "-------\n",
    "normalized_data : array\n",
    "    The array with normalized values for all features\n",
    "\"\"\"\n",
    "def fit_standardize(raw_data):\n",
    "    standardizor = {}\n",
    "    # recording the mean and std for each columns\n",
    "    for col in raw_data.columns:\n",
    "        standardizor.update({col: [raw_data[col].mean(), raw_data[col].std()]})\n",
    "    return standardizor\n",
    "\n",
    "def transform_standardize(standardizor, raw_data):\n",
    "    normalized_data = pd.DataFrame()\n",
    "    # transform columns by its mean and std in training set\n",
    "    for col in raw_data.columns:\n",
    "        mean = standardizor.get(col)[0]\n",
    "        std = standardizor.get(col)[1]\n",
    "        normalized_data[col] = (raw_data[col] - mean)/std\n",
    "    return normalized_data\n",
    "\n",
    "\n",
    "standardizor = fit_standardize(bdata_train)\n",
    "bdata_train_standardized = transform_standardize(standardizor, bdata_train)\n",
    "bdata_test_standardized = transform_standardize(standardizor, bdata_test)\n",
    "# print(bdata_train_standardized.describe())\n",
    "# print(bdata_test_standardized.describe())\n",
    "\n",
    "print(\"======== Training ========\")\n",
    "rmse_train, pred_train, _ = nneighbor(bdata_train_standardized, btarget_train, bdata_train_standardized, btarget_train, L=2)\n",
    "print(\"train RMSE: %5.3f\" % rmse_train)\n",
    "\n",
    "print(\"======== Testing ========\")\n",
    "rmse_test, pred_test, _ = nneighbor(bdata_train_standardized, btarget_train, bdata_test_standardized, btarget_test, L=2)\n",
    "print(\"test RMSE: %5.3f\" % rmse_test)\n",
    "\n",
    "# plot\n",
    "fig = plt.figure(figsize=(9, 6))\n",
    "ax = fig.add_subplot()\n",
    "plt.scatter(btarget_train, pred_train, color=\"r\", label=\"train\")\n",
    "plt.scatter(btarget_test, pred_test, color=\"b\", label=\"test\")\n",
    "ax.set_xlabel(\"Ground Truth\")\n",
    "ax.set_ylabel(\"Prediction\")\n",
    "ax.set_title(\"2.3 Nearset Neighbors (Normalized data)\", fontsize=16)\n",
    "ax.legend()\n"
   ]
  },
  {
   "cell_type": "markdown",
   "metadata": {},
   "source": [
    "*Observations*\n",
    "\n",
    "- Standardization didn't change RMSE too much in testing dataset (7.115 -> 7.456). It's because I didn't standardize the target variable (MEDV).\n",
    "- The running time didn't change too much as well (0.5 -> 0.53 second).\n",
    "- In the scatter plot, the distribution of testing data shifted a little bit, but there are still large errors."
   ]
  },
  {
   "cell_type": "markdown",
   "metadata": {},
   "source": [
    "### 2.4 Optimization\n",
    "\n",
    "A lot of the decisions we've made so far have been arbitrary.  Try to increase the performance of your nearest neighbor algorithm by adding features that you think might be relevant, and by using different values of L in the distance function.  Try a model that uses a different set of 2 features, then try at least one model that uses more than 4 features, then try using a different value of L.  If you're having fun, try a few different combinations of features and L! Use the test set to report the RMSE values.\n",
    "\n",
    "What combination of features and distance function provide the lowest RMSE on the test set?  Do your decisions affect the running time of the algorithm?\n",
    "\n",
    "*NOTE:* For this and all subsequent questions, you should use normalized features. "
   ]
  },
  {
   "cell_type": "code",
   "execution_count": 16,
   "metadata": {},
   "outputs": [
    {
     "data": {
      "text/plain": [
       "<AxesSubplot:>"
      ]
     },
     "execution_count": 16,
     "metadata": {},
     "output_type": "execute_result"
    },
    {
     "data": {
      "image/png": "[encoded data removed]",
      "text/plain": [
       "<Figure size 432x288 with 2 Axes>"
      ]
     },
     "metadata": {
      "needs_background": "light"
     },
     "output_type": "display_data"
    }
   ],
   "source": [
    "# finding highly correlated features\n",
    "import seaborn as sns\n",
    "sns.heatmap(bdata_train.corr(), \n",
    "        xticklabels=bdata_train.columns,\n",
    "        yticklabels=bdata_train.columns)"
   ]
  },
  {
   "cell_type": "code",
   "execution_count": 17,
   "metadata": {
    "jupyter": {
     "outputs_hidden": true
    }
   },
   "outputs": [
    {
     "name": "stdout",
     "output_type": "stream",
     "text": [
      "======== L=2, feature_set=[INDUS, NOX] ========\n",
      "Time taken: 0.53 seconds\n",
      "test RMSE: 10.977\n",
      "======== L=2, feature_set=[CRIM, INDUS, AGE, TAX, PTRATIO] ========\n",
      "Time taken: 0.60 seconds\n",
      "test RMSE: 9.189\n",
      "======== L=3, feature_set=[CRIM, INDUS, AGE, TAX, PTRATIO] ========\n",
      "Time taken: 0.52 seconds\n",
      "test RMSE: 9.142\n",
      "======== L=4, feature_set=[CRIM, INDUS, AGE, TAX, PTRATIO] ========\n",
      "Time taken: 0.53 seconds\n",
      "test RMSE: 9.152\n"
     ]
    }
   ],
   "source": [
    "# Try a model that uses a different set of 2 features\n",
    "print(\"======== L=2, feature_set=[INDUS, NOX] ========\")\n",
    "rmse_test, pred_test, _ = nneighbor(bdata_train_standardized, btarget_train, bdata_test_standardized, btarget_test, \n",
    "                                 L=2, feature_set=[\"INDUS\", \"NOX\"])\n",
    "print(\"test RMSE: %5.3f\" % rmse_test)\n",
    "\n",
    "# try a model that uses more than 4 features\n",
    "print(\"======== L=2, feature_set=[CRIM, INDUS, AGE, TAX, PTRATIO] ========\")\n",
    "rmse_test, pred_test, _ = nneighbor(bdata_train_standardized, btarget_train, bdata_test_standardized, btarget_test, \n",
    "                                 L=2, feature_set=[\"CRIM\", \"INDUS\", \"AGE\", \"TAX\", \"PTRATIO\"])\n",
    "print(\"test RMSE: %5.3f\" % rmse_test)\n",
    "\n",
    "# try using a different value of L\n",
    "print(\"======== L=3, feature_set=[CRIM, INDUS, AGE, TAX, PTRATIO] ========\")\n",
    "rmse_test, pred_test, _ = nneighbor(bdata_train_standardized, btarget_train, bdata_test_standardized, btarget_test, \n",
    "                                 L=3, feature_set=[\"CRIM\", \"INDUS\", \"AGE\", \"TAX\", \"PTRATIO\"])\n",
    "print(\"test RMSE: %5.3f\" % rmse_test)\n",
    "\n",
    "# try using a different value of L\n",
    "print(\"======== L=4, feature_set=[CRIM, INDUS, AGE, TAX, PTRATIO] ========\")\n",
    "rmse_test, pred_test, _ = nneighbor(bdata_train_standardized, btarget_train, bdata_test_standardized, btarget_test, \n",
    "                                 L=4, feature_set=[\"CRIM\", \"INDUS\", \"AGE\", \"TAX\", \"PTRATIO\"])\n",
    "print(\"test RMSE: %5.3f\" % rmse_test)"
   ]
  },
  {
   "cell_type": "markdown",
   "metadata": {},
   "source": [
    "*Observations*\n",
    "\n",
    "- The conbination of L=3, feature_set=[CRIM, INDUS, AGE, TAX, PTRATIO] has the lowest RMSE.\n",
    "- In general, using more features increase the running time of model\n",
    "- Increasing L doesn't effect a lot on running time. In my experiment, higher L decreases running time.\n"
   ]
  },
  {
   "cell_type": "markdown",
   "metadata": {},
   "source": [
    "### 2.5 Cross-Validation\n",
    "\n",
    "The more you tinkered with your features and distance function, the higher the risk that you overfit your training data.  One solution to this sort of overfitting is to use cross-validation (see K-fold [cross-validation][1].  Here you must implement a simple k-fold cross-validation algorithm yourself.  The function you write here will be used several more times in this problem set, so do your best to write efficient code! (Note that the sklearn package has a built-in [K-fold][2] iterator -- you should *not* be invoking that or any related algorithms in this section of the problem set.)\n",
    "\n",
    "Use 25-fold cross-validation and report the average RMSE for Nearest Neighbors using Euclidean distance with `CRIM,RM and ZN` input features, as well as the total running time for the full run of 25 folds.  In other words, randomly divide your training dataset (created in 1.2) into 25 equally-sized samples.\n",
    "\n",
    "For each of the 25 iterations (the \"folds\"), use 24 samples as \"training data\" (even though there is no training in k-NN!), and the remaining 1 sample for validation.  Compute the RMSE of that particular validation set, then move on to the next iteration.  \n",
    "\n",
    " - Report the average cross-validated RMSE across the 25 iterations. What do you observe?\n",
    " \n",
    " - Create a histogram of the RMSEs for the folds (there should be 25 of these). Additionally, use a horizontal line to mark the average cross-validated RMSE.\n",
    "\n",
    "\n",
    "[1]: http://en.wikipedia.org/wiki/Cross-validation_(statistics)\n",
    "[2]: http://scikit-learn.org/stable/modules/cross_validation.html#cross-validation\n",
    "\n",
    "\n",
    "\n",
    "NOTE: To perform any randomized operation, only use functions in the *numpy library (np.random)*. Do not use other packages for random functions.\n",
    "\n",
    "HINT: Running 25-fold cross validation might be time-consuming. Try starting with 5 folds."
   ]
  },
  {
   "cell_type": "code",
   "execution_count": 19,
   "metadata": {},
   "outputs": [
    {
     "name": "stdout",
     "output_type": "stream",
     "text": [
      "Average runtime per fold: 0.055\n",
      "Total runtime: 1.366\n"
     ]
    },
    {
     "data": {
      "image/png": "[encoded data removed]",
      "text/plain": [
       "<Figure size 648x432 with 1 Axes>"
      ]
     },
     "metadata": {
      "needs_background": "light"
     },
     "output_type": "display_data"
    }
   ],
   "source": [
    "# generating random index for splitting dataset\n",
    "def split_data(num_fold):\n",
    "    size = len(bdata_train)\n",
    "    batch_size = int(1/num_fold * size)\n",
    "\n",
    "    idx = np.arange(0, size, 1)\n",
    "    idx = np.random.permutation(idx)\n",
    "    idx_dict = {}\n",
    "    for i in range(num_fold):\n",
    "        batch_idx = idx[i*batch_size:(i+1)*batch_size]\n",
    "        if i == (num_fold-1):\n",
    "            batch_idx = idx[i*batch_size:]\n",
    "        idx_dict.update({i: batch_idx})\n",
    "    return idx_dict\n",
    "\n",
    "\n",
    "# cross-validation\n",
    "num_fold = 25\n",
    "idx_dict = split_data(num_fold)\n",
    "idx = bdata_train_standardized.index\n",
    "\n",
    "rmse_collector = []\n",
    "runtime_collector = []\n",
    "for i in range(num_fold):\n",
    "    val_batch = idx_dict.get(i)\n",
    "    train_batch = list(set(idx).difference(set(val_batch)))\n",
    "#     print(len(val_batch), len(train_batch), val_batch[:5], train_batch[:5])\n",
    "\n",
    "    rmse_test, _ , runtime = nneighbor(bdata_train_standardized.iloc[train_batch, :], btarget_train[train_batch], \n",
    "                             bdata_train_standardized.iloc[val_batch, :], btarget_train[val_batch], \n",
    "                             L=2, output_runtime=False)\n",
    "    rmse_collector.append(rmse_test)\n",
    "    runtime_collector.append(runtime)\n",
    "    \n",
    "# plot\n",
    "fig = plt.figure(figsize=(9, 6))\n",
    "ax = fig.add_subplot()\n",
    "plt.hist(rmse_collector)\n",
    "plt.axvline(np.mean(rmse_collector), color='firebrick', linestyle='dashed', linewidth=1)\n",
    "plt.text(np.mean(rmse_collector)+0.2, 5, 'Mean: %5.3f' % np.mean(rmse_collector), fontsize=12)\n",
    "ax.set_xlabel(\"RMSE\")\n",
    "ax.set_ylabel(\"Frequency\")\n",
    "ax.set_title(\"2.5 Distribution of RSME, Nearset Neighbors, 25-fold Cross Validation\", fontsize=16)\n",
    "\n",
    "print(\"Average runtime per fold: %5.3f\" % np.mean(runtime_collector))\n",
    "print(\"Total runtime: %5.3f\" % np.sum(runtime_collector))"
   ]
  },
  {
   "cell_type": "markdown",
   "metadata": {},
   "source": [
    "*Observations*\n",
    "- The average RMSE over 25-fold cross validation is 6.737. The number is lower than test RSME (7.456) in previous section (2.3). \n",
    "- From the distribution of validation RSME, we can say it's pretty unstable, and that make sense because there are only 15 datapoints in each fold (and 19 datapoints in the last fold)"
   ]
  },
  {
   "cell_type": "markdown",
   "metadata": {},
   "source": [
    "### 2.6 K-Nearest Neighbors Algorithm\n",
    "\n",
    "Implement the K-Nearest Neighbors algorithm.  Use 10-fold cross validation and L2 normalization, and the same features as in 2.5. Report the RMSE for K=5 and the running time of the algorithm. What do you observe?"
   ]
  },
  {
   "cell_type": "code",
   "execution_count": 20,
   "metadata": {
    "jupyter": {
     "outputs_hidden": true
    }
   },
   "outputs": [
    {
     "name": "stdout",
     "output_type": "stream",
     "text": [
      "Average runtime per fold: 0.139\n",
      "Total runtime: 1.392\n"
     ]
    },
    {
     "data": {
      "image/png": "[encoded data removed]",
      "text/plain": [
       "<Figure size 648x432 with 1 Axes>"
      ]
     },
     "metadata": {
      "needs_background": "light"
     },
     "output_type": "display_data"
    }
   ],
   "source": [
    "\"\"\"\n",
    "Function\n",
    "--------\n",
    "K-Nearest Neighbors\n",
    "\n",
    "Implementation of nearest neighbors algorithm.\n",
    "\n",
    "Parameters\n",
    "----------\n",
    "x_train: array\n",
    "    Array of numerical feature values for training the model.\n",
    "y_train: array\n",
    "    Array of numerical output values for training the model.\n",
    "x_test: array\n",
    "    Array of numerical feature values for testing the model.\n",
    "y_test: array\n",
    "    Array of numerical output values for testing the model.\n",
    "L: int\n",
    "    Order of L-norm function used for calculating distance.\n",
    "K: int\n",
    "    Neighbors to include in algorithm\n",
    "    \n",
    "Returns\n",
    "-------\n",
    "rmse : int\n",
    "    Value of the RMSE from data.\n",
    "\"\"\"\n",
    "\n",
    "def knn(x_train, y_train, x_test, y_test, L, K, feature_set=[\"CRIM\", \"RM\", \"ZN\"], output_runtime=True):\n",
    "    start_time = time.time()\n",
    "    \n",
    "    # manipulating data\n",
    "    x_train = np.array(x_train[feature_set])\n",
    "    x_test = np.array(x_test[feature_set])\n",
    "    n_train = len(x_train)\n",
    "    n_test = len(x_test)\n",
    "    \n",
    "    # predict on testing data\n",
    "    y_pred_test = []\n",
    "    for i in range(n_test):\n",
    "        dist = []\n",
    "        for j in range(n_train):\n",
    "            dist.append(distance(x_test[i], x_train[j], L))\n",
    "        nearest_idx = pd.Series(dist).sort_values().index[:K]\n",
    "        prediction = y_train[nearest_idx].mean()\n",
    "        y_pred_test.append(prediction)\n",
    "        \n",
    "    rmse = compute_rmse(y_pred_test, y_test)\n",
    "    runtime = time.time() - start_time\n",
    "    if output_runtime:\n",
    "        print(\"Time taken: %.2f seconds\" % runtime)\n",
    "\n",
    "    return rmse, y_pred_test, runtime\n",
    "\n",
    "\n",
    "# cross-validation\n",
    "num_fold = 10\n",
    "idx_dict = split_data(num_fold)\n",
    "idx = bdata_train_standardized.index\n",
    "\n",
    "rmse_collector = []\n",
    "runtime_collector = []\n",
    "for i in range(num_fold):\n",
    "    \n",
    "    # index\n",
    "    val_batch = idx_dict.get(i)\n",
    "    train_batch = list(set(idx).difference(set(val_batch)))\n",
    "    \n",
    "    # model\n",
    "    rmse_test, _, runtime = knn(bdata_train_standardized.iloc[train_batch, :], btarget_train[train_batch], \n",
    "                       bdata_train_standardized.iloc[val_batch, :], btarget_train[val_batch], \n",
    "                       L=2, K=5, output_runtime=False)\n",
    "    rmse_collector.append(rmse_test)\n",
    "    runtime_collector.append(runtime)\n",
    "    \n",
    "# plot\n",
    "fig = plt.figure(figsize=(9, 6))\n",
    "ax = fig.add_subplot()\n",
    "plt.hist(rmse_collector)\n",
    "plt.axvline(np.mean(rmse_collector), color='firebrick', linestyle='dashed', linewidth=1)\n",
    "plt.text(np.mean(rmse_collector)+0.1, 2, 'Mean: %5.3f' % np.mean(rmse_collector), fontsize=12)\n",
    "ax.set_xlabel(\"RMSE\")\n",
    "ax.set_ylabel(\"Frequency\")\n",
    "ax.set_title(\"2.6 Distribution of RSME, K Nearset Neighbors (K=5), 10-fold Cross Validation\", fontsize=16)\n",
    "\n",
    "print(\"Average runtime per fold: %5.3f\" % np.mean(runtime_collector))\n",
    "print(\"Total runtime: %5.3f\" % np.sum(runtime_collector))"
   ]
  },
  {
   "cell_type": "markdown",
   "metadata": {},
   "source": [
    "*Observations*\n",
    "\n",
    "- The mean validation RMSE became much smaller than in 2.5, but it didn't take longer runtime than 2.5.\n",
    "- The distribution is still unstable due to the size of the dataset."
   ]
  },
  {
   "cell_type": "markdown",
   "metadata": {},
   "source": [
    "### 2.7 Using cross validation to find K\n",
    "\n",
    "Compute the cross-validated RMSE for values of K between 1 and 25 using 10-fold cross-validation and L2 normalization.  Use the following features in your model: `CRIM, ZN, RM, AGE, DIS, TAX`.  Create a graph that shows how cross-validated RMSE changes as K increases from 1 to 25.  Label your axes, and summarize what you see.  What do you think is a reasonable choice of K for this model?\n",
    "\n",
    "Finally, report the test RMSE using the value of K that minimized the cross-validated RMSE. (Continue to use L2 normalization and the same set of features). How does the test RMSE compare to the cross-validated RMSE, and is this what you expected? How does the test RMSE compare to the test RMSE from 2.4, and is this what you expected?"
   ]
  },
  {
   "cell_type": "code",
   "execution_count": 21,
   "metadata": {
    "collapsed": true,
    "jupyter": {
     "outputs_hidden": true
    }
   },
   "outputs": [
    {
     "ename": "NameError",
     "evalue": "name 'rmse_df' is not defined",
     "output_type": "error",
     "traceback": [
      "\u001b[0;31m---------------------------------------------------------------------------\u001b[0m",
      "\u001b[0;31mNameError\u001b[0m                                 Traceback (most recent call last)",
      "\u001b[0;32m<ipython-input-21-df03aa8e00fe>\u001b[0m in \u001b[0;36m<module>\u001b[0;34m\u001b[0m\n\u001b[1;32m     26\u001b[0m \u001b[0mrmse_s\u001b[0m \u001b[0;34m=\u001b[0m \u001b[0mpd\u001b[0m\u001b[0;34m.\u001b[0m\u001b[0mSeries\u001b[0m\u001b[0;34m(\u001b[0m\u001b[0mrmse_collector\u001b[0m\u001b[0;34m)\u001b[0m\u001b[0;34m\u001b[0m\u001b[0;34m\u001b[0m\u001b[0m\n\u001b[1;32m     27\u001b[0m \u001b[0mruntime_s\u001b[0m \u001b[0;34m=\u001b[0m \u001b[0mpd\u001b[0m\u001b[0;34m.\u001b[0m\u001b[0mSeries\u001b[0m\u001b[0;34m(\u001b[0m\u001b[0mruntime_collector\u001b[0m\u001b[0;34m)\u001b[0m\u001b[0;34m\u001b[0m\u001b[0;34m\u001b[0m\u001b[0m\n\u001b[0;32m---> 28\u001b[0;31m \u001b[0mprint\u001b[0m\u001b[0;34m(\u001b[0m\u001b[0;34mf\"Minimum cross-validated RMSE: k={rmse_s.idxmin()}, RMSE={round(rmse_df[rmse_s.idxmin()], 3)}\"\u001b[0m\u001b[0;34m)\u001b[0m\u001b[0;34m\u001b[0m\u001b[0;34m\u001b[0m\u001b[0m\n\u001b[0m\u001b[1;32m     29\u001b[0m \u001b[0;34m\u001b[0m\u001b[0m\n\u001b[1;32m     30\u001b[0m \u001b[0mfig\u001b[0m\u001b[0;34m,\u001b[0m \u001b[0;34m(\u001b[0m\u001b[0max1\u001b[0m\u001b[0;34m,\u001b[0m \u001b[0max2\u001b[0m\u001b[0;34m)\u001b[0m \u001b[0;34m=\u001b[0m \u001b[0mplt\u001b[0m\u001b[0;34m.\u001b[0m\u001b[0msubplots\u001b[0m\u001b[0;34m(\u001b[0m\u001b[0;36m2\u001b[0m\u001b[0;34m,\u001b[0m \u001b[0mfigsize\u001b[0m\u001b[0;34m=\u001b[0m\u001b[0;34m(\u001b[0m\u001b[0;36m10\u001b[0m\u001b[0;34m,\u001b[0m \u001b[0;36m10\u001b[0m\u001b[0;34m)\u001b[0m\u001b[0;34m)\u001b[0m\u001b[0;34m\u001b[0m\u001b[0;34m\u001b[0m\u001b[0m\n",
      "\u001b[0;31mNameError\u001b[0m: name 'rmse_df' is not defined"
     ]
    }
   ],
   "source": [
    "# cross-validation\n",
    "num_fold = 10\n",
    "idx_dict = split_data(num_fold)\n",
    "idx = bdata_train_standardized.index\n",
    "\n",
    "rmse_collector = {}\n",
    "runtime_collector = {}\n",
    "\n",
    "for k in range(1, 26):\n",
    "    rmse_k = []\n",
    "    runtime_k = []\n",
    "    for i in range(num_fold):\n",
    "        val_batch = idx_dict.get(i)\n",
    "        train_batch = list(set(idx).difference(set(val_batch)))\n",
    "\n",
    "        rmse_test, _, runtime = knn(bdata_train_standardized.iloc[train_batch, :], btarget_train[train_batch], \n",
    "                                    bdata_train_standardized.iloc[val_batch, :], btarget_train[val_batch], \n",
    "                                    L=2, K=k, output_runtime=False,\n",
    "                                    feature_set = [\"CRIM\", \"ZN\", \"RM\", \"AGE\", \"DIS\", \"TAX\"])\n",
    "        rmse_k.append(rmse_test)\n",
    "        runtime_k.append(runtime)\n",
    "    rmse_collector.update({k: np.mean(rmse_k)})\n",
    "    runtime_collector.update({k: np.mean(runtime_k)})\n",
    "    "
   ]
  },
  {
   "cell_type": "code",
   "execution_count": 23,
   "metadata": {},
   "outputs": [
    {
     "name": "stdout",
     "output_type": "stream",
     "text": [
      "Minimum cross-validated RMSE: k=5, RMSE=4.961\n",
      "Time taken: 0.56 seconds\n",
      "test RMSE of KNN (K=2): 5.913\n"
     ]
    },
    {
     "data": {
      "image/png": "[encoded data removed]",
      "text/plain": [
       "<Figure size 720x720 with 2 Axes>"
      ]
     },
     "metadata": {
      "needs_background": "light"
     },
     "output_type": "display_data"
    }
   ],
   "source": [
    "# plot\n",
    "rmse_s = pd.Series(rmse_collector)\n",
    "runtime_s = pd.Series(runtime_collector)\n",
    "print(f\"Minimum cross-validated RMSE: k={rmse_s.idxmin()}, RMSE={round(rmse_s[rmse_s.idxmin()], 3)}\")\n",
    "\n",
    "fig, (ax1, ax2) = plt.subplots(2, figsize=(10, 10))\n",
    "ax1.bar(rmse_s.index, rmse_s)\n",
    "ax1.set_title('2.7 Cross-validation RMSE of K Nearset Neighbors, 10-fold', fontsize=16)\n",
    "ax1.set_xlabel('K', fontsize=12)\n",
    "ax2.bar(runtime_s.index, runtime_s)\n",
    "ax2.set_title('2.7 Cross-validation Runtime of K Nearset Neighbors, 10-fold', fontsize=16)\n",
    "ax2.set_xlabel('K', fontsize=12)\n",
    "\n",
    "\n",
    "# run testing dataset\n",
    "rmse_test, _, _ = knn(bdata_train_standardized, btarget_train, \n",
    "                            bdata_test_standardized, btarget_test, \n",
    "                            L=2, K=5, output_runtime=True,\n",
    "                            feature_set = [\"CRIM\", \"ZN\", \"RM\", \"AGE\", \"DIS\", \"TAX\"])\n",
    "print(\"test RMSE of KNN (K=2): %5.3f\" % rmse_test)"
   ]
  },
  {
   "cell_type": "markdown",
   "metadata": {},
   "source": [
    "*Observations*\n",
    "\n",
    "- K=5 has the least mean cross-validated RMSE and should be the best choice of K for this model.\n",
    "- Test RSME of this model is 5.913. It's higher compare to cross-validated RMSE, but it's way smaller compare to 2.4. Better result is expected because we optimized the choice of K (from K=1 -> K=5), the model gains the ability to generalize on testing datasets."
   ]
  },
  {
   "cell_type": "markdown",
   "metadata": {},
   "source": [
    "### Extra-Credit: Forward selection\n",
    "\n",
    "Thus far the choice of predictor variables has been rather arbitrary. For extra credit, implement a basic [forward selection](https://see.stanford.edu/materials/aimlcs229/cs229-notes5.pdf) algorithm to progressively include features that decrease the cross-validated RMSE of the model. Note that the optimal value of K may be different for each model, so you may want to use cross-validation to choose K each time (but it is also fine if you fix K at the optimal value from 2.7).  Create a graph that shows RMSE as a function of the number of features in the model. Label each point on the x-axis with the name of the feature that is added at that step in the forward selection algorithm. *(For instance, if the optimal single-feature model has CRIM with RMSE = 10, and the optimal two-feature model has CRIM+ZN with RMSE=9, the first x-axis label will say CRIM and the second x-axis lable with say ZN)*"
   ]
  },
  {
   "cell_type": "code",
   "execution_count": null,
   "metadata": {
    "jupyter": {
     "outputs_hidden": true
    }
   },
   "outputs": [],
   "source": [
    "# enter your code here"
   ]
  }
 ],
 "metadata": {
  "kernelspec": {
   "display_name": "Python 3",
   "language": "python",
   "name": "python3"
  },
  "language_info": {
   "codemirror_mode": {
    "name": "ipython",
    "version": 3
   },
   "file_extension": ".py",
   "mimetype": "text/x-python",
   "name": "python",
   "nbconvert_exporter": "python",
   "pygments_lexer": "ipython3",
   "version": "3.8.8"
  }
 },
 "nbformat": 4,
 "nbformat_minor": 4
}
