{
 "cells": [
  {
   "cell_type": "markdown",
   "metadata": {},
   "source": [
    "# Problem Set 3\n",
    "\n",
    "### Before You Start\n",
    "\n",
    "Make sure the following libraries load correctly (hit Ctrl-Enter). Note that while you are loading several powerful libraries, including machine learning libraries, the goal of this problem set is to implement several algorithms from scratch. In particular, you should *not* be using any built-in libraries for nearest neighbors, distance metrics, or cross-validation -- your mission is to write those algorithms in Python! Part 1 will be relatively easy; Part 2 will take more time."
   ]
  },
  {
   "cell_type": "code",
   "execution_count": 2,
   "metadata": {
    "jupyter": {
     "outputs_hidden": true
    }
   },
   "outputs": [],
   "source": [
    "import IPython\n",
    "import numpy as np\n",
    "import scipy as sp\n",
    "import pandas as pd\n",
    "import matplotlib"
   ]
  },
  {
   "cell_type": "code",
   "execution_count": 3,
   "metadata": {
    "jupyter": {
     "outputs_hidden": true
    }
   },
   "outputs": [],
   "source": [
    "%matplotlib inline  \n",
    "import matplotlib.pyplot as plt  "
   ]
  },
  {
   "cell_type": "markdown",
   "metadata": {},
   "source": [
    "---\n",
    "\n",
    "## Introduction to the assignment\n",
    "\n",
    "For this assignment, you will be using the [Boston Housing Prices Data Set](http://www.kellogg.northwestern.edu/faculty/weber/emp/_session_3/boston.htm).  Please read about the dataset carefully before continuing.  Use the following commands to load the dataset:\n",
    "\n",
    "*NOTE - This dataset is similar to the one you used in PS1; we are just using a different method to load it this time. The column names and their order will remain the same for this dataset as was in PS1.*"
   ]
  },
  {
   "cell_type": "code",
   "execution_count": 3,
   "metadata": {
    "collapsed": true,
    "jupyter": {
     "outputs_hidden": true
    }
   },
   "outputs": [],
   "source": [
    "# load Boston housing data set\n",
    "data = np.loadtxt('data.txt')\n",
    "target = np.loadtxt('target.txt')"
   ]
  },
  {
   "cell_type": "markdown",
   "metadata": {},
   "source": [
    "---\n",
    "\n",
    "## Part 1: Experimental Setup\n",
    "\n",
    "The goal of the next few sections is to design an experiment to predict the median home value for an instance in the data.\n",
    "Before beginning the \"real\" work, refamiliarize yourself with the dataset."
   ]
  },
  {
   "cell_type": "markdown",
   "metadata": {},
   "source": [
    "### 1.1 Begin by writing a function to compute the Root Mean Squared Error for a list of numbers\n",
    "\n",
    "You can find the sqrt function in the Numpy package. Furthermore the details of RMSE can be found on [Wikipedia](http://en.wikipedia.org/wiki/Root-mean-square_deviation). Do not use a built-in function  to compute RMSE, other than numpy functions like `sqrt` and if needed, `sum` or other relevant ones."
   ]
  },
  {
   "cell_type": "code",
   "execution_count": 4,
   "metadata": {
    "collapsed": true,
    "jupyter": {
     "outputs_hidden": true
    }
   },
   "outputs": [],
   "source": [
    "\"\"\"\n",
    "Function\n",
    "--------\n",
    "compute_rmse\n",
    "\n",
    "Given two arrays, one of actual values and one of predicted values,\n",
    "compute the Roote Mean Squared Error\n",
    "\n",
    "Parameters\n",
    "----------\n",
    "predictions : array\n",
    "    Array of numerical values corresponding to predictions for each of the N observations\n",
    "\n",
    "yvalues : array\n",
    "    Array of numerical values corresponding to the actual values for each of the N observations\n",
    "\n",
    "Returns\n",
    "-------\n",
    "rmse : int\n",
    "    Root Mean Squared Error of the prediction\n",
    "\n",
    "Example\n",
    "-------\n",
    ">>> print(compute_rmse((4,6,3),(2,1,4)))\n",
    "3.16\n",
    "\"\"\"\n",
    "def compute_rmse(predictions, yvalues):\n",
    "    temp = list(map(lambda i, j : (i-j)**2, predictions, yvalues))\n",
    "    rmse = np.sqrt(sum(temp)/len(predictions))\n",
    "    return rmse"
   ]
  },
  {
   "cell_type": "code",
   "execution_count": 5,
   "metadata": {
    "collapsed": true,
    "jupyter": {
     "outputs_hidden": true
    }
   },
   "outputs": [
    {
     "data": {
      "text/plain": [
       "3.1622776601683795"
      ]
     },
     "execution_count": 5,
     "metadata": {},
     "output_type": "execute_result"
    }
   ],
   "source": [
    "compute_rmse((4,6,3),(2,1,4))"
   ]
  },
  {
   "cell_type": "markdown",
   "metadata": {},
   "source": [
    "### 1.2 Divide your data into training and testing datasets\n",
    "\n",
    "Randomly select 75% of the data and put this in a training dataset (call this \"bdata_train\"), and place the remaining 25% in a testing dataset (call this \"bdata_test\"). Do not use built-in functions.\n",
    "\n",
    "To perform any randomized operation, only use functions in the *numpy library (np.random)*. Do not use other packages for random functions."
   ]
  },
  {
   "cell_type": "code",
   "execution_count": 6,
   "metadata": {},
   "outputs": [
    {
     "data": {
      "text/html": [
       "<div>\n",
       "<style scoped>\n",
       "    .dataframe tbody tr th:only-of-type {\n",
       "        vertical-align: middle;\n",
       "    }\n",
       "\n",
       "    .dataframe tbody tr th {\n",
       "        vertical-align: top;\n",
       "    }\n",
       "\n",
       "    .dataframe thead th {\n",
       "        text-align: right;\n",
       "    }\n",
       "</style>\n",
       "<table border=\"1\" class=\"dataframe\">\n",
       "  <thead>\n",
       "    <tr style=\"text-align: right;\">\n",
       "      <th></th>\n",
       "      <th>CRIM</th>\n",
       "      <th>ZN</th>\n",
       "      <th>INDUS</th>\n",
       "      <th>CHAS</th>\n",
       "      <th>NOX</th>\n",
       "      <th>RM</th>\n",
       "      <th>AGE</th>\n",
       "      <th>DIS</th>\n",
       "      <th>RAD</th>\n",
       "      <th>TAX</th>\n",
       "      <th>PTRATIO</th>\n",
       "      <th>B</th>\n",
       "      <th>LSTAT</th>\n",
       "      <th>MEDV</th>\n",
       "    </tr>\n",
       "  </thead>\n",
       "  <tbody>\n",
       "    <tr>\n",
       "      <th>0</th>\n",
       "      <td>0.218960</td>\n",
       "      <td>18.0</td>\n",
       "      <td>2.629288</td>\n",
       "      <td>0.0</td>\n",
       "      <td>0.869420</td>\n",
       "      <td>6.875396</td>\n",
       "      <td>65.2</td>\n",
       "      <td>4.347275</td>\n",
       "      <td>1.0</td>\n",
       "      <td>307.0</td>\n",
       "      <td>15.534711</td>\n",
       "      <td>397.462329</td>\n",
       "      <td>5.715647</td>\n",
       "      <td>24.0</td>\n",
       "    </tr>\n",
       "    <tr>\n",
       "      <th>1</th>\n",
       "      <td>0.141576</td>\n",
       "      <td>0.0</td>\n",
       "      <td>7.315612</td>\n",
       "      <td>0.0</td>\n",
       "      <td>0.549711</td>\n",
       "      <td>6.499894</td>\n",
       "      <td>78.9</td>\n",
       "      <td>5.315684</td>\n",
       "      <td>2.0</td>\n",
       "      <td>255.0</td>\n",
       "      <td>17.914131</td>\n",
       "      <td>397.012611</td>\n",
       "      <td>9.338417</td>\n",
       "      <td>21.6</td>\n",
       "    </tr>\n",
       "    <tr>\n",
       "      <th>2</th>\n",
       "      <td>0.380457</td>\n",
       "      <td>0.0</td>\n",
       "      <td>7.340354</td>\n",
       "      <td>0.0</td>\n",
       "      <td>0.697928</td>\n",
       "      <td>7.263489</td>\n",
       "      <td>61.1</td>\n",
       "      <td>5.356935</td>\n",
       "      <td>2.0</td>\n",
       "      <td>243.0</td>\n",
       "      <td>17.919989</td>\n",
       "      <td>396.628236</td>\n",
       "      <td>4.142473</td>\n",
       "      <td>34.7</td>\n",
       "    </tr>\n",
       "    <tr>\n",
       "      <th>3</th>\n",
       "      <td>0.313563</td>\n",
       "      <td>0.0</td>\n",
       "      <td>2.562407</td>\n",
       "      <td>0.0</td>\n",
       "      <td>0.599629</td>\n",
       "      <td>7.209732</td>\n",
       "      <td>45.8</td>\n",
       "      <td>6.103983</td>\n",
       "      <td>3.0</td>\n",
       "      <td>226.0</td>\n",
       "      <td>18.979527</td>\n",
       "      <td>398.564784</td>\n",
       "      <td>3.239272</td>\n",
       "      <td>33.4</td>\n",
       "    </tr>\n",
       "    <tr>\n",
       "      <th>4</th>\n",
       "      <td>0.330105</td>\n",
       "      <td>0.0</td>\n",
       "      <td>2.497337</td>\n",
       "      <td>0.0</td>\n",
       "      <td>0.476077</td>\n",
       "      <td>7.184111</td>\n",
       "      <td>54.2</td>\n",
       "      <td>6.264372</td>\n",
       "      <td>3.0</td>\n",
       "      <td>234.0</td>\n",
       "      <td>18.708888</td>\n",
       "      <td>399.487766</td>\n",
       "      <td>6.115159</td>\n",
       "      <td>36.2</td>\n",
       "    </tr>\n",
       "  </tbody>\n",
       "</table>\n",
       "</div>"
      ],
      "text/plain": [
       "       CRIM    ZN     INDUS  CHAS       NOX        RM   AGE       DIS  RAD  \\\n",
       "0  0.218960  18.0  2.629288   0.0  0.869420  6.875396  65.2  4.347275  1.0   \n",
       "1  0.141576   0.0  7.315612   0.0  0.549711  6.499894  78.9  5.315684  2.0   \n",
       "2  0.380457   0.0  7.340354   0.0  0.697928  7.263489  61.1  5.356935  2.0   \n",
       "3  0.313563   0.0  2.562407   0.0  0.599629  7.209732  45.8  6.103983  3.0   \n",
       "4  0.330105   0.0  2.497337   0.0  0.476077  7.184111  54.2  6.264372  3.0   \n",
       "\n",
       "     TAX    PTRATIO           B     LSTAT  MEDV  \n",
       "0  307.0  15.534711  397.462329  5.715647  24.0  \n",
       "1  255.0  17.914131  397.012611  9.338417  21.6  \n",
       "2  243.0  17.919989  396.628236  4.142473  34.7  \n",
       "3  226.0  18.979527  398.564784  3.239272  33.4  \n",
       "4  234.0  18.708888  399.487766  6.115159  36.2  "
      ]
     },
     "execution_count": 6,
     "metadata": {},
     "output_type": "execute_result"
    }
   ],
   "source": [
    "bdata = pd.concat([pd.DataFrame(data), pd.DataFrame(target)], axis = 1)\n",
    "bdata.columns = ['CRIM','ZN','INDUS','CHAS','NOX','RM','AGE','DIS','RAD','TAX','PTRATIO','B','LSTAT','MEDV']\n",
    "bdata.head()"
   ]
  },
  {
   "cell_type": "code",
   "execution_count": 7,
   "metadata": {
    "collapsed": true,
    "jupyter": {
     "outputs_hidden": true
    }
   },
   "outputs": [
    {
     "name": "stdout",
     "output_type": "stream",
     "text": [
      "Total examples: 506\n",
      "Number of training examples: 379\n",
      "Number of testing examples: 127\n"
     ]
    }
   ],
   "source": [
    "# leave the following line untouched, it will help ensure that your \"random\" split is the same \"random\" split used by the rest of the class\n",
    "np.random.seed(seed=13579)\n",
    "\n",
    "# enter your code here\n",
    "bdata = pd.concat([pd.DataFrame(data), pd.DataFrame(target)], axis = 1)\n",
    "train_percent = .75\n",
    "train_number = int(train_percent*len(bdata))\n",
    "print('Total examples: %i' % len(bdata))\n",
    "print('Number of training examples: %i' % train_number)\n",
    "print('Number of testing examples: %i' % (len(bdata) - train_number))\n",
    "\n",
    "ids = np.arange(0, len(bdata), 1)\n",
    "ids = np.random.permutation(ids)\n",
    "df_shuffled = bdata.iloc[ids]\n",
    "bdata_train = df_shuffled[:train_number]\n",
    "bdata_test = df_shuffled[train_number:]\n",
    "bdata_train.columns = ['CRIM','ZN','INDUS','CHAS','NOX','RM','AGE','DIS','RAD','TAX','PTRATIO','B','LSTAT','MEDV']\n",
    "bdata_test.columns = ['CRIM','ZN','INDUS','CHAS','NOX','RM','AGE','DIS','RAD','TAX','PTRATIO','B','LSTAT','MEDV']\n"
   ]
  },
  {
   "cell_type": "markdown",
   "metadata": {},
   "source": [
    "### 1.3 Use a very bad baseline for prediction, and compute RMSE\n",
    "\n",
    "Let's start by creating a very bad baseline model that predicts median home values as the averages of `MEDV` based on adjacency to Charles River. \n",
    "\n",
    "Specifically, create a model that predicts, for every observation X_i, the median home value as the average of the median home values of all houses in the **training set** that have the same adjacency value as the observation.\n",
    "\n",
    "For example - For an input observation where `CHAS==1`, the model should predict the `MEDV` as the mean of all `MEDV` values in the training set that also have `CHAS==1`.\n",
    "\n",
    "\n",
    "\n",
    "Once the model is built, do the following:\n",
    "\n",
    "1. Compute the RMSE of the training set.\n",
    "2. Now compute the RMSE of the test data set (but use the model you trained on the training set!).\n",
    "3. How does RMSE compare for training vs. testing datasets? Is this what you expected, and why?\n",
    "4. Create a scatter plot that shows the true value of each instance on the x-axis and the predicted value of each instance on the y-axis. Color the training instances in red and the test instances in blue. Make sure to label your axes appropriately, and add a legend to your figure to make clear which dots are which.\n",
    "5. Add code to your function to measure the running time of your algorithm. How long does it take to compute the predicted values for the test data?\n",
    "\n",
    "\n",
    "*NOTE - Be careful while dealing with floats and integers. Additionally, the `groupby` operation might come handy here.*"
   ]
  },
  {
   "cell_type": "code",
   "execution_count": 8,
   "metadata": {
    "collapsed": true,
    "jupyter": {
     "outputs_hidden": true
    }
   },
   "outputs": [
    {
     "name": "stdout",
     "output_type": "stream",
     "text": [
      "=======1.3.1=======\n",
      " rmse = 8.9634 \n",
      " runtime = 0.0037 seconds \n",
      "=======1.3.2=======\n",
      "rmse = 9.2927 \n",
      "runtime = 0.0016 seconds \n"
     ]
    },
    {
     "name": "stderr",
     "output_type": "stream",
     "text": [
      "/var/folders/2h/4fcst_952sn2rw58_smpkpzw0000gn/T/ipykernel_24636/4122629022.py:8: SettingWithCopyWarning: \n",
      "A value is trying to be set on a copy of a slice from a DataFrame.\n",
      "Try using .loc[row_indexer,col_indexer] = value instead\n",
      "\n",
      "See the caveats in the documentation: https://pandas.pydata.org/pandas-docs/stable/user_guide/indexing.html#returning-a-view-versus-a-copy\n",
      "  tr['predict_MEDV'] = tr['CHAS'].apply(lambda x: model.loc[1,'MEDV'] if x == 1 else model.loc[0,'MEDV'])\n",
      "/var/folders/2h/4fcst_952sn2rw58_smpkpzw0000gn/T/ipykernel_24636/4122629022.py:16: SettingWithCopyWarning: \n",
      "A value is trying to be set on a copy of a slice from a DataFrame.\n",
      "Try using .loc[row_indexer,col_indexer] = value instead\n",
      "\n",
      "See the caveats in the documentation: https://pandas.pydata.org/pandas-docs/stable/user_guide/indexing.html#returning-a-view-versus-a-copy\n",
      "  te['predict_MEDV'] = te['CHAS'].apply(lambda x: model.loc[1,'MEDV'] if x == 1 else model.loc[0,'MEDV'])\n"
     ]
    },
    {
     "data": {
      "text/plain": [
       "<matplotlib.legend.Legend at 0x149cf3250>"
      ]
     },
     "execution_count": 8,
     "metadata": {},
     "output_type": "execute_result"
    },
    {
     "data": {
      "image/png": "[encoded data removed]",
      "text/plain": [
       "<Figure size 432x288 with 1 Axes>"
      ]
     },
     "metadata": {
      "needs_background": "light"
     },
     "output_type": "display_data"
    }
   ],
   "source": [
    "import time\n",
    "\n",
    "# enter your code here\n",
    "# 1.3.1  Compute the RMSE of the training set\n",
    "start_time = time.time()\n",
    "tr = bdata_train[['CHAS','MEDV']]\n",
    "model = tr.groupby('CHAS').mean()\n",
    "tr['predict_MEDV'] = tr['CHAS'].apply(lambda x: model.loc[1,'MEDV'] if x == 1 else model.loc[0,'MEDV'])\n",
    "print('=======1.3.1=======')\n",
    "print(' rmse = %.4f ' % compute_rmse(tr['MEDV'],tr['predict_MEDV']))\n",
    "print(\" runtime = %.4f seconds \" % (time.time() - start_time))\n",
    "\n",
    "#1.3.2 compute the RMSE of the test data set\n",
    "start_time = time.time()\n",
    "te = bdata_test[['CHAS','MEDV']]\n",
    "te['predict_MEDV'] = te['CHAS'].apply(lambda x: model.loc[1,'MEDV'] if x == 1 else model.loc[0,'MEDV'])\n",
    "print('=======1.3.2=======')\n",
    "print('rmse = %.4f ' % compute_rmse(te['MEDV'],te['predict_MEDV']))\n",
    "print(\"runtime = %.4f seconds \" % (time.time() - start_time))\n",
    "\n",
    "# 1.3.4 scatter plot\n",
    "fig, ax = plt.subplots()\n",
    "\n",
    "plt.scatter(tr['MEDV'], tr['predict_MEDV'], color = 'red')\n",
    "plt.scatter(te['MEDV'], te['predict_MEDV'], color = 'blue')\n",
    "\n",
    "ax.set_ylabel('prediced value')\n",
    "ax.set_xlabel('true value')\n",
    "\n",
    "ax.legend(['training', 'test'])"
   ]
  },
  {
   "cell_type": "markdown",
   "metadata": {},
   "source": [
    "* 1.3.1 rmse = 8.9634\n",
    "* 1.3.2 rmse = 9.2927\n",
    "* 1.3.3 The RMSE of the test set is slightly lower (0.3) than the training set. Because the model was build by the data from the trainig set, it is not surprising that the test set has a smaller rmse.\n"
   ]
  },
  {
   "cell_type": "markdown",
   "metadata": {},
   "source": [
    "---\n",
    "\n",
    "## Part 2: Nearest Neighbors\n"
   ]
  },
  {
   "cell_type": "markdown",
   "metadata": {},
   "source": [
    "### 2.1 Nearest Neighbors: Distance function\n",
    "Let's try and build a machine learning algorithm to beat the \"Average Value\" baseline that you computed above.  Soon you will implement the Nearest Neighbor algorithm, but first you need to create a distance metric to measure the distance (and similarity) between two instances.  Write a generic function to compute the L-Norm distance (called the [*p*-norm][1] distance on Wikipedia). Verify that your function works by computing the Euclidean distance between the points (2,7) and (5,11), and then compute the Manhattan distance between (4,4) and (12,10).\n",
    "\n",
    "[1]: https://en.wikipedia.org/wiki/Norm_(mathematics)#p-norm"
   ]
  },
  {
   "cell_type": "code",
   "execution_count": 9,
   "metadata": {},
   "outputs": [],
   "source": [
    "\"\"\"\n",
    "Function\n",
    "--------\n",
    "distance\n",
    "\n",
    "Given two instances and a value for L, return the L-Norm distance between them\n",
    "\n",
    "Parameters\n",
    "----------\n",
    "x1, x2 : array\n",
    "    Array of numerical values corresponding to predictions for each of the N observations\n",
    "\n",
    "L: int\n",
    "    Value of L to use in computing distances\n",
    "\n",
    "Returns\n",
    "-------\n",
    "dist : int\n",
    "    The L-norm distance between instances\n",
    "\n",
    "Example\n",
    "-------\n",
    ">>> print(distance((2,7),(5,11),2))\n",
    "5\n",
    "\n",
    "\"\"\"\n",
    "def distance(x1, x2, L):\n",
    "    # your code here\n",
    "    temp = list(map(lambda i, j : (i-j)**L, x1, x2))\n",
    "    dist = np.sum(temp)**(1./L)\n",
    "    return dist"
   ]
  },
  {
   "cell_type": "code",
   "execution_count": 10,
   "metadata": {},
   "outputs": [
    {
     "name": "stdout",
     "output_type": "stream",
     "text": [
      "5.0\n"
     ]
    }
   ],
   "source": [
    "print(distance((2,7),(5,11),2))"
   ]
  },
  {
   "cell_type": "markdown",
   "metadata": {},
   "source": [
    "### 2.2 Basic Nearest Neighbor algorithm\n",
    "\n",
    "Your next task is to implement a basic nearest neighbor algorithm from scratch.  Your simple model will use three input features (`CRIM, RM and ZN`) and a single output (`MEDV`).  In other words, you are modelling the relationship between median home value and crime rates, house size and the proportion of residential land zoned for lots.\n",
    "\n",
    "Use your training data (bdata_train) to \"fit\" your model, although as you know, with Nearest Neighbors there is no real training, you just need to keep your training data in memory.  Write a function that predicts the median home value using the nearest neighbor algorithm we discussed in class.  Since this is a small dataset, you can simply compare your test instance to every instance in the training set, and return the `MEDV` value of the closest training instance.  Have your function take L as an input, where L is passed to the distance function. Use L=2 for all questions henceforth unless explicitly stated otherwise.\n",
    "\n",
    "Make sure to do the following - \n",
    "1. Fill in the function specification below\n",
    "2. Use your algorithm to predict the median home value of every instance in the test set. Report the RMSE (\"test RMSE\")\n",
    "3. Use your algorithm to predict the median home value of every instance in the training set and report the training RMSE.\n",
    "4. Create a scatter plot that shows the true value of each instance on the x-axis and the predicted value of each instance on the y-axis. Color the training instances in red and the test instances in blue. \n",
    "5. Report an estimate of the total time taken by your code to predict the nearest neighbors for all the values in the test data set.\n",
    "6. How does the performance (test RMSE and total runtime) of your nearest neighbors algorithm compare to the baseline in part 1.3?"
   ]
  },
  {
   "cell_type": "code",
   "execution_count": 11,
   "metadata": {
    "collapsed": true,
    "jupyter": {
     "outputs_hidden": true
    }
   },
   "outputs": [
    {
     "name": "stdout",
     "output_type": "stream",
     "text": [
      "=======2.2.2=======\n",
      "Time taken: 0.57 seconds\n",
      "rmse = 0.0000\n",
      "=======2.2.3=======\n",
      "Time taken: 0.19 seconds\n",
      "rmse = 7.1150\n"
     ]
    },
    {
     "data": {
      "text/plain": [
       "<matplotlib.legend.Legend at 0x149c684c0>"
      ]
     },
     "execution_count": 11,
     "metadata": {},
     "output_type": "execute_result"
    },
    {
     "data": {
      "image/png": "[encoded data removed]",
      "text/plain": [
       "<Figure size 432x288 with 1 Axes>"
      ]
     },
     "metadata": {
      "needs_background": "light"
     },
     "output_type": "display_data"
    }
   ],
   "source": [
    "\"\"\"\n",
    "Function\n",
    "--------\n",
    "Nearest Neighbors\n",
    "\n",
    "Implementation of nearest neighbors algorithm.\n",
    "\n",
    "Parameters\n",
    "----------\n",
    "x_train: array\n",
    "    Array of numerical feature values for training the model.   #CRIM, RM, ZN of training set\n",
    "y_train: array\n",
    "    Array of numerical output values for training the model.    #MEDV of training set\n",
    "x_test: array\n",
    "    Array of numerical feature values for testing the model.   #CRIM, RM, ZN of test set\n",
    "y_test: array\n",
    "    Array of numerical output values for testing the model.   #MEDV of test set\n",
    "L: int\n",
    "    Order of L-norm function used for calculating distance.\n",
    "\n",
    "Returns\n",
    "-------\n",
    "rmse : int\n",
    "    Value of the RMSE from data.\n",
    "\"\"\"\n",
    "\n",
    "def nneighbor(x_train, y_train, x_test, y_test, L):\n",
    "    start_time = time.time()\n",
    "    #your code here\n",
    "    closest_points = []\n",
    "    for i in range(len(x_test)):\n",
    "        min_dist = np.inf\n",
    "        min_idx = 0\n",
    "        #dists = np.sqrt(np.sum((x_test[i] - x_train[:])**2, axis=1))\n",
    "        for j in range(len(x_train)):\n",
    "            temp = distance(x_test[i], x_train[j], L)\n",
    "            #print(j)\n",
    "            if temp < min_dist:\n",
    "                min_dist = temp\n",
    "                min_idx = j\n",
    "        closest_points.append(y_train[min_idx])\n",
    "\n",
    "    rmse = compute_rmse(closest_points, y_test)\n",
    "\n",
    "    print(\"Time taken: {:.2f} seconds\".format(time.time() - start_time))\n",
    "    return rmse\n",
    "\n",
    "#your additional code here\n",
    "\n",
    "x_test = np.array(bdata_test[['CRIM', 'RM', 'ZN']])\n",
    "y_test = np.array(bdata_test['MEDV'])\n",
    "x_train = np.array(bdata_train[['CRIM', 'RM', 'ZN']])\n",
    "y_train = np.array(bdata_train['MEDV'])\n",
    "\n",
    "# 2.2.2 \n",
    "print('=======2.2.2=======')\n",
    "print('rmse = %.4f' % nneighbor(x_train, y_train, x_train, y_train, 2))\n",
    "\n",
    "# 2.2.3\n",
    "print('=======2.2.3=======')\n",
    "print('rmse = %.4f' % nneighbor(x_train, y_train, x_test, y_test, 2))\n",
    "\n",
    "# 2.2.4 scatter plot\n",
    "def nneighbor_array(x_train, y_train, x_test, L): # the function returns a list\n",
    "    #your code here\n",
    "    closest_points = []\n",
    "    for i in range(len(x_test)):\n",
    "        min_dist = np.inf\n",
    "        min_idx = 0\n",
    "        for j in range(len(x_train)):\n",
    "            temp = distance(x_test[i], x_train[j], L)\n",
    "            if temp < min_dist:\n",
    "                min_dist = temp\n",
    "                min_idx = j\n",
    "        closest_points.append(y_train[min_idx])\n",
    "    return closest_points\n",
    "\n",
    "fig, ax = plt.subplots()\n",
    "plt.scatter(y_train, nneighbor_array(x_train, y_train, x_train, 2), color = 'red')\n",
    "plt.scatter(y_test, nneighbor_array(x_train, y_train, x_test, 2), color = 'blue')\n",
    "\n",
    "ax.set_ylabel('prediced value')\n",
    "ax.set_xlabel('true value')\n",
    "\n",
    "ax.legend(['training', 'test'])"
   ]
  },
  {
   "cell_type": "markdown",
   "metadata": {},
   "source": [
    "* 2.2.5 0.57 seconds for the training set and 0.19 for the test set\n",
    "* 2.2.6 The performance of the nneighbors is much better than the baseline. In the nnneighbors, the predicted value is equal to the true value in the traning set (rmse=0). A more dioganol distribution and a smaller rmse (7.115) of the test set also indicates a better predcition compared with the baseline."
   ]
  },
  {
   "cell_type": "markdown",
   "metadata": {},
   "source": [
    "### 2.3 Results and Normalization\n",
    "\n",
    "If you were being astute, you would have noticed that we never normalized our features -- a big no-no with Nearest Neighbor algorithms.  Write a generic normalization function that takes as input an array of values for a given feature, and returns the standardized array (subtract the mean and divide by the standard deviation).\n",
    "\n",
    "Re-run the Nearest Neighbor algorithm on the normalized dataset (still just using `CRIM, RM and ZN` as input), and compare the RMSE from this method with your previous RMSE evaluations. What do you observe?\n",
    "\n",
    "*NOTE*: To normalize properly, you should compute the mean and standard deviation on the training set, and use the same values to normalize both the training and the testing dataset.\n",
    "\n",
    "*NOTE 2*: In this case, the normalization may or may not reduce the RMSE; don't get confused if you find that to be the case."
   ]
  },
  {
   "cell_type": "code",
   "execution_count": 12,
   "metadata": {
    "collapsed": true,
    "jupyter": {
     "outputs_hidden": true
    }
   },
   "outputs": [
    {
     "name": "stdout",
     "output_type": "stream",
     "text": [
      "=======2.3 training set=======\n",
      "Time taken: 0.77 seconds\n",
      "rmse  = 0.0000\n",
      "=======2.3 test set=======\n",
      "Time taken: 0.22 seconds\n",
      "rmse  = 7.4557\n"
     ]
    }
   ],
   "source": [
    "\"\"\"\n",
    "Function\n",
    "--------\n",
    "Normalize data\n",
    "\n",
    "Normalize all of the features in a data frame.\n",
    "\n",
    "Parameters\n",
    "----------\n",
    "raw_data: array\n",
    "    Array of numerical values to normalize.\n",
    "\n",
    "Returns\n",
    "-------\n",
    "normalized_data : array\n",
    "    The array with normalized values for all features\n",
    "\"\"\"\n",
    "# function returns the mean and std of the input array\n",
    "def MS(raw_data):\n",
    "    a=np.mean(raw_data) #compute the mean of each col\n",
    "    b=np.std(raw_data) #compute the std of each col\n",
    "    df = pd.DataFrame(np.vstack((a,b))) #concat\n",
    "    df.columns = raw_data.columns #add col names\n",
    "    return df\n",
    "    \n",
    "def normalize(raw_data, meanstd):\n",
    "    normalized_data = pd.DataFrame()\n",
    "    for col in raw_data.columns:\n",
    "        normalized_data[col] = (raw_data[col] - meanstd.loc[0, col])/meanstd.loc[1, col]\n",
    "    return normalized_data\n",
    "\n",
    "#your additional code here\n",
    "MeanStd = MS(bdata_train[['CRIM', 'RM', 'ZN']])\n",
    "x_train_norm = np.array(normalize(bdata_train[['CRIM', 'RM', 'ZN']], MeanStd))\n",
    "x_test_norm = np.array(normalize(bdata_test[['CRIM', 'RM', 'ZN']], MeanStd))\n",
    "\n",
    "print('=======2.3 training set=======')\n",
    "print('rmse  = %.4f' % nneighbor(x_train_norm, y_train, x_train_norm, y_train, 2))\n",
    "print('=======2.3 test set=======')\n",
    "print('rmse  = %.4f' % nneighbor(x_train_norm, y_train, x_test_norm, y_test, 2))"
   ]
  },
  {
   "cell_type": "markdown",
   "metadata": {},
   "source": [
    "* 2.3 The result doesn't change much. The RMSE slightly increases from 7.115 to 7.4557 after normalization."
   ]
  },
  {
   "cell_type": "markdown",
   "metadata": {},
   "source": [
    "### 2.4 Optimization\n",
    "\n",
    "A lot of the decisions we've made so far have been arbitrary.  Try to increase the performance of your nearest neighbor algorithm by adding features that you think might be relevant, and by using different values of L in the distance function.  Try a model that uses a different set of 2 features, then try at least one model that uses more than 4 features, then try using a different value of L.  If you're having fun, try a few different combinations of features and L! Use the test set to report the RMSE values.\n",
    "\n",
    "What combination of features and distance function provide the lowest RMSE on the test set?  Do your decisions affect the running time of the algorithm?\n",
    "\n",
    "*NOTE:* For this and all subsequent questions, you should use normalized features. "
   ]
  },
  {
   "cell_type": "code",
   "execution_count": 13,
   "metadata": {},
   "outputs": [
    {
     "name": "stdout",
     "output_type": "stream",
     "text": [
      "=======model using two different features ('DIS AGE')=======\n",
      "Time taken: 0.19 seconds\n",
      "rmse  = 12.0547\n",
      "======= model using 4 features ('DIS AGE CRIM RM') =======\n",
      "Time taken: 0.21 seconds\n",
      "rmse  = 6.5063\n",
      "======= model using L=4 & 4 features('DIS AGE CRIM RM') =======\n",
      "Time taken: 0.20 seconds\n",
      "rmse  = 6.3786\n"
     ]
    }
   ],
   "source": [
    "# model using two different features ('DIS', 'AGE')\n",
    "features = ['DIS', 'AGE']\n",
    "MS_m2 = MS(bdata_train[features])\n",
    "x_train_m2_norm = np.array(normalize(bdata_train[features], MS_m2))\n",
    "x_test_m2_norm = np.array(normalize(bdata_test[features], MS_m2))\n",
    "print('=======model using two different features (\\'DIS', 'AGE\\')=======')\n",
    "print('rmse  = %.4f' % nneighbor(x_train_m2_norm, y_train, x_test_m2_norm, y_test, 2))\n",
    "\n",
    "# model using 4 features ('DIS', 'AGE','CRIM','RM')\n",
    "features = ['DIS', 'AGE','CRIM','RM']\n",
    "MS_m3 = MS(bdata_train[features])\n",
    "x_train_m3_norm = np.array(normalize(bdata_train[features], MS_m3))\n",
    "x_test_m3_norm = np.array(normalize(bdata_test[features], MS_m3))\n",
    "print('======= model using 4 features (\\'DIS', 'AGE','CRIM','RM\\') =======')\n",
    "print('rmse  = %.4f' % nneighbor(x_train_m3_norm, y_train, x_test_m3_norm, y_test, 2))\n",
    "\n",
    "# model using L=4 & 4 features('DIS', 'AGE','CRIM','RM')\n",
    "print('======= model using L=4 & 4 features(\\'DIS', 'AGE','CRIM','RM\\') =======')\n",
    "print('rmse  = %.4f' % nneighbor(x_train_m3_norm, y_train, x_test_m3_norm, y_test, 4))\n"
   ]
  },
  {
   "cell_type": "markdown",
   "metadata": {},
   "source": [
    "* The combination of 4 features('DIS', 'AGE','CRIM','RM') and L=4 provide the lowest RMSE (6.3786).\n",
    "* The runtime observed here does not change a lot as the number of features and L change. "
   ]
  },
  {
   "cell_type": "markdown",
   "metadata": {},
   "source": [
    "### 2.5 Cross-Validation\n",
    "\n",
    "The more you tinkered with your features and distance function, the higher the risk that you overfit your training data.  One solution to this sort of overfitting is to use cross-validation (see K-fold [cross-validation][1].  Here you must implement a simple k-fold cross-validation algorithm yourself.  The function you write here will be used several more times in this problem set, so do your best to write efficient code! (Note that the sklearn package has a built-in [K-fold][2] iterator -- you should *not* be invoking that or any related algorithms in this section of the problem set.)\n",
    "\n",
    "Use 25-fold cross-validation and report the average RMSE for Nearest Neighbors using Euclidean distance with `CRIM,RM and ZN` input features, as well as the total running time for the full run of 25 folds.  In other words, randomly divide your training dataset (created in 1.2) into 25 equally-sized samples.\n",
    "\n",
    "For each of the 25 iterations (the \"folds\"), use 24 samples as \"training data\" (even though there is no training in k-NN!), and the remaining 1 sample for validation.  Compute the RMSE of that particular validation set, then move on to the next iteration.  \n",
    "\n",
    " - Report the average cross-validated RMSE across the 25 iterations. What do you observe?\n",
    " \n",
    " - Create a histogram of the RMSEs for the folds (there should be 25 of these). Additionally, use a horizontal line to mark the average cross-validated RMSE.\n",
    "\n",
    "\n",
    "[1]: http://en.wikipedia.org/wiki/Cross-validation_(statistics)\n",
    "[2]: http://scikit-learn.org/stable/modules/cross_validation.html#cross-validation\n",
    "\n",
    "\n",
    "\n",
    "NOTE: To perform any randomized operation, only use functions in the *numpy library (np.random)*. Do not use other packages for random functions.\n",
    "\n",
    "HINT: Running 25-fold cross validation might be time-consuming. Try starting with 5 folds."
   ]
  },
  {
   "cell_type": "code",
   "execution_count": 14,
   "metadata": {},
   "outputs": [
    {
     "name": "stdout",
     "output_type": "stream",
     "text": [
      "Time taken: 0.02 seconds\n",
      "Time taken: 0.02 seconds\n",
      "Time taken: 0.02 seconds\n",
      "Time taken: 0.02 seconds\n",
      "Time taken: 0.02 seconds\n",
      "Time taken: 0.02 seconds\n",
      "Time taken: 0.02 seconds\n",
      "Time taken: 0.02 seconds\n",
      "Time taken: 0.02 seconds\n",
      "Time taken: 0.02 seconds\n",
      "Time taken: 0.02 seconds\n",
      "Time taken: 0.02 seconds\n",
      "Time taken: 0.02 seconds\n",
      "Time taken: 0.02 seconds\n",
      "Time taken: 0.02 seconds\n",
      "Time taken: 0.02 seconds\n",
      "Time taken: 0.02 seconds\n",
      "Time taken: 0.02 seconds\n",
      "Time taken: 0.02 seconds\n",
      "Time taken: 0.02 seconds\n",
      "Time taken: 0.02 seconds\n",
      "Time taken: 0.02 seconds\n",
      "Time taken: 0.02 seconds\n",
      "Time taken: 0.02 seconds\n",
      "Time taken: 0.02 seconds\n",
      "======= 2.5 =======\n",
      "average cross-validated RMSE = 6.7738\n",
      "total runtime = 0.6733\n"
     ]
    },
    {
     "data": {
      "image/png": "[encoded data removed]",
      "text/plain": [
       "<Figure size 432x288 with 1 Axes>"
      ]
     },
     "metadata": {
      "needs_background": "light"
     },
     "output_type": "display_data"
    }
   ],
   "source": [
    "# the function extracts cross validation splits\n",
    "def cross_validation_split(df, folds):\n",
    "    ids = np.arange(0, len(df), 1)\n",
    "    np.random.shuffle(ids) # What's weird about this syntax?\n",
    "    df_shuffled = df.iloc[ids]\n",
    "\n",
    "    partitions = [int(x) for x in np.linspace(0, len(df), folds+1)]\n",
    "    splits = [df_shuffled[partitions[i]:partitions[i+1]] for i in range(len(partitions)-1)]\n",
    "\n",
    "    return splits\n",
    "\n",
    "# 25-fold cross validation\n",
    "nfolds = 25\n",
    "RMSE = []\n",
    "splits = cross_validation_split(bdata_train[['CRIM', 'RM', 'ZN','MEDV']],nfolds)\n",
    "\n",
    "start_time = time.time()\n",
    "\n",
    "for i in range(nfolds):\n",
    "    tr = [x for j,x in enumerate(splits) if j!=i]\n",
    "    train = pd.concat(tr)[['CRIM', 'RM', 'ZN']]\n",
    "    test = splits[i][['CRIM', 'RM', 'ZN']]\n",
    "    MeanStd = MS(train)\n",
    "\n",
    "    xtrain_norm = np.array(normalize(train, MeanStd))\n",
    "    ytrain =  np.array(pd.concat(tr)['MEDV'])\n",
    "    xtest_norm =  np.array(normalize(test, MeanStd))\n",
    "    ytest = np.array(splits[i]['MEDV'])\n",
    "    \n",
    "    RMSE.append(nneighbor(xtrain_norm, ytrain, xtest_norm, ytest, 2))\n",
    "\n",
    "\n",
    "# compute mean RMSE\n",
    "print('======= 2.5 =======')\n",
    "print('average cross-validated RMSE = %.4f' %np.mean(RMSE)) \n",
    "print('total runtime = %.4f' % (time.time() - start_time)) #total runtime\n",
    "\n",
    "#histogram\n",
    "fig, ax = plt.subplots()\n",
    "num_of_bins = len(RMSE)\n",
    "plt.hist(RMSE, color='green', bins = int(num_of_bins))\n",
    "plt.axvline(np.mean(RMSE), color='r', linestyle='dashed', linewidth=1) #add average line\n",
    "plt.text(np.mean(RMSE)*1.1, 2.5, 'Mean: {:.4f}'.format(np.mean(RMSE))) #add average text\n",
    "plt.title('Distribution of RMSEs of 25 folds')\n",
    "ax.set_ylabel('count')\n",
    "ax.set_xlabel('RMSEs')\n",
    "ax.spines['right'].set_visible(False)\n",
    "ax.spines['top'].set_visible(False)"
   ]
  },
  {
   "cell_type": "markdown",
   "metadata": {},
   "source": [
    "* 2.5 The average RMSE of my cross validation is 6.7738 and the total runtime is 0.6733 seconds. The distribution is not very equal, probably because there are only about 15 data in each fold."
   ]
  },
  {
   "cell_type": "markdown",
   "metadata": {},
   "source": [
    "### 2.6 K-Nearest Neighbors Algorithm\n",
    "\n",
    "Implement the K-Nearest Neighbors algorithm.  Use 10-fold cross validation and L2 normalization, and the same features as in 2.5. Report the RMSE for K=5 and the running time of the algorithm. What do you observe?"
   ]
  },
  {
   "cell_type": "code",
   "execution_count": 15,
   "metadata": {
    "collapsed": true,
    "jupyter": {
     "outputs_hidden": true
    }
   },
   "outputs": [
    {
     "name": "stdout",
     "output_type": "stream",
     "text": [
      "======= 2.6 =======\n",
      "average cross-validated RMSE = 5.2110\n",
      "average cross-validated runtime = 0.0548\n",
      "total runtime = 0.5862\n"
     ]
    }
   ],
   "source": [
    "\"\"\"\n",
    "Function\n",
    "--------\n",
    "K-Nearest Neighbors\n",
    "\n",
    "Implementation of nearest neighbors algorithm.\n",
    "\n",
    "Parameters\n",
    "----------\n",
    "x_train: array\n",
    "    Array of numerical feature values for training the model.\n",
    "y_train: array\n",
    "    Array of numerical output values for training the model.\n",
    "x_test: array\n",
    "    Array of numerical feature values for testing the model.\n",
    "y_test: array\n",
    "    Array of numerical output values for testing the model.\n",
    "L: int\n",
    "    Order of L-norm function used for calculating distance.\n",
    "K: int\n",
    "    Neighbors to include in algorithm\n",
    "    \n",
    "Returns\n",
    "-------\n",
    "rmse : int\n",
    "    Value of the RMSE from data.\n",
    "\"\"\"\n",
    "\n",
    "def knn(x_train, y_train, x_test, y_test, L, K):\n",
    "    start_time = time.time()\n",
    "    # enter your code here\n",
    "    closest_points = []\n",
    "    for i in range(len(x_test)):\n",
    "        temp = []\n",
    "        for j in range(len(x_train)):\n",
    "            temp.append(distance(x_test[i], x_train[j], L)) #list contain all the distance between x_test[i] and x_train\n",
    "        idxs = pd.Series(temp).sort_values().index[:K] #sort the list and pick the first k values' index\n",
    "        dist = np.mean(y_train[idxs]) # compute the mean distance of the k nearest points in the training set\n",
    "        closest_points.append(dist)\n",
    "\n",
    "    rmse = compute_rmse(closest_points, y_test)\n",
    "    runtime = time.time() - start_time\n",
    "    #print(\"Time taken: {:.2f} seconds\".format(time.time() - start_time))\n",
    "    return rmse, runtime\n",
    "\n",
    "# enter your additional code here\n",
    "nfolds = 10\n",
    "RMSE =[]\n",
    "RT = []\n",
    "splits = cross_validation_split(bdata_train[['CRIM', 'RM', 'ZN','MEDV']],nfolds)\n",
    "\n",
    "start_time = time.time()\n",
    "\n",
    "for i in range(nfolds):\n",
    "    tr = [x for j,x in enumerate(splits) if j!=i]\n",
    "    train = pd.concat(tr)[['CRIM', 'RM', 'ZN']]\n",
    "    test = splits[i][['CRIM', 'RM', 'ZN']]\n",
    "    MeanStd = MS(train)\n",
    "\n",
    "    xtrain_norm = np.array(normalize(train, MeanStd))\n",
    "    ytrain =  np.array(pd.concat(tr)['MEDV'])\n",
    "    xtest_norm =  np.array(normalize(test, MeanStd))\n",
    "    ytest = np.array(splits[i]['MEDV'])\n",
    "    \n",
    "    a, b = knn(xtrain_norm, ytrain, xtest_norm, ytest, 2, 5)\n",
    "    RMSE.append(a)\n",
    "    RT.append(b)\n",
    "    \n",
    "print('======= 2.6 =======')\n",
    "print('average cross-validated RMSE = %.4f' %np.mean(RMSE)) \n",
    "print('average cross-validated runtime = %.4f' %np.mean(RT))\n",
    "print('total runtime = %.4f' % (time.time() - start_time)) #total runtime\n",
    "\n"
   ]
  },
  {
   "cell_type": "markdown",
   "metadata": {},
   "source": [
    "* 2.6 Compared with the result of nneighbor algorithm, the RMSE of knn is smaller(from 6.7738 to 5.2110) and the total runtime  (from 0.6733 to 0.5862 sec) is smaller. "
   ]
  },
  {
   "cell_type": "markdown",
   "metadata": {},
   "source": [
    "### 2.7 Using cross validation to find K\n",
    "\n",
    "Compute the cross-validated RMSE for values of K between 1 and 25 using 10-fold cross-validation and L2 normalization.  Use the following features in your model: `CRIM, ZN, RM, AGE, DIS, TAX`.  Create a graph that shows how cross-validated RMSE changes as K increases from 1 to 25.  Label your axes, and summarize what you see.  What do you think is a reasonable choice of K for this model?\n",
    "\n",
    "Finally, report the test RMSE using the value of K that minimized the cross-validated RMSE. (Continue to use L2 normalization and the same set of features). How does the test RMSE compare to the cross-validated RMSE, and is this what you expected? How does the test RMSE compare to the test RMSE from 2.4, and is this what you expected?"
   ]
  },
  {
   "cell_type": "code",
   "execution_count": 23,
   "metadata": {},
   "outputs": [
    {
     "name": "stdout",
     "output_type": "stream",
     "text": [
      "======= cross-validated RMSE for values of K between 1 and 25 =======\n",
      "average cross-validated RMSE = 5.0870\n",
      "average cross-validated runtime = 0.0640\n",
      "total runtime = 17.1319\n"
     ]
    },
    {
     "data": {
      "image/png": "[encoded data removed]",
      "text/plain": [
       "<Figure size 432x288 with 1 Axes>"
      ]
     },
     "metadata": {
      "needs_background": "light"
     },
     "output_type": "display_data"
    }
   ],
   "source": [
    "# enter your code here\n",
    "nfolds = 10\n",
    "AVE_RMSE = []\n",
    "AVE_RT = []\n",
    "features = ['CRIM', 'RM', 'ZN', 'AGE', 'DIS', 'TAX']\n",
    "splits = cross_validation_split(bdata_train[['CRIM', 'RM', 'ZN', 'AGE', 'DIS', 'TAX','MEDV']],nfolds)\n",
    "\n",
    "start_time = time.time()\n",
    "\n",
    "for k in range(1, 26): # k from 1 to 25\n",
    "    RMSE = []\n",
    "    RT = []\n",
    "    for i in range(nfolds):\n",
    "        tr = [x for j,x in enumerate(splits) if j!=i]\n",
    "        train = pd.concat(tr)[features]\n",
    "        test = splits[i][features]\n",
    "        MeanStd = MS(train)\n",
    "\n",
    "        xtrain_norm = np.array(normalize(train, MeanStd))\n",
    "        ytrain =  np.array(pd.concat(tr)['MEDV'])\n",
    "        xtest_norm =  np.array(normalize(test, MeanStd))\n",
    "        ytest = np.array(splits[i]['MEDV'])\n",
    "            \n",
    "        a, b = knn(xtrain_norm, ytrain, xtest_norm, ytest, 2, k)\n",
    "        RMSE.append(a)\n",
    "        RT.append(b)\n",
    "        \n",
    "    AVE_RMSE.append(np.mean(RMSE))\n",
    "    AVE_RT.append(np.mean(RT))\n",
    "\n",
    "print('======= cross-validated RMSE for values of K between 1 and 25 =======')\n",
    "print('average cross-validated RMSE = %.4f' %np.mean(AVE_RMSE)) \n",
    "print('average cross-validated runtime = %.4f' %np.mean(AVE_RT)) \n",
    "print('total runtime = %.4f' % (time.time() - start_time)) #total runtime\n",
    "\n",
    "#lineplot\n",
    "fig, ax = plt.subplots()\n",
    "plt.plot(pd.Series(AVE_RMSE).index,pd.Series(AVE_RMSE),'-go')\n",
    "plt.title('Distribution of RMSEs with different K (1-25)')\n",
    "ax.set_ylabel('RMSE')\n",
    "ax.set_xlabel('K')\n",
    "ax.spines['right'].set_visible(False)\n",
    "ax.spines['top'].set_visible(False)"
   ]
  },
  {
   "cell_type": "code",
   "execution_count": 22,
   "metadata": {},
   "outputs": [
    {
     "name": "stdout",
     "output_type": "stream",
     "text": [
      "======= test set =======\n",
      "RMSE = 5.9130\n",
      "runtime = 0.2658\n"
     ]
    }
   ],
   "source": [
    "features = ['CRIM', 'RM', 'ZN', 'AGE', 'DIS', 'TAX']\n",
    "L = 2\n",
    "K = 5\n",
    "ms = MS(bdata_train[features])\n",
    "x_train_norm = np.array(normalize(bdata_train[features],ms))\n",
    "y_train = np.array(bdata_train['MEDV'])\n",
    "x_test_norm = np.array(normalize(bdata_test[features],ms))\n",
    "y_test = np.array(bdata_test['MEDV'])\n",
    "\n",
    "rmse, rt = knn(x_train_norm, y_train, x_test_norm, y_test, L, K)\n",
    "\n",
    "print('======= test set =======')\n",
    "print('RMSE = %.4f' % rmse) \n",
    "print('runtime = %.4f' % rt) "
   ]
  },
  {
   "cell_type": "markdown",
   "metadata": {},
   "source": [
    "* k = 5 is the reasonable choice of k for this model because it has the lowest RMSE.\n",
    "* Compared with the average cross-validated RMSE, the test RMSE is higher (5.913). The result is expected because the rmse values shown on the line plot are the average rmse values of all 10 folds of each k. \n",
    "* Compared with the minimun rmse I got in 2.4 (6.3786), the test RMSE is much smaller(5.9130). The lower rmse is expected because the value of K that minimized the cross-validated RMSE and knn rather than nneighbor is used here . "
   ]
  },
  {
   "cell_type": "markdown",
   "metadata": {},
   "source": [
    "### Extra-Credit: Forward selection\n",
    "\n",
    "Thus far the choice of predictor variables has been rather arbitrary. For extra credit, implement a basic [forward selection](https://see.stanford.edu/materials/aimlcs229/cs229-notes5.pdf) algorithm to progressively include features that decrease the cross-validated RMSE of the model. Note that the optimal value of K may be different for each model, so you may want to use cross-validation to choose K each time (but it is also fine if you fix K at the optimal value from 2.7).  Create a graph that shows RMSE as a function of the number of features in the model. Label each point on the x-axis with the name of the feature that is added at that step in the forward selection algorithm. *(For instance, if the optimal single-feature model has CRIM with RMSE = 10, and the optimal two-feature model has CRIM+ZN with RMSE=9, the first x-axis label will say CRIM and the second x-axis lable with say ZN)*"
   ]
  },
  {
   "cell_type": "code",
   "execution_count": 18,
   "metadata": {
    "collapsed": true,
    "jupyter": {
     "outputs_hidden": true
    }
   },
   "outputs": [],
   "source": [
    "# enter your code here"
   ]
  }
 ],
 "metadata": {
  "kernelspec": {
   "display_name": "Python 3 (ipykernel)",
   "language": "python",
   "name": "python3"
  },
  "language_info": {
   "codemirror_mode": {
    "name": "ipython",
    "version": 3
   },
   "file_extension": ".py",
   "mimetype": "text/x-python",
   "name": "python",
   "nbconvert_exporter": "python",
   "pygments_lexer": "ipython3",
   "version": "3.9.7"
  }
 },
 "nbformat": 4,
 "nbformat_minor": 4
}
