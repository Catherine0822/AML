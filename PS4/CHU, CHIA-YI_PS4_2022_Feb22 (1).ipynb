{
 "cells": [
  {
   "cell_type": "markdown",
   "metadata": {
    "id": "ckWwG9pdjl7E"
   },
   "source": [
    "\n",
    "This is a fun but challenging problem set. It will test your python skills, as well as your understanding of the material in class and in the readings. Start early and debug often! Some notes:\n",
    "\n",
    "* Part 1 is meant to be easy, so get through it quickly.\n",
    "* Part 2 (especially 2.1) will be difficult, but it is the lynchpin of this problem set to make sure to do it well and understand what you've done. If you find your gradient descent algorithm is taking more than a few minutes to complete, debug more, compare notes with others, and go to the Lab sessions (especially the sections on vectorized computation and computational efficiency).\n",
    "* Depending on how well you've done 2.1, parts 2.3 and 4.3 will be relatively painless or incredibly painful. \n",
    "\n",
    "* Part 4 (especially 4.3) will be computationally intensive. Don't leave this until the last minute, otherwise your code might be running when the deadline arrives.\n",
    "\n",
    "* Do the extra credit problems last. This can help you increase your scores"
   ]
  },
  {
   "cell_type": "markdown",
   "metadata": {
    "id": "9Bscj7wWjl7I"
   },
   "source": [
    "---\n",
    "\n",
    "## Introduction to the assignment\n",
    "\n",
    "As with the last assignment, you will be using the [Boston Housing Prices Data Set](https://archive.ics.uci.edu/ml/machine-learning-databases/housing/housing.names)."
   ]
  },
  {
   "cell_type": "code",
   "execution_count": 2,
   "metadata": {
    "id": "t0_LwTzXjl7J"
   },
   "outputs": [],
   "source": [
    "import IPython\n",
    "import numpy as np\n",
    "import scipy as sp\n",
    "import pandas as pd\n",
    "import matplotlib\n",
    "import sklearn\n",
    "\n",
    "%matplotlib inline  \n",
    "import matplotlib.pyplot as plt  \n",
    "import statsmodels.api as sm\n",
    "from sklearn.linear_model import LinearRegression\n",
    "from sklearn.metrics import mean_squared_error\n",
    "import statsmodels.formula.api as smf\n"
   ]
  },
  {
   "cell_type": "code",
   "execution_count": 288,
   "metadata": {
    "id": "72miT9Zhjl7K"
   },
   "outputs": [],
   "source": [
    "# Load you data the Boston Housing data into a dataframe\n",
    "# MEDV.txt containt the median house values and data.txt the other 13 features\n",
    "# in order [\"CRIM\", \"ZN\", \"INDUS\", \"CHAS\", \"NOX\",\"RM\",\"AGE\",\"DIS\",\"RAD\",\"TAX\",\"PTRATIO\",\"B\",\"LSTAT\"]\n",
    "# Your code here\n",
    "\n",
    "boston = pd.read_csv('data.txt', sep=\" \", header=None)\n",
    "boston.columns = [\"CRIM\", \"ZN\", \"INDUS\", \"CHAS\", \"NOX\",\"RM\",\"AGE\",\"DIS\",\"RAD\",\"TAX\",\"PTRATIO\",\"B\",\"LSTAT\"]\n"
   ]
  },
  {
   "cell_type": "code",
   "execution_count": 289,
   "metadata": {},
   "outputs": [
    {
     "data": {
      "text/html": [
       "<div>\n",
       "<style scoped>\n",
       "    .dataframe tbody tr th:only-of-type {\n",
       "        vertical-align: middle;\n",
       "    }\n",
       "\n",
       "    .dataframe tbody tr th {\n",
       "        vertical-align: top;\n",
       "    }\n",
       "\n",
       "    .dataframe thead th {\n",
       "        text-align: right;\n",
       "    }\n",
       "</style>\n",
       "<table border=\"1\" class=\"dataframe\">\n",
       "  <thead>\n",
       "    <tr style=\"text-align: right;\">\n",
       "      <th></th>\n",
       "      <th>CRIM</th>\n",
       "      <th>ZN</th>\n",
       "      <th>INDUS</th>\n",
       "      <th>CHAS</th>\n",
       "      <th>NOX</th>\n",
       "      <th>RM</th>\n",
       "      <th>AGE</th>\n",
       "      <th>DIS</th>\n",
       "      <th>RAD</th>\n",
       "      <th>TAX</th>\n",
       "      <th>PTRATIO</th>\n",
       "      <th>B</th>\n",
       "      <th>LSTAT</th>\n",
       "    </tr>\n",
       "  </thead>\n",
       "  <tbody>\n",
       "    <tr>\n",
       "      <th>0</th>\n",
       "      <td>0.218960</td>\n",
       "      <td>18.0</td>\n",
       "      <td>2.629288</td>\n",
       "      <td>0.0</td>\n",
       "      <td>0.869420</td>\n",
       "      <td>6.875396</td>\n",
       "      <td>65.2</td>\n",
       "      <td>4.347275</td>\n",
       "      <td>1.0</td>\n",
       "      <td>307.0</td>\n",
       "      <td>15.534711</td>\n",
       "      <td>397.462329</td>\n",
       "      <td>5.715647</td>\n",
       "    </tr>\n",
       "    <tr>\n",
       "      <th>1</th>\n",
       "      <td>0.141576</td>\n",
       "      <td>0.0</td>\n",
       "      <td>7.315612</td>\n",
       "      <td>0.0</td>\n",
       "      <td>0.549711</td>\n",
       "      <td>6.499894</td>\n",
       "      <td>78.9</td>\n",
       "      <td>5.315684</td>\n",
       "      <td>2.0</td>\n",
       "      <td>255.0</td>\n",
       "      <td>17.914131</td>\n",
       "      <td>397.012611</td>\n",
       "      <td>9.338417</td>\n",
       "    </tr>\n",
       "    <tr>\n",
       "      <th>2</th>\n",
       "      <td>0.380457</td>\n",
       "      <td>0.0</td>\n",
       "      <td>7.340354</td>\n",
       "      <td>0.0</td>\n",
       "      <td>0.697928</td>\n",
       "      <td>7.263489</td>\n",
       "      <td>61.1</td>\n",
       "      <td>5.356935</td>\n",
       "      <td>2.0</td>\n",
       "      <td>243.0</td>\n",
       "      <td>17.919989</td>\n",
       "      <td>396.628236</td>\n",
       "      <td>4.142473</td>\n",
       "    </tr>\n",
       "    <tr>\n",
       "      <th>3</th>\n",
       "      <td>0.313563</td>\n",
       "      <td>0.0</td>\n",
       "      <td>2.562407</td>\n",
       "      <td>0.0</td>\n",
       "      <td>0.599629</td>\n",
       "      <td>7.209732</td>\n",
       "      <td>45.8</td>\n",
       "      <td>6.103983</td>\n",
       "      <td>3.0</td>\n",
       "      <td>226.0</td>\n",
       "      <td>18.979527</td>\n",
       "      <td>398.564784</td>\n",
       "      <td>3.239272</td>\n",
       "    </tr>\n",
       "    <tr>\n",
       "      <th>4</th>\n",
       "      <td>0.330105</td>\n",
       "      <td>0.0</td>\n",
       "      <td>2.497337</td>\n",
       "      <td>0.0</td>\n",
       "      <td>0.476077</td>\n",
       "      <td>7.184111</td>\n",
       "      <td>54.2</td>\n",
       "      <td>6.264372</td>\n",
       "      <td>3.0</td>\n",
       "      <td>234.0</td>\n",
       "      <td>18.708888</td>\n",
       "      <td>399.487766</td>\n",
       "      <td>6.115159</td>\n",
       "    </tr>\n",
       "  </tbody>\n",
       "</table>\n",
       "</div>"
      ],
      "text/plain": [
       "       CRIM    ZN     INDUS  CHAS       NOX        RM   AGE       DIS  RAD  \\\n",
       "0  0.218960  18.0  2.629288   0.0  0.869420  6.875396  65.2  4.347275  1.0   \n",
       "1  0.141576   0.0  7.315612   0.0  0.549711  6.499894  78.9  5.315684  2.0   \n",
       "2  0.380457   0.0  7.340354   0.0  0.697928  7.263489  61.1  5.356935  2.0   \n",
       "3  0.313563   0.0  2.562407   0.0  0.599629  7.209732  45.8  6.103983  3.0   \n",
       "4  0.330105   0.0  2.497337   0.0  0.476077  7.184111  54.2  6.264372  3.0   \n",
       "\n",
       "     TAX    PTRATIO           B     LSTAT  \n",
       "0  307.0  15.534711  397.462329  5.715647  \n",
       "1  255.0  17.914131  397.012611  9.338417  \n",
       "2  243.0  17.919989  396.628236  4.142473  \n",
       "3  226.0  18.979527  398.564784  3.239272  \n",
       "4  234.0  18.708888  399.487766  6.115159  "
      ]
     },
     "execution_count": 289,
     "metadata": {},
     "output_type": "execute_result"
    }
   ],
   "source": [
    "boston.head()"
   ]
  },
  {
   "cell_type": "code",
   "execution_count": 290,
   "metadata": {},
   "outputs": [],
   "source": [
    "MEDV = pd.read_csv('target.txt', sep=\" \", header=None)"
   ]
  },
  {
   "cell_type": "code",
   "execution_count": 291,
   "metadata": {},
   "outputs": [],
   "source": [
    "boston['MEDV'] = MEDV"
   ]
  },
  {
   "cell_type": "code",
   "execution_count": 292,
   "metadata": {},
   "outputs": [
    {
     "data": {
      "text/html": [
       "<div>\n",
       "<style scoped>\n",
       "    .dataframe tbody tr th:only-of-type {\n",
       "        vertical-align: middle;\n",
       "    }\n",
       "\n",
       "    .dataframe tbody tr th {\n",
       "        vertical-align: top;\n",
       "    }\n",
       "\n",
       "    .dataframe thead th {\n",
       "        text-align: right;\n",
       "    }\n",
       "</style>\n",
       "<table border=\"1\" class=\"dataframe\">\n",
       "  <thead>\n",
       "    <tr style=\"text-align: right;\">\n",
       "      <th></th>\n",
       "      <th>CRIM</th>\n",
       "      <th>ZN</th>\n",
       "      <th>INDUS</th>\n",
       "      <th>CHAS</th>\n",
       "      <th>NOX</th>\n",
       "      <th>RM</th>\n",
       "      <th>AGE</th>\n",
       "      <th>DIS</th>\n",
       "      <th>RAD</th>\n",
       "      <th>TAX</th>\n",
       "      <th>PTRATIO</th>\n",
       "      <th>B</th>\n",
       "      <th>LSTAT</th>\n",
       "      <th>MEDV</th>\n",
       "    </tr>\n",
       "  </thead>\n",
       "  <tbody>\n",
       "    <tr>\n",
       "      <th>0</th>\n",
       "      <td>0.218960</td>\n",
       "      <td>18.0</td>\n",
       "      <td>2.629288</td>\n",
       "      <td>0.0</td>\n",
       "      <td>0.869420</td>\n",
       "      <td>6.875396</td>\n",
       "      <td>65.2</td>\n",
       "      <td>4.347275</td>\n",
       "      <td>1.0</td>\n",
       "      <td>307.0</td>\n",
       "      <td>15.534711</td>\n",
       "      <td>397.462329</td>\n",
       "      <td>5.715647</td>\n",
       "      <td>24.0</td>\n",
       "    </tr>\n",
       "    <tr>\n",
       "      <th>1</th>\n",
       "      <td>0.141576</td>\n",
       "      <td>0.0</td>\n",
       "      <td>7.315612</td>\n",
       "      <td>0.0</td>\n",
       "      <td>0.549711</td>\n",
       "      <td>6.499894</td>\n",
       "      <td>78.9</td>\n",
       "      <td>5.315684</td>\n",
       "      <td>2.0</td>\n",
       "      <td>255.0</td>\n",
       "      <td>17.914131</td>\n",
       "      <td>397.012611</td>\n",
       "      <td>9.338417</td>\n",
       "      <td>21.6</td>\n",
       "    </tr>\n",
       "    <tr>\n",
       "      <th>2</th>\n",
       "      <td>0.380457</td>\n",
       "      <td>0.0</td>\n",
       "      <td>7.340354</td>\n",
       "      <td>0.0</td>\n",
       "      <td>0.697928</td>\n",
       "      <td>7.263489</td>\n",
       "      <td>61.1</td>\n",
       "      <td>5.356935</td>\n",
       "      <td>2.0</td>\n",
       "      <td>243.0</td>\n",
       "      <td>17.919989</td>\n",
       "      <td>396.628236</td>\n",
       "      <td>4.142473</td>\n",
       "      <td>34.7</td>\n",
       "    </tr>\n",
       "    <tr>\n",
       "      <th>3</th>\n",
       "      <td>0.313563</td>\n",
       "      <td>0.0</td>\n",
       "      <td>2.562407</td>\n",
       "      <td>0.0</td>\n",
       "      <td>0.599629</td>\n",
       "      <td>7.209732</td>\n",
       "      <td>45.8</td>\n",
       "      <td>6.103983</td>\n",
       "      <td>3.0</td>\n",
       "      <td>226.0</td>\n",
       "      <td>18.979527</td>\n",
       "      <td>398.564784</td>\n",
       "      <td>3.239272</td>\n",
       "      <td>33.4</td>\n",
       "    </tr>\n",
       "    <tr>\n",
       "      <th>4</th>\n",
       "      <td>0.330105</td>\n",
       "      <td>0.0</td>\n",
       "      <td>2.497337</td>\n",
       "      <td>0.0</td>\n",
       "      <td>0.476077</td>\n",
       "      <td>7.184111</td>\n",
       "      <td>54.2</td>\n",
       "      <td>6.264372</td>\n",
       "      <td>3.0</td>\n",
       "      <td>234.0</td>\n",
       "      <td>18.708888</td>\n",
       "      <td>399.487766</td>\n",
       "      <td>6.115159</td>\n",
       "      <td>36.2</td>\n",
       "    </tr>\n",
       "  </tbody>\n",
       "</table>\n",
       "</div>"
      ],
      "text/plain": [
       "       CRIM    ZN     INDUS  CHAS       NOX        RM   AGE       DIS  RAD  \\\n",
       "0  0.218960  18.0  2.629288   0.0  0.869420  6.875396  65.2  4.347275  1.0   \n",
       "1  0.141576   0.0  7.315612   0.0  0.549711  6.499894  78.9  5.315684  2.0   \n",
       "2  0.380457   0.0  7.340354   0.0  0.697928  7.263489  61.1  5.356935  2.0   \n",
       "3  0.313563   0.0  2.562407   0.0  0.599629  7.209732  45.8  6.103983  3.0   \n",
       "4  0.330105   0.0  2.497337   0.0  0.476077  7.184111  54.2  6.264372  3.0   \n",
       "\n",
       "     TAX    PTRATIO           B     LSTAT  MEDV  \n",
       "0  307.0  15.534711  397.462329  5.715647  24.0  \n",
       "1  255.0  17.914131  397.012611  9.338417  21.6  \n",
       "2  243.0  17.919989  396.628236  4.142473  34.7  \n",
       "3  226.0  18.979527  398.564784  3.239272  33.4  \n",
       "4  234.0  18.708888  399.487766  6.115159  36.2  "
      ]
     },
     "execution_count": 292,
     "metadata": {},
     "output_type": "execute_result"
    }
   ],
   "source": [
    "boston.head()"
   ]
  },
  {
   "cell_type": "markdown",
   "metadata": {
    "id": "2cbXmKF9jl7L"
   },
   "source": [
    "---\n",
    "\n",
    "## Part 1: Getting oriented\n",
    "\n",
    "\n",
    "### 1.1 Use existing libraries\n",
    "\n",
    "Soon, you will write your own gradient descent algorithm, which you will then use to minimize the squared error cost function.  First, however, let's use the canned versions that come with Python, to make sure we understand what we're aiming to achieve.\n",
    "\n",
    "Using the same Boston housing prices dataset, use the [Linear Regression class](http://scikit-learn.org/stable/modules/generated/sklearn.linear_model.LinearRegression.html) from sklearn or the [OLS class](http://wiki.scipy.org/Cookbook/OLS) from SciPy to explore the relationship between median housing price and number of rooms per house. Do the following:\n",
    "\n",
    "(a) Regress the housing price on the number of rooms per house. Draw a scatter plot of housing price (y-axis) against rooms (x-axis), and draw the regression line in blue.  You might want to make the dots semi-transparent if it improves the presentation of the figure. \n",
    "\n",
    "(b) Regress the housing price on the number of rooms per house and the (number of rooms per house) squared.  Show the (curved) regression line in green. \n",
    "\n",
    "(c) Interpret your results."
   ]
  },
  {
   "cell_type": "code",
   "execution_count": 8,
   "metadata": {},
   "outputs": [
    {
     "name": "stdout",
     "output_type": "stream",
     "text": [
      "                            OLS Regression Results                            \n",
      "==============================================================================\n",
      "Dep. Variable:                   MEDV   R-squared:                       0.473\n",
      "Model:                            OLS   Adj. R-squared:                  0.472\n",
      "Method:                 Least Squares   F-statistic:                     452.3\n",
      "Date:                Fri, 11 Mar 2022   Prob (F-statistic):           4.12e-72\n",
      "Time:                        15:19:37   Log-Likelihood:                -1678.2\n",
      "No. Observations:                 506   AIC:                             3360.\n",
      "Df Residuals:                     504   BIC:                             3369.\n",
      "Df Model:                           1                                         \n",
      "Covariance Type:            nonrobust                                         \n",
      "==============================================================================\n",
      "                 coef    std err          t      P>|t|      [0.025      0.975]\n",
      "------------------------------------------------------------------------------\n",
      "Intercept    -35.5762      2.748    -12.944      0.000     -40.976     -30.176\n",
      "RM             8.9599      0.421     21.267      0.000       8.132       9.788\n",
      "==============================================================================\n",
      "Omnibus:                      105.253   Durbin-Watson:                   0.705\n",
      "Prob(Omnibus):                  0.000   Jarque-Bera (JB):              604.717\n",
      "Skew:                           0.763   Prob(JB):                    4.87e-132\n",
      "Kurtosis:                       8.133   Cond. No.                         61.7\n",
      "==============================================================================\n",
      "\n",
      "Notes:\n",
      "[1] Standard Errors assume that the covariance matrix of the errors is correctly specified.\n"
     ]
    }
   ],
   "source": [
    "olsA = smf.ols(formula = \"MEDV ~ RM\", data=boston, missing=\"drop\").fit()\n",
    "print(olsA.summary())"
   ]
  },
  {
   "cell_type": "code",
   "execution_count": 9,
   "metadata": {
    "id": "hxCNK0pTjl7L"
   },
   "outputs": [
    {
     "name": "stderr",
     "output_type": "stream",
     "text": [
      "/Users/chuchiayi/opt/anaconda3/lib/python3.8/site-packages/seaborn/_decorators.py:36: FutureWarning: Pass the following variables as keyword args: x, y. From version 0.12, the only valid positional argument will be `data`, and passing other arguments without an explicit keyword will result in an error or misinterpretation.\n",
      "  warnings.warn(\n"
     ]
    },
    {
     "data": {
      "text/plain": [
       "<AxesSubplot:xlabel='RM', ylabel='MEDV'>"
      ]
     },
     "execution_count": 9,
     "metadata": {},
     "output_type": "execute_result"
    },
    {
     "data": {
      "image/png": "[encoded data removed]",
      "text/plain": [
       "<Figure size 432x288 with 1 Axes>"
      ]
     },
     "metadata": {
      "needs_background": "light"
     },
     "output_type": "display_data"
    }
   ],
   "source": [
    "# Your code here\n",
    "import seaborn as sns\n",
    "\n",
    "sns.regplot(boston['RM'], boston['MEDV'], ci=None)\n"
   ]
  },
  {
   "cell_type": "code",
   "execution_count": 10,
   "metadata": {},
   "outputs": [
    {
     "data": {
      "text/html": [
       "<div>\n",
       "<style scoped>\n",
       "    .dataframe tbody tr th:only-of-type {\n",
       "        vertical-align: middle;\n",
       "    }\n",
       "\n",
       "    .dataframe tbody tr th {\n",
       "        vertical-align: top;\n",
       "    }\n",
       "\n",
       "    .dataframe thead th {\n",
       "        text-align: right;\n",
       "    }\n",
       "</style>\n",
       "<table border=\"1\" class=\"dataframe\">\n",
       "  <thead>\n",
       "    <tr style=\"text-align: right;\">\n",
       "      <th></th>\n",
       "      <th>CRIM</th>\n",
       "      <th>ZN</th>\n",
       "      <th>INDUS</th>\n",
       "      <th>CHAS</th>\n",
       "      <th>NOX</th>\n",
       "      <th>RM</th>\n",
       "      <th>AGE</th>\n",
       "      <th>DIS</th>\n",
       "      <th>RAD</th>\n",
       "      <th>TAX</th>\n",
       "      <th>PTRATIO</th>\n",
       "      <th>B</th>\n",
       "      <th>LSTAT</th>\n",
       "      <th>MEDV</th>\n",
       "      <th>RM2</th>\n",
       "    </tr>\n",
       "  </thead>\n",
       "  <tbody>\n",
       "    <tr>\n",
       "      <th>0</th>\n",
       "      <td>0.218960</td>\n",
       "      <td>18.0</td>\n",
       "      <td>2.629288</td>\n",
       "      <td>0.0</td>\n",
       "      <td>0.869420</td>\n",
       "      <td>6.875396</td>\n",
       "      <td>65.2</td>\n",
       "      <td>4.347275</td>\n",
       "      <td>1.0</td>\n",
       "      <td>307.0</td>\n",
       "      <td>15.534711</td>\n",
       "      <td>397.462329</td>\n",
       "      <td>5.715647</td>\n",
       "      <td>24.0</td>\n",
       "      <td>47.271066</td>\n",
       "    </tr>\n",
       "    <tr>\n",
       "      <th>1</th>\n",
       "      <td>0.141576</td>\n",
       "      <td>0.0</td>\n",
       "      <td>7.315612</td>\n",
       "      <td>0.0</td>\n",
       "      <td>0.549711</td>\n",
       "      <td>6.499894</td>\n",
       "      <td>78.9</td>\n",
       "      <td>5.315684</td>\n",
       "      <td>2.0</td>\n",
       "      <td>255.0</td>\n",
       "      <td>17.914131</td>\n",
       "      <td>397.012611</td>\n",
       "      <td>9.338417</td>\n",
       "      <td>21.6</td>\n",
       "      <td>42.248623</td>\n",
       "    </tr>\n",
       "    <tr>\n",
       "      <th>2</th>\n",
       "      <td>0.380457</td>\n",
       "      <td>0.0</td>\n",
       "      <td>7.340354</td>\n",
       "      <td>0.0</td>\n",
       "      <td>0.697928</td>\n",
       "      <td>7.263489</td>\n",
       "      <td>61.1</td>\n",
       "      <td>5.356935</td>\n",
       "      <td>2.0</td>\n",
       "      <td>243.0</td>\n",
       "      <td>17.919989</td>\n",
       "      <td>396.628236</td>\n",
       "      <td>4.142473</td>\n",
       "      <td>34.7</td>\n",
       "      <td>52.758270</td>\n",
       "    </tr>\n",
       "    <tr>\n",
       "      <th>3</th>\n",
       "      <td>0.313563</td>\n",
       "      <td>0.0</td>\n",
       "      <td>2.562407</td>\n",
       "      <td>0.0</td>\n",
       "      <td>0.599629</td>\n",
       "      <td>7.209732</td>\n",
       "      <td>45.8</td>\n",
       "      <td>6.103983</td>\n",
       "      <td>3.0</td>\n",
       "      <td>226.0</td>\n",
       "      <td>18.979527</td>\n",
       "      <td>398.564784</td>\n",
       "      <td>3.239272</td>\n",
       "      <td>33.4</td>\n",
       "      <td>51.980229</td>\n",
       "    </tr>\n",
       "    <tr>\n",
       "      <th>4</th>\n",
       "      <td>0.330105</td>\n",
       "      <td>0.0</td>\n",
       "      <td>2.497337</td>\n",
       "      <td>0.0</td>\n",
       "      <td>0.476077</td>\n",
       "      <td>7.184111</td>\n",
       "      <td>54.2</td>\n",
       "      <td>6.264372</td>\n",
       "      <td>3.0</td>\n",
       "      <td>234.0</td>\n",
       "      <td>18.708888</td>\n",
       "      <td>399.487766</td>\n",
       "      <td>6.115159</td>\n",
       "      <td>36.2</td>\n",
       "      <td>51.611452</td>\n",
       "    </tr>\n",
       "  </tbody>\n",
       "</table>\n",
       "</div>"
      ],
      "text/plain": [
       "       CRIM    ZN     INDUS  CHAS       NOX        RM   AGE       DIS  RAD  \\\n",
       "0  0.218960  18.0  2.629288   0.0  0.869420  6.875396  65.2  4.347275  1.0   \n",
       "1  0.141576   0.0  7.315612   0.0  0.549711  6.499894  78.9  5.315684  2.0   \n",
       "2  0.380457   0.0  7.340354   0.0  0.697928  7.263489  61.1  5.356935  2.0   \n",
       "3  0.313563   0.0  2.562407   0.0  0.599629  7.209732  45.8  6.103983  3.0   \n",
       "4  0.330105   0.0  2.497337   0.0  0.476077  7.184111  54.2  6.264372  3.0   \n",
       "\n",
       "     TAX    PTRATIO           B     LSTAT  MEDV        RM2  \n",
       "0  307.0  15.534711  397.462329  5.715647  24.0  47.271066  \n",
       "1  255.0  17.914131  397.012611  9.338417  21.6  42.248623  \n",
       "2  243.0  17.919989  396.628236  4.142473  34.7  52.758270  \n",
       "3  226.0  18.979527  398.564784  3.239272  33.4  51.980229  \n",
       "4  234.0  18.708888  399.487766  6.115159  36.2  51.611452  "
      ]
     },
     "execution_count": 10,
     "metadata": {},
     "output_type": "execute_result"
    }
   ],
   "source": [
    "boston['RM2'] = boston['RM']**2\n",
    "\n",
    "boston.head()"
   ]
  },
  {
   "cell_type": "code",
   "execution_count": 11,
   "metadata": {},
   "outputs": [
    {
     "name": "stdout",
     "output_type": "stream",
     "text": [
      "                            OLS Regression Results                            \n",
      "==============================================================================\n",
      "Dep. Variable:                   MEDV   R-squared:                       0.539\n",
      "Model:                            OLS   Adj. R-squared:                  0.538\n",
      "Method:                 Least Squares   F-statistic:                     294.5\n",
      "Date:                Fri, 11 Mar 2022   Prob (F-statistic):           2.19e-85\n",
      "Time:                        15:19:39   Log-Likelihood:                -1644.1\n",
      "No. Observations:                 506   AIC:                             3294.\n",
      "Df Residuals:                     503   BIC:                             3307.\n",
      "Df Model:                           2                                         \n",
      "Covariance Type:            nonrobust                                         \n",
      "==============================================================================\n",
      "                 coef    std err          t      P>|t|      [0.025      0.975]\n",
      "------------------------------------------------------------------------------\n",
      "Intercept     71.7363     12.865      5.576      0.000      46.460      97.013\n",
      "RM           -23.7896      3.867     -6.152      0.000     -31.387     -16.192\n",
      "RM2            2.4691      0.290      8.513      0.000       1.899       3.039\n",
      "==============================================================================\n",
      "Omnibus:                       83.768   Durbin-Watson:                   0.715\n",
      "Prob(Omnibus):                  0.000   Jarque-Bera (JB):              926.703\n",
      "Skew:                           0.270   Prob(JB):                    5.87e-202\n",
      "Kurtosis:                       9.608   Cond. No.                     2.13e+03\n",
      "==============================================================================\n",
      "\n",
      "Notes:\n",
      "[1] Standard Errors assume that the covariance matrix of the errors is correctly specified.\n",
      "[2] The condition number is large, 2.13e+03. This might indicate that there are\n",
      "strong multicollinearity or other numerical problems.\n"
     ]
    }
   ],
   "source": [
    "olsB = smf.ols(\"MEDV ~ RM + RM2\", data=boston, missing=\"drop\").fit()\n",
    "print(olsB.summary())"
   ]
  },
  {
   "cell_type": "code",
   "execution_count": 12,
   "metadata": {},
   "outputs": [
    {
     "data": {
      "text/plain": [
       "<AxesSubplot:ylabel='MEDV'>"
      ]
     },
     "execution_count": 12,
     "metadata": {},
     "output_type": "execute_result"
    },
    {
     "data": {
      "image/png": "[encoded data removed]",
      "text/plain": [
       "<Figure size 432x288 with 1 Axes>"
      ]
     },
     "metadata": {
      "needs_background": "light"
     },
     "output_type": "display_data"
    }
   ],
   "source": [
    "x = boston['RM'] + boston['RM2']\n",
    "y = boston['MEDV']\n",
    "\n",
    "sns.regplot(x=x, y=y, order=2)"
   ]
  },
  {
   "cell_type": "markdown",
   "metadata": {
    "id": "bjxD1XjXjl7M"
   },
   "source": [
    "The R-squared value is higher for the second model with RM-squared, which means the second model better explains the relationship and shows that there's a curvilinear relationship between the independent and dependent variables."
   ]
  },
  {
   "cell_type": "markdown",
   "metadata": {
    "id": "hkO8pHRvjl7N"
   },
   "source": [
    "### 1.2 Training and testing\n",
    "\n",
    "Chances are, for the above problem you used all of your data to fit the regression line. In some circumstances this is a reasonable thing to do, but often this will result in overfitting. Let's redo the above results the ML way, using careful cross-validation.  Since you are now experts in cross-validation, and have written your own cross-validation algorithm from scratch, you can now take a shortcut and use the libraries that others have built for you.\n",
    "\n",
    "Using the [cross-validation functions](http://scikit-learn.org/stable/modules/cross_validation.html) from scikit-learn, use 5-fold cross-validation to fit the regression model (a) from 1.1, i.e. the linear fit of housing price on number of rooms per house. Each fold of cross-validation will give you one slope coefficient and one intercept coefficient.  Create a new scatterplot of housing price against rooms, and draw the five different regression lines in light blue, and the oroginal regression line from 1.1 in red (which was estimated using the full dataset). What do you notice?"
   ]
  },
  {
   "cell_type": "code",
   "execution_count": 14,
   "metadata": {
    "id": "gnVo_0TDjl7O"
   },
   "outputs": [
    {
     "data": {
      "image/png": "[encoded data removed]",
      "text/plain": [
       "<Figure size 432x288 with 1 Axes>"
      ]
     },
     "metadata": {
      "needs_background": "light"
     },
     "output_type": "display_data"
    }
   ],
   "source": [
    "# from sklearn.cross_validation import KFold\n",
    "from sklearn.model_selection import KFold\n",
    "# your code here\n",
    "\n",
    "X = np.array(boston['RM']).reshape(-1,1)\n",
    "y = np.array(boston['MEDV']).reshape(-1,1)\n",
    "LinearRegression().fit(X, y)\n",
    "\n",
    "\n",
    "scores = []\n",
    "kf = KFold(n_splits=5)\n",
    "\n",
    "for train_index, test_index in kf.split(X):\n",
    "    lm = LinearRegression().fit(X[train_index], y[train_index])\n",
    "    y_hat = lm.predict(X[test_index])\n",
    "    \n",
    "    plot_x = np.linspace(0,10,20)\n",
    "    plot_y = (lm.coef_[0]*plot_x) + lm.intercept_\n",
    "    plt.plot(plot_x, plot_y, 'lightblue')\n",
    "#     print(lm.intercept_)\n",
    "#     print(lm.coef_)\n",
    "\n",
    "\n",
    "plot_x = np.linspace(0,10,20)\n",
    "plot_y = (8.9599*plot_x) -35.5762\n",
    "plt.plot(plot_x, plot_y, 'r')\n",
    "plt.xlabel('RM')\n",
    "plt.ylabel('MEDV')\n",
    "plt.show()"
   ]
  },
  {
   "cell_type": "markdown",
   "metadata": {
    "id": "a9CI66kKjl7O"
   },
   "source": [
    "We see there's a line the same as the result from 1.1, as with KFold method, we can find the optimized result even with limited data."
   ]
  },
  {
   "cell_type": "markdown",
   "metadata": {
    "id": "cblgmgiBjl7P"
   },
   "source": [
    "## Part 2: Gradient descent: Linear Regression\n",
    "\n",
    "This is where it gets fun!\n",
    "\n",
    "### 2.1 Implement gradient descent with one independent variable (average rooms per house)\n",
    "\n",
    "Implement the batch gradient descent algorithm that we discussed in class. Use the version you implement to regress the housing price on the number of rooms per house. Experiment with 3-4 different values of the learning rate *R*, and do the following:\n",
    "\n",
    "* Report the values of alpha and beta that minimize the loss function\n",
    "* Report the number of iterations it takes for your algorithm to converge (for each value of *R*)\n",
    "* Report the total running time of your algorithm, in seconds\n",
    "* How do your coefficients compare to the ones estimated through standard libraries? Does this depend on *R*?\n",
    "\n",
    "Some skeleton code is provided below, but you should feel free to delete this code and start from scratch if you prefer.\n",
    "\n",
    "* *Hint 1: Don't forget to implement a stopping condition, so that at every iteration you check whether your results have converged. Common approaches to this are to (a) check to see if the loss has stopped decreasing; and (b) check if both your current parameter esimates are close to the estimates from the previous iteration.  In both cases, \"close\" should not be ==0, it should be <=epsilon, where epsilon is something very small (like 0.0001).*\n",
    "* *Hint 2: Some people like to include a MaxIterations parameter in their gradient descent algorithm, to prevent divergence. *"
   ]
  },
  {
   "cell_type": "code",
   "execution_count": 285,
   "metadata": {
    "id": "yAfAQ5EQjl7Q"
   },
   "outputs": [
    {
     "name": "stdout",
     "output_type": "stream",
     "text": [
      "Learning rate:  0.01\n",
      "Time taken: 0.52 seconds\n",
      "The alpha value is:  -34.71084330598299\n",
      "The beta value is:  8.82801927998741\n",
      "The loss:  22.25031408959191\n",
      "The iterations took is:  34232 \n",
      "\n",
      "Learning rate:  0.001\n",
      "Time taken: 1.55 seconds\n",
      "The alpha value is:  -21.796742796883024\n",
      "The beta value is:  6.859514530068914\n",
      "The loss:  23.355441866019934\n",
      "The iterations took is:  100000 \n",
      "\n",
      "Learning rate:  0.0001\n",
      "Time taken: 1.50 seconds\n",
      "The alpha value is:  2.9403234777936045\n",
      "The beta value is:  3.0888274097048987\n",
      "The loss:  30.914554225415674\n",
      "The iterations took is:  100000 \n",
      "\n"
     ]
    }
   ],
   "source": [
    "import time\n",
    "from sklearn.metrics import mean_squared_error\n",
    "\n",
    "\"\"\"\n",
    "Function\n",
    "--------\n",
    "bivariate_ols\n",
    "    Gradient Decent to minimize OLS. Used to find co-efficients of bivariate OLS Linear regression\n",
    "\n",
    "Parameters\n",
    "----------\n",
    "xvalues, yvalues : narray\n",
    "    xvalues: independent variable\n",
    "    yvalues: dependent variable\n",
    "    \n",
    "R: float\n",
    "    Learning rate\n",
    "    \n",
    "MaxIterations: Int\n",
    "    maximum number of iterations\n",
    "    \n",
    "\n",
    "Returns\n",
    "-------\n",
    "alpha: float\n",
    "    intercept\n",
    "    \n",
    "beta: float\n",
    "    co-efficient\n",
    "\"\"\"\n",
    "\n",
    "# y = 8.9599*X -35.5762\n",
    "\n",
    "def bivariate_ols(xvalues, yvalues, R=0.01, MaxIterations=1000):\n",
    "    # initialize the parameters\n",
    "    start_time = time.time()\n",
    "    epsilon = 0.000001\n",
    "    alpha = 8\n",
    "    beta = 5\n",
    "    N = len(xvalues)\n",
    "    cost = []\n",
    "    for _ in range(MaxIterations):\n",
    "        f = alpha + beta*xvalues - yvalues\n",
    "        \n",
    "        alpha -= R * (f.sum() / N)\n",
    "        beta -= R * (xvalues.dot(f).sum() /  N)\n",
    "        \n",
    "        cost.append((f**2).sum() / (2*N))\n",
    "    \n",
    "        if len(cost) >=2 and abs(cost[-2] - cost[-1]) <= epsilon:\n",
    "            break\n",
    "        \n",
    "\n",
    "    print(\"Time taken: {:.2f} seconds\".format(time.time() - start_time))\n",
    "    return alpha, beta, cost[-1], len(cost)\n",
    "\n",
    "# example function call\n",
    "\n",
    "X = np.array(boston['RM'])\n",
    "Y = np.array(boston['MEDV'])\n",
    "\n",
    "\n",
    "for rate in [0.01, 0.001, 0.0001]:\n",
    "    print(\"Learning rate: \", rate)\n",
    "    alpha, beta, loss, iterations = bivariate_ols(X, Y, rate, 100000)\n",
    "    print(\"The alpha value is: \", alpha)\n",
    "    print(\"The beta value is: \", beta)\n",
    "    print(\"The loss: \", loss)\n",
    "    print(\"The iterations took is: \", iterations, \"\\n\")\n",
    "\n",
    "\n",
    "# print(\"Learning rate: 0.01\")\n",
    "# print(bivariate_ols(X, Y, 0.01, 100000))\n",
    "\n",
    "# print(\"Learning rate: 0.001\")\n",
    "# print(bivariate_ols(X, Y, 0.001, 100000))\n",
    "\n",
    "# print(\"Learning rate: 0.0001\")\n",
    "# print(bivariate_ols(X, Y, 0.0001, 100000))"
   ]
  },
  {
   "cell_type": "markdown",
   "metadata": {
    "id": "S7dK9bMZjl7Q"
   },
   "source": [
    "* Report the values of alpha and beta that minimize the loss function\n",
    "* Report the number of iterations it takes for your algorithm to converge (for each value of R)\n",
    "* Report the total running time of your algorithm, in seconds\n",
    "\n",
    "Shown as above results.\n",
    "\n",
    "* How do your coefficients compare to the ones estimated through standard libraries? Does this depend on R?\n",
    "\n",
    "The coefficient in 1.1 is (alpha, beta) = (-35.5762, 8.9599)\n",
    "The results from learning rate at 0.01 is the closest to the results from the standard library. This is because when the learning rates are too small (0.001 & 0.0001), so we can't find the optimized (alpha, beta) within the iteration limit.\n"
   ]
  },
  {
   "cell_type": "markdown",
   "metadata": {
    "id": "jZqg5yW3jl7Q"
   },
   "source": [
    "### 2.2 Data normalization (done for you!)\n",
    "\n",
    "Soon, you will implement a version of gradient descent that can use an arbitrary number of independent variables. Before doing this, we want to give you some code in case you want to standardize your features."
   ]
  },
  {
   "cell_type": "code",
   "execution_count": 48,
   "metadata": {
    "id": "lU9-kG3Tjl7Q"
   },
   "outputs": [],
   "source": [
    "def standardize(raw_data):\n",
    "    return ((raw_data - np.mean(raw_data, axis = 0)) / np.std(raw_data, axis = 0))"
   ]
  },
  {
   "cell_type": "markdown",
   "metadata": {
    "id": "vUUackd0jl7R"
   },
   "source": [
    "### 2.3 Implement gradient descent with an arbitrary number of independent variables\n",
    "\n",
    "Now that you have a simple version of gradient descent working, create a version of gradient descent that can take more than one independent variable.  Assume all independent variables will be continuous.  Test your algorithm using TAX and RM as independent variables. Standardize these variables before inputting them to the gradient descent algorithm. \n",
    "\n",
    "As before,  report and interpret your estimated coefficients, the number of iterations before convergence, and the total running time of your algorithm. Experiment with 2-3 different values of R.\n",
    "\n",
    "* *Hint 1: Be careful to implement this efficiently, otherwise it might take a long time for your code to run. Commands like `np.dot` can be a good friend to you on this problem*"
   ]
  },
  {
   "cell_type": "code",
   "execution_count": 284,
   "metadata": {
    "id": "yhEcthNtjl7R"
   },
   "outputs": [
    {
     "name": "stdout",
     "output_type": "stream",
     "text": [
      "Learning rate:  0.01\n",
      "Time taken: 0.29 seconds\n",
      "The alpha value is:  [22.5322371]\n",
      "The beta_array is:  [[ 5.53823667]\n",
      " [-2.72185118]]\n",
      "The loss:  24.438563857934398\n",
      "The iterations took is:  523 \n",
      "\n",
      "Learning rate:  0.001\n",
      "Time taken: 2.62 seconds\n",
      "The alpha value is:  [22.53132888]\n",
      "The beta_array is:  [[ 5.5377043 ]\n",
      " [-2.72236431]]\n",
      "The loss:  24.43874501259081\n",
      "The iterations took is:  4799 \n",
      "\n",
      "Learning rate:  0.0001\n",
      "Time taken: 23.05 seconds\n",
      "The alpha value is:  [22.5240198]\n",
      "The beta_array is:  [[ 5.53458197]\n",
      " [-2.72518652]]\n",
      "The loss:  24.441948655708664\n",
      "The iterations took is:  38670 \n",
      "\n"
     ]
    }
   ],
   "source": [
    "\"\"\"\n",
    "Function\n",
    "--------\n",
    "multivariate_ols\n",
    "    Gradient Decent to minimize OLS. Used to find co-efficients of bivariate OLS Linear regression\n",
    "\n",
    "Parameters\n",
    "----------\n",
    "xvalue_matrix, yvalues : narray\n",
    "    xvalue_matrix: independent variable\n",
    "    yvalues: dependent variable\n",
    "    \n",
    "R: float\n",
    "    Learning rate\n",
    "    \n",
    "MaxIterations: Int\n",
    "    maximum number of iterations\n",
    "    \n",
    "\n",
    "Returns\n",
    "-------\n",
    "alpha: float\n",
    "    intercept\n",
    "    \n",
    "beta_array: array[float]\n",
    "    co-efficient\n",
    "\"\"\"\n",
    "\n",
    "def createXvector(xvalue_matrix):\n",
    "    vectorX = np.c_[np.ones((len(xvalue_matrix), 1)), xvalue_matrix]\n",
    "    return vectorX\n",
    "\n",
    "def createTheta(xvalue_matrix):\n",
    "    theta = np.random.randn(len(xvalue_matrix[0])+1, 1)\n",
    "    return theta\n",
    "\n",
    "def multivariate_ols(xvalue_matrix, yvalues, R=0.01, MaxIterations=1000):\n",
    "    # your code here\n",
    "    start_time = time.time()\n",
    "    epsilon = 0.000001\n",
    "    \n",
    "    y_reshaped = np.reshape(yvalues, (len(yvalues), 1))\n",
    "    costs = []\n",
    "    vectorX = createXvector(xvalue_matrix)\n",
    "    theta = createTheta(xvalue_matrix)\n",
    "    m = len(xvalue_matrix)\n",
    "    \n",
    "    for _ in range(MaxIterations):\n",
    "        gradients = 2/m * vectorX.T.dot(vectorX.dot(theta) - y_reshaped)\n",
    "        theta = theta - R * gradients\n",
    "        y_pred = vectorX.dot(theta)\n",
    "        cost = 1/(2*len(yvalues))*((y_pred - yvalues)**2)\n",
    "#         print(cost)\n",
    "        \n",
    "        total = 0\n",
    "        for i in range(len(yvalues)):\n",
    "            total += cost[i][0]\n",
    "        costs.append(total)\n",
    "#         print(total)\n",
    "        \n",
    "        if len(costs) >=2 and abs(costs[-2] - costs[-1]) <= epsilon:\n",
    "                break  \n",
    "        \n",
    "    \n",
    "    print(\"Time taken: {:.2f} seconds\".format(time.time() - start_time))\n",
    "    return theta[0], theta[1:], costs[-1], len(costs)\n",
    "#     return alpha, beta_array\n",
    "\n",
    "X_matrix = np.column_stack((np.array(boston['RM']), np.array(boston['TAX'])))\n",
    "Y = np.array(boston['MEDV'])\n",
    "\n",
    "\n",
    "for rate in [0.01, 0.001, 0.0001]:\n",
    "    print(\"Learning rate: \", rate)\n",
    "    alpha, beta_array, loss, iterations = multivariate_ols(standardize(X_matrix), Y, rate, 100000)\n",
    "    print(\"The alpha value is: \", alpha)\n",
    "    print(\"The beta_array is: \", beta_array)\n",
    "    print(\"The loss: \", loss)\n",
    "    print(\"The iterations took is: \", iterations, \"\\n\")\n",
    "    \n",
    "# alpha, beta_array, loss, iterations = multivariate_ols(standardize(X_matrix), Y, 0.01, 100000)\n",
    "# print(multivariate_ols(standardize(X_matrix), Y, 0.01, 100000))\n",
    "\n",
    "# print(\"Learning rate: 0.001\")\n",
    "# print(multivariate_ols(standardize(X_matrix), Y, 0.001, 100000))\n",
    "\n",
    "# print(\"Learning rate: 0.0001\")\n",
    "# print(multivariate_ols(standardize(X_matrix), Y, 0.0001, 100000))"
   ]
  },
  {
   "cell_type": "markdown",
   "metadata": {
    "id": "E2o_SDdcjl7R"
   },
   "source": [
    "* Report the values of alpha and beta that minimize the loss function\n",
    "* Report the number of iterations it takes for your algorithm to converge (for each value of R)\n",
    "* Report the total running time of your algorithm, in seconds\n",
    "\n",
    "Shown as above results.\n",
    "\n",
    "* Interpretation\n",
    "\n",
    "The results from the three learning rates are quite similar, as we are able to find the minimun loss within iteration limit.\n"
   ]
  },
  {
   "cell_type": "markdown",
   "metadata": {
    "id": "dMXw_qcYjl7S"
   },
   "source": [
    "### 2.4 Compare standardized vs. non-standardized results\n",
    "\n",
    "Repeat the analysis from 2.3, but this time do not standardize your variables - i.e., use the original data. Use the same three values of R (0.1, 0.01, and 0.001). What do you notice about the running time and convergence properties of your algorithm?"
   ]
  },
  {
   "cell_type": "code",
   "execution_count": 286,
   "metadata": {
    "id": "AnEvJxxhjl7S"
   },
   "outputs": [
    {
     "name": "stdout",
     "output_type": "stream",
     "text": [
      "Learning rate:  0.1\n"
     ]
    },
    {
     "name": "stderr",
     "output_type": "stream",
     "text": [
      "/var/folders/z7/qfh431gd2hl9fztg2f0y4h7r0000gn/T/ipykernel_3008/1776497120.py:52: RuntimeWarning: overflow encountered in square\n",
      "  cost = 1/(2*len(yvalues))*((y_pred - yvalues)**2)\n"
     ]
    },
    {
     "name": "stdout",
     "output_type": "stream",
     "text": [
      "Time taken: 53.75 seconds\n",
      "The alpha value is:  [nan]\n",
      "The beta_array is:  [[nan]\n",
      " [nan]]\n",
      "The loss:  nan\n",
      "The iterations took is:  100000 \n",
      "\n",
      "Learning rate:  0.01\n",
      "Time taken: 56.61 seconds\n",
      "The alpha value is:  [nan]\n",
      "The beta_array is:  [[nan]\n",
      " [nan]]\n",
      "The loss:  nan\n",
      "The iterations took is:  100000 \n",
      "\n",
      "Learning rate:  0.001\n",
      "Time taken: 57.80 seconds\n",
      "The alpha value is:  [nan]\n",
      "The beta_array is:  [[nan]\n",
      " [nan]]\n",
      "The loss:  nan\n",
      "The iterations took is:  100000 \n",
      "\n"
     ]
    }
   ],
   "source": [
    "# Your code here\n",
    "for rate in [0.1, 0.01, 0.001]:\n",
    "    print(\"Learning rate: \", rate)\n",
    "    alpha, beta_array, loss, iterations = multivariate_ols(X_matrix, Y, rate, 100000)\n",
    "    print(\"The alpha value is: \", alpha)\n",
    "    print(\"The beta_array is: \", beta_array)\n",
    "    print(\"The loss: \", loss)\n",
    "    print(\"The iterations took is: \", iterations, \"\\n\")\n",
    "\n",
    "# print(\"Learning rate: 0.1\")\n",
    "# print(multivariate_ols(X_matrix, Y, 0.1, 100000))\n",
    "\n",
    "# print(\"Learning rate: 0.01\")\n",
    "# print(multivariate_ols(X_matrix, Y, 0.01, 100000))\n",
    "\n",
    "# print(\"Learning rate: 0.001\")\n",
    "# print(multivariate_ols(X_matrix, Y, 0.001, 100000))"
   ]
  },
  {
   "cell_type": "markdown",
   "metadata": {
    "id": "BFdApjEsjl7S"
   },
   "source": [
    "If we don't standardize our variables, the function will not be able to converge, and the cost will be infinite."
   ]
  },
  {
   "cell_type": "markdown",
   "metadata": {
    "id": "5pEk2_UZjl7S"
   },
   "source": [
    "## 3. Prediction\n",
    "\n",
    "Let's use our fitted model to make predictions about housing prices. Make sure to first standardize your features before proceeding.\n",
    "\n",
    "### 3.1 Cross-Validation\n",
    "\n",
    "Unless you were careful above, you probably overfit your data again. Let's fix that. Use 5-fold cross-validation to re-fit the multivariate regression from 2.3 above, and report your estimated coefficients (there should be three, corresponding to the intercept and the two coefficients for TAX and RM). Since there are 5 folds, there will be 5 sets of three coefficients -- report them all in a 5x3 table."
   ]
  },
  {
   "cell_type": "code",
   "execution_count": 71,
   "metadata": {},
   "outputs": [
    {
     "name": "stdout",
     "output_type": "stream",
     "text": [
      "Collecting tabulate\n",
      "  Downloading tabulate-0.8.9-py3-none-any.whl (25 kB)\n",
      "Installing collected packages: tabulate\n",
      "Successfully installed tabulate-0.8.9\n",
      "Note: you may need to restart the kernel to use updated packages.\n"
     ]
    }
   ],
   "source": [
    "pip install tabulate"
   ]
  },
  {
   "cell_type": "code",
   "execution_count": 181,
   "metadata": {
    "id": "DGQRERuIjl7T"
   },
   "outputs": [
    {
     "name": "stdout",
     "output_type": "stream",
     "text": [
      "Time taken: 0.28 seconds\n",
      "Time taken: 0.24 seconds\n",
      "Time taken: 0.29 seconds\n",
      "Time taken: 0.21 seconds\n",
      "Time taken: 0.19 seconds\n",
      "  Intercept    RM coefficient    TAX coefficient\n",
      "-----------  ----------------  -----------------\n",
      "    23.044            5.25849           -3.14676\n",
      "    22.2681           4.90349           -2.73388\n",
      "    21.937            4.54228           -2.4925\n",
      "    22.22             6.65563           -3.26529\n",
      "    23.1918           6.15649           -1.65043\n"
     ]
    }
   ],
   "source": [
    "# Your code here\n",
    "from tabulate import tabulate\n",
    "\n",
    "kf = KFold(n_splits=5)\n",
    "X_matrix_standardized = standardize(X_matrix)\n",
    "\n",
    "values = []\n",
    "for train_index, test_index in kf.split(X_matrix_standardized):\n",
    "    alpha, beta_arr, _, _ = multivariate_ols(X_matrix_standardized[train_index], Y[train_index])\n",
    "    \n",
    "    value = [alpha]\n",
    "    value.append(beta_arr[0])\n",
    "    value.append(beta_arr[1])\n",
    "    values.append(value)\n",
    "\n",
    "head = [\"Intercept\", \"RM coefficient\", \"TAX coefficient\"]\n",
    "print(tabulate(values, headers=head))"
   ]
  },
  {
   "cell_type": "markdown",
   "metadata": {
    "id": "cHk88-z5jl7T"
   },
   "source": [
    "The result from 2.3\n",
    "\n",
    "Learning rate:  0.01\n",
    "Time taken: 0.29 seconds\n",
    "The alpha value is:  [22.5322371]\n",
    "The beta_array is:  [[ 5.53823667]\n",
    " [-2.72185118]]\n",
    "The loss:  24.438563857934398\n",
    "The iterations took is:  523 \n",
    "\n",
    "Learning rate:  0.001\n",
    "Time taken: 2.62 seconds\n",
    "The alpha value is:  [22.53132888]\n",
    "The beta_array is:  [[ 5.5377043 ]\n",
    " [-2.72236431]]\n",
    "The loss:  24.43874501259081\n",
    "The iterations took is:  4799 \n",
    "\n",
    "Learning rate:  0.0001\n",
    "Time taken: 23.05 seconds\n",
    "The alpha value is:  [22.5240198]\n",
    "The beta_array is:  [[ 5.53458197]\n",
    " [-2.72518652]]\n",
    "The loss:  24.441948655708664\n",
    "The iterations took is:  38670 "
   ]
  },
  {
   "cell_type": "markdown",
   "metadata": {},
   "source": [
    "The results from KFold vary a bit, as a result, we shoe exam what's the best model and if there's overfitting problem from previous results."
   ]
  },
  {
   "cell_type": "markdown",
   "metadata": {
    "id": "jaRVr5wpjl7T"
   },
   "source": [
    "### 3.2 Predicted values and RMSE\n",
    "\n",
    "Let's figure out how accurate this predictive model turned out to be. Compute the cross-validated RMSE for each of the 5 folds above. In other words, in fold 1, use the parameters estimated on the 80% of the data to make predictions for the 20%, and calculate the RMSE for those 20%. Repeate this for the remaining folds. Report the RMSE for each of the 5-folds, and the average (mean) RMSE across the five folds. How does this average RMSE compare to the performance of your nearest neighbor algorithm from the last problem set?"
   ]
  },
  {
   "cell_type": "code",
   "execution_count": 182,
   "metadata": {},
   "outputs": [],
   "source": [
    "# Credit: compute_rmse function taken from PS3\n",
    "def compute_rmse(predictions, yvalues):\n",
    "    pre = np.asarray(predictions)\n",
    "    y = np.asarray(yvalues)\n",
    "    rmse = np.sqrt(np.sum((pre-y) ** 2) / float(len(y)))\n",
    "    return rmse"
   ]
  },
  {
   "cell_type": "code",
   "execution_count": 215,
   "metadata": {
    "id": "9I1zFLBajl7T"
   },
   "outputs": [
    {
     "name": "stdout",
     "output_type": "stream",
     "text": [
      "Time taken: 0.29 seconds\n",
      "Time taken: 0.23 seconds\n",
      "Time taken: 0.29 seconds\n",
      "Time taken: 0.23 seconds\n",
      "Time taken: 0.18 seconds\n",
      "[4.253799623999337, 5.567110862985532, 5.537024727633761, 10.587117087372004, 6.773439076923077]\n",
      "the average RMSE is 6.543698275782742\n"
     ]
    }
   ],
   "source": [
    "# Your code here\n",
    "\n",
    "# kf = KFold(n_splits=5)\n",
    "# X_matrix_standardized = standardize(X_matrix)\n",
    "\n",
    "RMSE = []\n",
    "for train_index, test_index in kf.split(X_matrix_standardized):\n",
    "    alpha, beta_arr, _, _ = multivariate_ols(X_matrix_standardized[train_index], Y[train_index])\n",
    "    theta = []\n",
    "    theta.append(alpha[0])\n",
    "    for i in range(len(beta_arr)):\n",
    "        theta.append(beta_arr[i][0])\n",
    "\n",
    "#     y_hat = [] \n",
    "#     for i in range(len(test_index)):\n",
    "#         value = alpha + sum(beta_arr[0]*X_matrix_standardized[test_index][i][0], beta_arr[1]*X_matrix_standardized[test_index][i][1])\n",
    "#         y_hat.append(value)\n",
    "\n",
    "    X_mat = np.c_[np.ones((len(test_index), 1)), X_matrix_standardized[test_index]]\n",
    "    y_hat = X_mat.dot(theta)\n",
    "    RMSE.append(compute_rmse(y_hat, Y[test_index]))\n",
    "\n",
    "print(RMSE)\n",
    "print(\"the average RMSE is\", np.mean(RMSE))"
   ]
  },
  {
   "cell_type": "markdown",
   "metadata": {
    "id": "61FuGxiYjl7T"
   },
   "source": [
    "The RMSE I got from PS3 with the same independent variables is 9.81. We see the RMSE is much smaller here, as KFold method can help us find the optimized result."
   ]
  },
  {
   "cell_type": "markdown",
   "metadata": {
    "id": "6L-AsWOajl7T"
   },
   "source": [
    "### Extra Credit 1: Logistic Regression\n",
    "\n",
    "For extra credit, implement logistic regression using gradient descent. Create a new variable (EXPENSIVE) to indicate whether the median housing price is more than $40,000. Use your model  a logistic regression of EXPENSIVE on CHAS and RM. Report your results."
   ]
  },
  {
   "cell_type": "code",
   "execution_count": null,
   "metadata": {
    "collapsed": true,
    "id": "UR9qYdndjl7T"
   },
   "outputs": [],
   "source": [
    "# Your code here"
   ]
  },
  {
   "cell_type": "markdown",
   "metadata": {
    "id": "04AamlXLjl7T"
   },
   "source": [
    "*Discuss your results here*"
   ]
  },
  {
   "cell_type": "markdown",
   "metadata": {
    "id": "nvkpICWsjl7T"
   },
   "source": [
    "## 4 Regularization \n",
    "\n",
    "### 4.1 Get prepped\n",
    "\n",
    "Step 1: Create new interaction variables between each possible pair of the F_s features. If you originally had *K* features, you should now have K+(K*(K+1))/2 features. Standardize all of your features.\n",
    "\n",
    "Step 2: Randomly sample 80% of your data and call this the training set, and set aside the remaining 20% as your test set."
   ]
  },
  {
   "cell_type": "code",
   "execution_count": 287,
   "metadata": {
    "id": "89-Zqpssjl7U"
   },
   "outputs": [
    {
     "data": {
      "text/plain": [
       "[['CRIM'],\n",
       " ['CRIM', 'CRIM'],\n",
       " ['ZN'],\n",
       " ['ZN', 'CRIM'],\n",
       " ['ZN', 'ZN'],\n",
       " ['INDUS'],\n",
       " ['INDUS', 'CRIM'],\n",
       " ['INDUS', 'ZN'],\n",
       " ['INDUS', 'INDUS'],\n",
       " ['CHAS'],\n",
       " ['CHAS', 'CRIM'],\n",
       " ['CHAS', 'ZN'],\n",
       " ['CHAS', 'INDUS'],\n",
       " ['CHAS', 'CHAS'],\n",
       " ['NOX'],\n",
       " ['NOX', 'CRIM'],\n",
       " ['NOX', 'ZN'],\n",
       " ['NOX', 'INDUS'],\n",
       " ['NOX', 'CHAS'],\n",
       " ['NOX', 'NOX'],\n",
       " ['RM'],\n",
       " ['RM', 'CRIM'],\n",
       " ['RM', 'ZN'],\n",
       " ['RM', 'INDUS'],\n",
       " ['RM', 'CHAS'],\n",
       " ['RM', 'NOX'],\n",
       " ['RM', 'RM'],\n",
       " ['AGE'],\n",
       " ['AGE', 'CRIM'],\n",
       " ['AGE', 'ZN'],\n",
       " ['AGE', 'INDUS'],\n",
       " ['AGE', 'CHAS'],\n",
       " ['AGE', 'NOX'],\n",
       " ['AGE', 'RM'],\n",
       " ['AGE', 'AGE'],\n",
       " ['DIS'],\n",
       " ['DIS', 'CRIM'],\n",
       " ['DIS', 'ZN'],\n",
       " ['DIS', 'INDUS'],\n",
       " ['DIS', 'CHAS'],\n",
       " ['DIS', 'NOX'],\n",
       " ['DIS', 'RM'],\n",
       " ['DIS', 'AGE'],\n",
       " ['DIS', 'DIS'],\n",
       " ['RAD'],\n",
       " ['RAD', 'CRIM'],\n",
       " ['RAD', 'ZN'],\n",
       " ['RAD', 'INDUS'],\n",
       " ['RAD', 'CHAS'],\n",
       " ['RAD', 'NOX'],\n",
       " ['RAD', 'RM'],\n",
       " ['RAD', 'AGE'],\n",
       " ['RAD', 'DIS'],\n",
       " ['RAD', 'RAD'],\n",
       " ['TAX'],\n",
       " ['TAX', 'CRIM'],\n",
       " ['TAX', 'ZN'],\n",
       " ['TAX', 'INDUS'],\n",
       " ['TAX', 'CHAS'],\n",
       " ['TAX', 'NOX'],\n",
       " ['TAX', 'RM'],\n",
       " ['TAX', 'AGE'],\n",
       " ['TAX', 'DIS'],\n",
       " ['TAX', 'RAD'],\n",
       " ['TAX', 'TAX'],\n",
       " ['PTRATIO'],\n",
       " ['PTRATIO', 'CRIM'],\n",
       " ['PTRATIO', 'ZN'],\n",
       " ['PTRATIO', 'INDUS'],\n",
       " ['PTRATIO', 'CHAS'],\n",
       " ['PTRATIO', 'NOX'],\n",
       " ['PTRATIO', 'RM'],\n",
       " ['PTRATIO', 'AGE'],\n",
       " ['PTRATIO', 'DIS'],\n",
       " ['PTRATIO', 'RAD'],\n",
       " ['PTRATIO', 'TAX'],\n",
       " ['PTRATIO', 'PTRATIO'],\n",
       " ['B'],\n",
       " ['B', 'CRIM'],\n",
       " ['B', 'ZN'],\n",
       " ['B', 'INDUS'],\n",
       " ['B', 'CHAS'],\n",
       " ['B', 'NOX'],\n",
       " ['B', 'RM'],\n",
       " ['B', 'AGE'],\n",
       " ['B', 'DIS'],\n",
       " ['B', 'RAD'],\n",
       " ['B', 'TAX'],\n",
       " ['B', 'PTRATIO'],\n",
       " ['B', 'B'],\n",
       " ['LSTAT'],\n",
       " ['LSTAT', 'CRIM'],\n",
       " ['LSTAT', 'ZN'],\n",
       " ['LSTAT', 'INDUS'],\n",
       " ['LSTAT', 'CHAS'],\n",
       " ['LSTAT', 'NOX'],\n",
       " ['LSTAT', 'RM'],\n",
       " ['LSTAT', 'AGE'],\n",
       " ['LSTAT', 'DIS'],\n",
       " ['LSTAT', 'RAD'],\n",
       " ['LSTAT', 'TAX'],\n",
       " ['LSTAT', 'PTRATIO'],\n",
       " ['LSTAT', 'B'],\n",
       " ['LSTAT', 'LSTAT']]"
      ]
     },
     "execution_count": 287,
     "metadata": {},
     "output_type": "execute_result"
    }
   ],
   "source": [
    "# Your code here\n",
    "# step 1-1: create combinations as F_s_features\n",
    "features = [\"CRIM\", \"ZN\", \"INDUS\", \"CHAS\", \"NOX\",\"RM\",\"AGE\",\"DIS\",\"RAD\",\"TAX\",\"PTRATIO\",\"B\",\"LSTAT\"]\n",
    "\n",
    "N = len(features)\n",
    "F_s_features = []\n",
    "for i in range(N):\n",
    "    F_s_features.append([features[i]])\n",
    "    for j in range(i+1):\n",
    "        F_s_features.append([features[i], features[j]])\n",
    "\n",
    "\n",
    "len(F_s_features)\n",
    "F_s_features"
   ]
  },
  {
   "cell_type": "code",
   "execution_count": 295,
   "metadata": {},
   "outputs": [],
   "source": [
    "# step 1-2: add variable-squared data in boston dataset\n",
    "for feature in features:\n",
    "    boston[feature+'2'] = boston[feature]**2"
   ]
  },
  {
   "cell_type": "code",
   "execution_count": 296,
   "metadata": {},
   "outputs": [],
   "source": [
    "# step 2: shuffle the data \n",
    "\n",
    "np.random.seed(1)\n",
    "\n",
    "ids = np.arange(0, len(boston), 1)\n",
    "ids = np.random.permutation(ids)\n",
    "boston_shuffled = boston.iloc[ids]"
   ]
  },
  {
   "cell_type": "code",
   "execution_count": 297,
   "metadata": {},
   "outputs": [
    {
     "name": "stdout",
     "output_type": "stream",
     "text": [
      "104\n",
      "506\n"
     ]
    }
   ],
   "source": [
    "# step 1-3: prepare data in matrix and standardize them as F_s_standardized\n",
    "\n",
    "F_s_standardized = []\n",
    "\n",
    "for pair in F_s_features:\n",
    "    if len(pair) == 1:\n",
    "        curr_matrix = np.column_stack(np.array(boston_shuffled[pair]))\n",
    "        F_s_standardized.append(standardize(curr_matrix[0]))\n",
    "    elif pair[0] == pair[1]:\n",
    "        curr_matrix = np.column_stack(np.array(boston_shuffled[pair[0]+'2']))\n",
    "        F_s_standardized.append(standardize(curr_matrix[0]))\n",
    "    else:\n",
    "        curr_matrix = np.column_stack((np.array(boston_shuffled[pair[0]]), np.array(boston_shuffled[pair[1]])))\n",
    "        F_s_standardized.append(standardize(curr_matrix))\n",
    "\n",
    "\n",
    "print(len(F_s_standardized))\n",
    "print(len(F_s_standardized[0]))"
   ]
  },
  {
   "cell_type": "code",
   "execution_count": 298,
   "metadata": {},
   "outputs": [
    {
     "name": "stdout",
     "output_type": "stream",
     "text": [
      "104\n",
      "404\n",
      "104\n",
      "102\n",
      "404\n",
      "102\n"
     ]
    }
   ],
   "source": [
    "# step 2-2: seperate into test and training datasets\n",
    "# credit: lab4 solution\n",
    "\n",
    "train_percent = .80\n",
    "train_number = int(train_percent*len(boston))\n",
    "# print('Total examples: %i' % len(boston))\n",
    "# print('Number of training examples: %i' % train_number)\n",
    "# print('Number of testing examples: %i' % (len(boston) - train_number))\n",
    "\n",
    "# np.random.seed(1)\n",
    "\n",
    "# ids = np.arange(0, len(boston), 1)\n",
    "# ids = np.random.permutation(ids)\n",
    "# boston_shuffled = boston.iloc[ids]\n",
    "\n",
    "y_train_set = boston_shuffled['MEDV'][:train_number]\n",
    "y_test_set = boston_shuffled['MEDV'][train_number:]\n",
    "\n",
    "X_train_sets = []\n",
    "X_test_sets = []\n",
    "\n",
    "for dataset in F_s_standardized:\n",
    "    X_train_sets.append(dataset[:train_number])\n",
    "    X_test_sets.append(dataset[train_number:])\n",
    "    \n",
    "print(len(X_train_sets))\n",
    "print(len(X_train_sets[3]))\n",
    "print(len(X_test_sets))\n",
    "print(len(X_test_sets[3]))\n",
    "print(len(y_train_set))\n",
    "print(len(y_test_set))\n"
   ]
  },
  {
   "cell_type": "markdown",
   "metadata": {
    "id": "JeXkvp7njl7U"
   },
   "source": [
    "### 4.2 Overfitting (sort of)\n",
    "Now, using your version of multivariate regression from 2.3, let's overfit the training data. Using your training set, regress housing price on as many of those K+(K*(K+1))/2 features as you can (Don't forget to add quadratic terms. Form instance, RM^2.).  If you get too greedy, it's possible this will take a long time to compute, so start with 5-10 features, and if you have the time, add more features.\n",
    "\n",
    "Report the RMSE when you apply your model to your training set and to your testing set. How do these numbers compare to each other, and to the RMSE from 3.2 and nearest neighbors?"
   ]
  },
  {
   "cell_type": "code",
   "execution_count": 366,
   "metadata": {
    "id": "kgQ48hi6jl7U"
   },
   "outputs": [
    {
     "name": "stdout",
     "output_type": "stream",
     "text": [
      "The features set is ['RAD', 'RM']\n",
      "Time taken: 0.06 seconds\n",
      "The RMSE for test set: 6.230594501814128\n",
      "The RMSE for train set: 6.302344529230654\n",
      "The features set is ['RAD', 'AGE']\n",
      "Time taken: 0.05 seconds\n",
      "The RMSE for test set: 8.527262005290995\n",
      "The RMSE for train set: 8.157333599349874\n",
      "The features set is ['RAD', 'DIS']\n",
      "Time taken: 0.05 seconds\n",
      "The RMSE for test set: 8.854725790138966\n",
      "The RMSE for train set: 8.375274945999099\n",
      "The features set is ['RAD', 'RAD']\n",
      "Time taken: 0.05 seconds\n",
      "The RMSE for test set: 8.878634676870426\n",
      "The RMSE for train set: 8.350195403488142\n",
      "The features set is ['TAX']\n",
      "Time taken: 0.05 seconds\n",
      "The RMSE for test set: 8.366198729927625\n",
      "The RMSE for train set: 8.051549353647717\n",
      "The features set is ['TAX', 'CRIM']\n",
      "Time taken: 0.06 seconds\n",
      "The RMSE for test set: 8.23972618716439\n",
      "The RMSE for train set: 7.95536796976632\n",
      "The features set is ['TAX', 'ZN']\n",
      "Time taken: 0.05 seconds\n",
      "The RMSE for test set: 7.932054943276837\n",
      "The RMSE for train set: 7.832741856815916\n",
      "The features set is ['TAX', 'INDUS']\n",
      "Time taken: 0.08 seconds\n",
      "The RMSE for test set: 7.967502516827409\n",
      "The RMSE for train set: 7.864644534782901\n",
      "The features set is ['TAX', 'CHAS']\n",
      "Time taken: 0.05 seconds\n",
      "The RMSE for test set: 8.3627664117381\n",
      "The RMSE for train set: 7.888132892601139\n",
      "The features set is ['TAX', 'NOX']\n",
      "Time taken: 0.06 seconds\n",
      "The RMSE for test set: 8.257091151290707\n",
      "The RMSE for train set: 8.038913003027707\n",
      "The features set is ['TAX', 'RM']\n",
      "Time taken: 0.05 seconds\n",
      "The RMSE for test set: 6.048491814641932\n",
      "The RMSE for train set: 6.164080381844094\n"
     ]
    }
   ],
   "source": [
    "# Your code here\n",
    "\n",
    "for i in range(50,61):\n",
    "    print(\"The features set is\", F_s_features[i])\n",
    "    \n",
    "    coefs = []\n",
    "    if len(X_train_sets[i].shape)== 2 and X_train_sets[i].shape[1] == 2:\n",
    "        alpha, beta_arr, _, _ = multivariate_ols(X_train_sets[i], np.array(y_train_set).reshape(-1,1))\n",
    "        coefs.append(alpha[0])\n",
    "        for j in range(len(beta_arr)):\n",
    "            coefs.append(beta_arr[j][0])\n",
    "    else:\n",
    "        alpha, beta_arr, _, _ = multivariate_ols(np.array(X_train_sets[i]).reshape(-1,1), np.array(y_train_set).reshape(-1,1))\n",
    "        coefs.append(alpha[0])\n",
    "        for j in range(len(beta_arr)):\n",
    "            coefs.append(beta_arr[j][0])        \n",
    "#     coefs = []\n",
    "#     coefs.append(alpha[0])\n",
    "#     for j in range(len(beta_arr)):\n",
    "#         coefs.append(beta_arr[j][0])\n",
    "    \n",
    "#     print(coefs)\n",
    "    X_mat_test = np.c_[np.ones((len(X_test_sets[i]), 1)), X_test_sets[i]]\n",
    "    y_hat_test = X_mat_test.dot(coefs)\n",
    "    print(\"The RMSE for test set:\", compute_rmse(y_hat_test, y_test_set))\n",
    "\n",
    "    X_mat_train = np.c_[np.ones((len(X_train_sets[i]), 1)), X_train_sets[i]]\n",
    "    y_hat_train = X_mat_train.dot(coefs)\n",
    "    print(\"The RMSE for train set:\", compute_rmse(y_hat_train, y_train_set))\n",
    "\n",
    "\n",
    "#     if len(X_train_sets[i].shape)== 2 and X_train_sets[i].shape[1] == 2:\n",
    "#         alpha, beta_arr, _, _ = multivariate_ols(X_train_sets[i], y_train_set)\n",
    "        \n",
    "#         y_hat = lm.predict(np.array(X_test_sets[i]))\n",
    "#         print(\"The RMSE for test set\", compute_rmse(y_hat, y_test_set))\n",
    "\n",
    "#         y_hat = lm.predict(np.array(X_train_sets[i]))\n",
    "#         print(\"The RMSE for train set\", compute_rmse(y_hat, y_train_set))\n",
    "        \n",
    "#     else:\n",
    "#         lm = LinearRegression().fit(np.array(X_train_sets[i]).reshape(-1,1), y_train_set)\n",
    "    \n",
    "#         y_hat = lm.predict(np.array(X_test_sets[i]).reshape(-1,1))\n",
    "#         print(\"The RMSE for test set\", compute_rmse(y_hat, y_test_set))\n",
    "\n",
    "#         y_hat = lm.predict(np.array(X_train_sets[i]).reshape(-1,1))\n",
    "#         print(\"The RMSE for train set\", compute_rmse(y_hat, y_train_set))"
   ]
  },
  {
   "cell_type": "markdown",
   "metadata": {
    "id": "wf3h2JEIjl7U"
   },
   "source": [
    "The RMSE between test and train sets are pretty similar, which means the model is underfitting or well-fit. Compared to the result from 2.3 with the average RMSE is 6.543698275782742, the RMSE here are all higher."
   ]
  },
  {
   "cell_type": "markdown",
   "metadata": {
    "id": "XDlDsi4wjl7U"
   },
   "source": [
    "### 4.3 Ridge regularization (basic)\n",
    "Incorporate L2 (Ridge) regularization into your multivariate_ols regression. Write a new version of your gradient descent algorithm that includes a regularization term \"lambda\" to penalize excessive complexity. \n",
    "\n",
    "Use your regularized regression to re-fit the model from 4.2 above on your training data, using the value lambda = 0.5.  Report the RMSE obtained for your training data, and the RMSE obtained for your testing data."
   ]
  },
  {
   "cell_type": "code",
   "execution_count": 321,
   "metadata": {
    "id": "Rlaok4imjl7U"
   },
   "outputs": [],
   "source": [
    "# Your code here\n",
    "def ridge_regularization_multivariate_ols(xvalue_matrix, yvalues, R=0.01, MaxIterations=1000, L=0.5):\n",
    "    # your code here\n",
    "    start_time = time.time()\n",
    "    epsilon = 0.000001\n",
    "    \n",
    "    y_reshaped = np.reshape(yvalues, (len(yvalues), 1))\n",
    "    costs = []\n",
    "    vectorX = createXvector(xvalue_matrix)\n",
    "    theta = createTheta(xvalue_matrix)\n",
    "    m = len(xvalue_matrix)\n",
    "    \n",
    "    for _ in range(MaxIterations):\n",
    "        gradients = 2/m * vectorX.T.dot(vectorX.dot(theta) - y_reshaped)\n",
    "        theta = theta - (theta*R*L)/m - R * gradients\n",
    "        y_pred = vectorX.dot(theta)\n",
    "        ridge_reg_term = ((L/(2*len(yvalues)))*(np.sum(np.square(theta))))\n",
    "        cost = (1/(2*len(yvalues))*((y_pred - yvalues)**2)) + ridge_reg_term\n",
    "#         print(cost)\n",
    "        \n",
    "        total = 0\n",
    "        for i in range(len(yvalues)):\n",
    "            total += cost[i][0]\n",
    "        costs.append(total)\n",
    "#         print(total)\n",
    "        \n",
    "        if len(costs) >=2 and abs(costs[-2] - costs[-1]) <= epsilon:\n",
    "                break  \n",
    "        \n",
    "    \n",
    "    print(\"Time taken: {:.2f} seconds\".format(time.time() - start_time))\n",
    "    return theta[0], theta[1:], costs[-1], len(costs)"
   ]
  },
  {
   "cell_type": "code",
   "execution_count": 367,
   "metadata": {},
   "outputs": [
    {
     "name": "stdout",
     "output_type": "stream",
     "text": [
      "The features set is ['RAD', 'RM']\n",
      "Time taken: 0.12 seconds\n",
      "The RMSE for test set: 6.231486989848541\n",
      "The RMSE for train set: 6.3023567826547895\n",
      "The features set is ['RAD', 'AGE']\n",
      "Time taken: 0.10 seconds\n",
      "The RMSE for test set: 8.526975873918818\n",
      "The RMSE for train set: 8.157342723716503\n",
      "The features set is ['RAD', 'DIS']\n",
      "Time taken: 0.12 seconds\n",
      "The RMSE for test set: 8.855181210680303\n",
      "The RMSE for train set: 8.375281706250954\n",
      "The features set is ['RAD', 'RAD']\n",
      "Time taken: 0.10 seconds\n",
      "The RMSE for test set: 8.877997523281275\n",
      "The RMSE for train set: 8.350204639880697\n",
      "The features set is ['TAX']\n",
      "Time taken: 0.10 seconds\n",
      "The RMSE for test set: 8.36560072739786\n",
      "The RMSE for train set: 8.051559070893152\n",
      "The features set is ['TAX', 'CRIM']\n",
      "Time taken: 0.13 seconds\n",
      "The RMSE for test set: 8.23891445607453\n",
      "The RMSE for train set: 7.955373276105389\n",
      "The features set is ['TAX', 'ZN']\n",
      "Time taken: 0.11 seconds\n",
      "The RMSE for test set: 7.9321537943241855\n",
      "The RMSE for train set: 7.832750807106321\n",
      "The features set is ['TAX', 'INDUS']\n",
      "Time taken: 0.13 seconds\n",
      "The RMSE for test set: 7.968217554497515\n",
      "The RMSE for train set: 7.864645770882019\n",
      "The features set is ['TAX', 'CHAS']\n",
      "Time taken: 0.12 seconds\n",
      "The RMSE for test set: 8.362099312224847\n",
      "The RMSE for train set: 7.888142862468585\n",
      "The features set is ['TAX', 'NOX']\n",
      "Time taken: 0.19 seconds\n",
      "The RMSE for test set: 8.25763127784495\n",
      "The RMSE for train set: 8.038918966808412\n",
      "The features set is ['TAX', 'RM']\n",
      "Time taken: 0.11 seconds\n",
      "The RMSE for test set: 6.049216627898531\n",
      "The RMSE for train set: 6.164092742585029\n"
     ]
    }
   ],
   "source": [
    "for i in range(50, 61):\n",
    "    print(\"The features set is\", F_s_features[i])\n",
    "    coefs = []\n",
    "    if len(X_train_sets[i].shape)== 2 and X_train_sets[i].shape[1] == 2:\n",
    "        alpha, beta_arr, _, _ = ridge_regularization_multivariate_ols(X_train_sets[i], np.array(y_train_set).reshape(-1,1))\n",
    "        coefs.append(alpha[0])\n",
    "        for j in range(len(beta_arr)):\n",
    "            coefs.append(beta_arr[j][0])\n",
    "    else:\n",
    "        alpha, beta_arr, _, _ = ridge_regularization_multivariate_ols(np.array(X_train_sets[i]).reshape(-1,1), np.array(y_train_set).reshape(-1,1))\n",
    "        coefs.append(alpha[0])\n",
    "        for j in range(len(beta_arr)):\n",
    "            coefs.append(beta_arr[j][0])\n",
    "#     print(coefs)\n",
    "#     coefs = []\n",
    "#     coefs.append(alpha[0])\n",
    "#     for j in range(len(beta_arr)):\n",
    "#         coefs.append(beta_arr[j][0])\n",
    "    \n",
    "    X_mat_test = np.c_[np.ones((len(X_test_sets[i]), 1)), X_test_sets[i]]\n",
    "    y_hat_test = X_mat_test.dot(coefs)\n",
    "    print(\"The RMSE for test set:\", compute_rmse(y_hat_test, y_test_set))\n",
    "    \n",
    "    X_mat_train = np.c_[np.ones((len(X_train_sets[i]), 1)), X_train_sets[i]]\n",
    "    y_hat_train = X_mat_train.dot(coefs)\n",
    "    print(\"The RMSE for train set:\", compute_rmse(y_hat_train, y_train_set))\n"
   ]
  },
  {
   "cell_type": "markdown",
   "metadata": {
    "id": "sxZdfCKvjl7U"
   },
   "source": [
    "Compared to the results in 4.2, the gap between the RMSE for test set and the RMSE for train set become a bit closer."
   ]
  },
  {
   "cell_type": "markdown",
   "metadata": {
    "id": "QIYjxCfAjl7U"
   },
   "source": [
    "### 4.4: Cross-validate lambda\n",
    "\n",
    "This is where it all comes together! Use k-fold cross-validation to select the optimal value of lambda. In other words, define a set of different values of lambda. Then, using the 80% of your data that you set aside for training, iterate through the values of lambda one at a time. For each value of lambda, use k-fold cross-validation to compute the average cross-validated (test) RMSE for that lambda value, computed as the average across the held-out folds. You should also record the average cross-validated train RMSE, computed as the average across the folds used for training. Create a scatter plot that shows RMSE as a function of lambda. The scatter plot should have two lines: a red line showing the cross-validated (test) RMSE, and a blue line showing the cross-validated train RMSE.  At this point, you should not have touched your held-out 20% of \"true\" test data.\n",
    "\n",
    "What value of lambda minimizes your cross-validated (test) RMSE? Fix that value of lambda, and train a new model using all of your training data with that value of lambda (i.e., use the entire 80% of the data that you set aside in 4.1). Calcuate the RMSE for this model on the 20% of \"true\" test data. How does your test RMSE compare to the RMSE from 4.3, 4.2, 2.3, and to the RMSE from nearest neighbors? What do you make of these results?\n",
    "\n",
    "Go brag to your friends about how you just implemented cross-validated ridge-regularized multivariate regression using gradient descent optimization, from scratch. If you still have friends."
   ]
  },
  {
   "cell_type": "code",
   "execution_count": 332,
   "metadata": {},
   "outputs": [],
   "source": [
    "lambdas = np.linspace(0,10,11)"
   ]
  },
  {
   "cell_type": "code",
   "execution_count": 350,
   "metadata": {},
   "outputs": [],
   "source": [
    "y_train_data = np.array(y_train_set)\n",
    "y_test_data = np.array(y_test_set)\n",
    "X_train_data = X_train_sets[60]\n",
    "X_test_data = X_test_sets[60]\n",
    "\n",
    "# X_train_sets = []\n",
    "# X_test_sets = []"
   ]
  },
  {
   "cell_type": "code",
   "execution_count": 355,
   "metadata": {
    "id": "35QDSkeGjl7U"
   },
   "outputs": [
    {
     "name": "stdout",
     "output_type": "stream",
     "text": [
      "Time taken: 0.19 seconds\n",
      "The RMSE for test set: 6.362578647200465\n",
      "The RMSE for train set: 6.123744165379022\n",
      "Time taken: 0.17 seconds\n",
      "The RMSE for test set: 5.805975807019213\n",
      "The RMSE for train set: 6.274761466773228\n",
      "Time taken: 0.21 seconds\n",
      "The RMSE for test set: 6.529641767836626\n",
      "The RMSE for train set: 6.0730583764059896\n",
      "Time taken: 0.21 seconds\n",
      "The RMSE for test set: 5.091023561928174\n",
      "The RMSE for train set: 6.4091125035247565\n",
      "Time taken: 0.22 seconds\n",
      "The RMSE for test set: 7.206619942333616\n",
      "The RMSE for train set: 5.887247637480764\n",
      "Time taken: 0.27 seconds\n",
      "The RMSE for test set: 6.366339822934655\n",
      "The RMSE for train set: 6.123846032406392\n",
      "Time taken: 0.25 seconds\n",
      "The RMSE for test set: 5.800024018857976\n",
      "The RMSE for train set: 6.2748668209203045\n",
      "Time taken: 0.22 seconds\n",
      "The RMSE for test set: 6.530616285971684\n",
      "The RMSE for train set: 6.07316169267528\n",
      "Time taken: 0.23 seconds\n",
      "The RMSE for test set: 5.086303285774549\n",
      "The RMSE for train set: 6.409211462581828\n",
      "Time taken: 0.22 seconds\n",
      "The RMSE for test set: 7.209763284973583\n",
      "The RMSE for train set: 5.887352563509298\n",
      "Time taken: 0.25 seconds\n",
      "The RMSE for test set: 6.370267177506635\n",
      "The RMSE for train set: 6.124150361636326\n",
      "Time taken: 0.25 seconds\n",
      "The RMSE for test set: 5.794283686856512\n",
      "The RMSE for train set: 6.275181549328584\n",
      "Time taken: 0.23 seconds\n",
      "The RMSE for test set: 6.531779767497325\n",
      "The RMSE for train set: 6.073470287156121\n",
      "Time taken: 0.22 seconds\n",
      "The RMSE for test set: 5.081831756412664\n",
      "The RMSE for train set: 6.409507048478999\n",
      "Time taken: 0.24 seconds\n",
      "The RMSE for test set: 7.21306008514261\n",
      "The RMSE for train set: 5.887665975264549\n",
      "Time taken: 0.24 seconds\n",
      "The RMSE for test set: 6.374367887955597\n",
      "The RMSE for train set: 6.124655300110236\n",
      "Time taken: 0.25 seconds\n",
      "The RMSE for test set: 5.788819131774554\n",
      "The RMSE for train set: 6.2757036725951645\n",
      "Time taken: 0.25 seconds\n",
      "The RMSE for test set: 6.53312459865944\n",
      "The RMSE for train set: 6.07398231419475\n",
      "Time taken: 0.24 seconds\n",
      "The RMSE for test set: 5.07760733692771\n",
      "The RMSE for train set: 6.409997504587457\n",
      "Time taken: 0.24 seconds\n",
      "The RMSE for test set: 7.216509823456761\n",
      "The RMSE for train set: 5.888186036921103\n",
      "Time taken: 0.24 seconds\n",
      "The RMSE for test set: 6.378646232708767\n",
      "The RMSE for train set: 6.125358978750748\n",
      "Time taken: 0.24 seconds\n",
      "The RMSE for test set: 5.783630797121149\n",
      "The RMSE for train set: 6.276431210911164\n",
      "Time taken: 0.24 seconds\n",
      "The RMSE for test set: 6.534651426834456\n",
      "The RMSE for train set: 6.074695869230915\n",
      "Time taken: 0.24 seconds\n",
      "The RMSE for test set: 5.073628235109522\n",
      "The RMSE for train set: 6.4106810205603\n",
      "Time taken: 0.23 seconds\n",
      "The RMSE for test set: 7.220109971216243\n",
      "The RMSE for train set: 5.888910791739661\n",
      "Time taken: 0.23 seconds\n",
      "The RMSE for test set: 6.383096197593028\n",
      "The RMSE for train set: 6.126259529696248\n",
      "Time taken: 0.25 seconds\n",
      "The RMSE for test set: 5.778715914339649\n",
      "The RMSE for train set: 6.277362180852432\n",
      "Time taken: 0.24 seconds\n",
      "The RMSE for test set: 6.536355808573059\n",
      "The RMSE for train set: 6.075609071082187\n",
      "Time taken: 0.23 seconds\n",
      "The RMSE for test set: 5.069892949590023\n",
      "The RMSE for train set: 6.4115557940798436\n",
      "Time taken: 0.23 seconds\n",
      "The RMSE for test set: 7.22385915098465\n",
      "The RMSE for train set: 5.8898383452943746\n",
      "Time taken: 0.27 seconds\n",
      "The RMSE for test set: 6.387719081232842\n",
      "The RMSE for train set: 6.127355082611821\n",
      "Time taken: 0.28 seconds\n",
      "The RMSE for test set: 5.774073641332734\n",
      "The RMSE for train set: 6.278494598156424\n",
      "Time taken: 0.24 seconds\n",
      "The RMSE for test set: 6.538238395310396\n",
      "The RMSE for train set: 6.07672000918685\n",
      "Time taken: 0.26 seconds\n",
      "The RMSE for test set: 5.066400047462724\n",
      "The RMSE for train set: 6.412620024019573\n",
      "Time taken: 0.25 seconds\n",
      "The RMSE for test set: 7.227755621393176\n",
      "The RMSE for train set: 5.8909667677344615\n",
      "Time taken: 0.25 seconds\n",
      "The RMSE for test set: 6.3925097062334215\n",
      "The RMSE for train set: 6.128643764930556\n",
      "Time taken: 0.26 seconds\n",
      "The RMSE for test set: 5.76970242382905\n",
      "The RMSE for train set: 6.279826477251\n",
      "Time taken: 0.25 seconds\n",
      "The RMSE for test set: 6.540296804982223\n",
      "The RMSE for train set: 6.078026787613565\n",
      "Time taken: 0.26 seconds\n",
      "The RMSE for test set: 5.063147084343069\n",
      "The RMSE for train set: 6.413871895985082\n",
      "Time taken: 0.26 seconds\n",
      "The RMSE for test set: 7.2317978031351275\n",
      "The RMSE for train set: 5.892294142306126\n",
      "Time taken: 0.27 seconds\n",
      "The RMSE for test set: 6.397467468675234\n",
      "The RMSE for train set: 6.1301237042211225\n",
      "Time taken: 0.29 seconds\n",
      "The RMSE for test set: 5.76559967805478\n",
      "The RMSE for train set: 6.281355833997442\n",
      "Time taken: 0.29 seconds\n",
      "The RMSE for test set: 6.542529365390484\n",
      "The RMSE for train set: 6.079527504624304\n",
      "Time taken: 0.27 seconds\n",
      "The RMSE for test set: 5.060133637174462\n",
      "The RMSE for train set: 6.415309624097479\n",
      "Time taken: 0.37 seconds\n",
      "The RMSE for test set: 7.235984061236607\n",
      "The RMSE for train set: 5.893818542353937\n",
      "Time taken: 0.35 seconds\n",
      "The RMSE for test set: 6.402589907279604\n",
      "The RMSE for train set: 6.131793027081824\n",
      "Time taken: 0.36 seconds\n",
      "The RMSE for test set: 5.761764386221491\n",
      "The RMSE for train set: 6.283080682322445\n",
      "Time taken: 0.35 seconds\n",
      "The RMSE for test set: 6.544933821454904\n",
      "The RMSE for train set: 6.081220263615567\n",
      "Time taken: 0.35 seconds\n",
      "The RMSE for test set: 5.057356792841765\n",
      "The RMSE for train set: 6.416931388139427\n",
      "Time taken: 0.31 seconds\n",
      "The RMSE for test set: 7.240312746994153\n",
      "The RMSE for train set: 5.895538035193161\n",
      "Time taken: 0.30 seconds\n",
      "The RMSE for test set: 6.407875497198125\n",
      "The RMSE for train set: 6.133649861029209\n",
      "Time taken: 0.33 seconds\n",
      "The RMSE for test set: 5.758192661510679\n",
      "The RMSE for train set: 6.2849990420421395\n",
      "Time taken: 0.30 seconds\n",
      "The RMSE for test set: 6.5475093625662755\n",
      "The RMSE for train set: 6.0831031525721775\n",
      "Time taken: 0.30 seconds\n",
      "The RMSE for test set: 5.054815522553486\n",
      "The RMSE for train set: 6.418735396017001\n",
      "Time taken: 0.28 seconds\n",
      "The RMSE for test set: 7.2447823195761405\n",
      "The RMSE for train set: 5.8974507025877\n",
      "[6.153584829912752, 6.153687714418621, 6.153995044372916, 6.154504965681742, 6.155215574238558, 6.156124984201018, 6.157231296341826, 6.158532613617266, 6.160027041858856, 6.161712679270485, 6.163587630849646]\n",
      "[6.1991679452636195, 6.198609339702489, 6.198244494683149, 6.198085755754812, 6.198133332598028, 6.1983840042160825, 6.198837357346375, 6.199490764504578, 6.2003428421063145, 6.201391530958384, 6.202635072680941]\n"
     ]
    }
   ],
   "source": [
    "# Your code here\n",
    "\n",
    "RMSE_avg_train = []\n",
    "RMSE_avg_test = []\n",
    "\n",
    "for L in lambdas:\n",
    "    kf = KFold(n_splits=5)\n",
    "    RMSE_sub_train = []\n",
    "    RMSE_sub_test = []\n",
    "    for train_idx, test_idx in kf.split(X_train_data):\n",
    "\n",
    "        X_sub_train = X_train_data[train_idx]\n",
    "        X_sub_test = X_train_data[test_idx]\n",
    "        \n",
    "        y_sub_train = y_train_data[train_idx]\n",
    "        y_sub_test = y_train_data[test_idx]\n",
    "        \n",
    "        alpha, beta_arr, _, _ = ridge_regularization_multivariate_ols(X_sub_train, y_sub_train, 0.01, 1000, L)\n",
    "        \n",
    "        coefs = []\n",
    "        coefs.append(alpha[0])\n",
    "        for j in range(len(beta_arr)):\n",
    "            coefs.append(beta_arr[j][0])\n",
    "            \n",
    "            \n",
    "        X_mat_test = np.c_[np.ones((len(X_sub_test), 1)), X_sub_test]\n",
    "        y_hat_test = X_mat_test.dot(coefs)\n",
    "        print(\"The RMSE for test set:\", compute_rmse(y_hat_test, y_sub_test))\n",
    "        RMSE_sub_test.append(compute_rmse(y_hat_test, y_sub_test))\n",
    "        \n",
    "        X_mat_train = np.c_[np.ones((len(X_sub_train), 1)), X_sub_train]\n",
    "        y_hat_train = X_mat_train.dot(coefs)\n",
    "        print(\"The RMSE for train set:\", compute_rmse(y_hat_train, y_sub_train))\n",
    "        RMSE_sub_train.append(compute_rmse(y_hat_train, y_sub_train))\n",
    "    \n",
    "    \n",
    "    RMSE_avg_test.append(np.mean(RMSE_sub_test))\n",
    "    RMSE_avg_train.append(np.mean(RMSE_sub_train))\n",
    "\n",
    "print(RMSE_avg_train)\n",
    "print(RMSE_avg_test)"
   ]
  },
  {
   "cell_type": "code",
   "execution_count": 358,
   "metadata": {},
   "outputs": [
    {
     "data": {
      "text/plain": [
       "[<matplotlib.lines.Line2D at 0x7fa15cf460d0>,\n",
       " <matplotlib.lines.Line2D at 0x7fa15cf46190>]"
      ]
     },
     "execution_count": 358,
     "metadata": {},
     "output_type": "execute_result"
    },
    {
     "data": {
      "image/png": "[encoded data removed]",
      "text/plain": [
       "<Figure size 432x288 with 1 Axes>"
      ]
     },
     "metadata": {
      "needs_background": "light"
     },
     "output_type": "display_data"
    }
   ],
   "source": [
    "plt.plot(lambdas, RMSE_avg_train, 'bo', lambdas, RMSE_avg_test, 'ro')"
   ]
  },
  {
   "cell_type": "code",
   "execution_count": 363,
   "metadata": {},
   "outputs": [
    {
     "name": "stdout",
     "output_type": "stream",
     "text": [
      "the lambda value that has the smallest RMSE for test\n"
     ]
    },
    {
     "data": {
      "text/plain": [
       "3.0"
      ]
     },
     "execution_count": 363,
     "metadata": {},
     "output_type": "execute_result"
    }
   ],
   "source": [
    "print(\"the lambda value that has the smallest RMSE for test\")\n",
    "lambdas[RMSE_avg_test.index(np.min(RMSE_avg_test))]"
   ]
  },
  {
   "cell_type": "markdown",
   "metadata": {},
   "source": [
    "What value of lambda minimizes your cross-validated (test) RMSE? Fix that value of lambda, and train a new model using all of your training data with that value of lambda (i.e., use the entire 80% of the data that you set aside in 4.1). Calcuate the RMSE for this model on the 20% of \"true\" test data. How does your test RMSE compare to the RMSE from 4.3, 4.2, 2.3, and to the RMSE from nearest neighbors? What do you make of these results?"
   ]
  },
  {
   "cell_type": "code",
   "execution_count": 365,
   "metadata": {},
   "outputs": [
    {
     "name": "stdout",
     "output_type": "stream",
     "text": [
      "Time taken: 0.34 seconds\n",
      "The RMSE for test set: 6.054203888550373\n",
      "The RMSE for train set: 6.164663824851001\n"
     ]
    }
   ],
   "source": [
    "alpha, beta_arr, _, _ = ridge_regularization_multivariate_ols(X_train_data, y_train_data, 0.01, 1000, 3)\n",
    "        \n",
    "coefs = []\n",
    "coefs.append(alpha[0])\n",
    "for j in range(len(beta_arr)):\n",
    "    coefs.append(beta_arr[j][0])\n",
    "            \n",
    "            \n",
    "X_mat_test = np.c_[np.ones((len(X_test_data), 1)), X_test_data]\n",
    "y_hat_test = X_mat_test.dot(coefs)\n",
    "print(\"The RMSE for test set:\", compute_rmse(y_hat_test, y_test_data))\n",
    "\n",
    "X_mat_train = np.c_[np.ones((len(X_train_data), 1)), X_train_data]\n",
    "y_hat_train = X_mat_train.dot(coefs)\n",
    "print(\"The RMSE for train set:\", compute_rmse(y_hat_train, y_train_data))\n"
   ]
  },
  {
   "cell_type": "markdown",
   "metadata": {
    "id": "fJRo-C3kjl7U"
   },
   "source": [
    "The RMSE values for 4.2, 4.3, and 4.4 are pretty close, but we see a bigger difference with the result from 2.3."
   ]
  },
  {
   "cell_type": "markdown",
   "metadata": {
    "id": "izzKtl3_jl7U"
   },
   "source": [
    "###  Extra Credit 2: AdaGrad\n",
    "\n",
    "AdaGrad is a method to implement gradient descent with different learning rates for each feature. Adaptive algorithms like this one are being extensively used especially in neural network training. Implement AdaGrad on 2.3 but now use CRIM, RM and DIS as independent variables. Standardize these variables before inputting them to the gradient descent algorithm. Tune the algorithm until you estimate the regression coefficients within a tolerance of 1e-1. Use mini-batch gradient descent in this implementation. In summary for each parameter (in our case one intercept and three slopes) the update step of the gradient (in this example $\\beta_j$) at iteration $k$ of the GD algorithm becomes:\n",
    "\n",
    "$$\\beta_j=\\beta_j -\\frac{R}{\\sqrt{G^{(k)}_j}}\\frac{\\partial J(\\alpha,\\beta_1,\\ldots)}{\\partial \\beta_j}$$ where\n",
    "$G^{(k)}_j=\\sum_{i=1}^{k} (\\frac{\\partial J^{(i)}(\\alpha,\\beta_1,\\ldots)}{\\partial \\beta_j})^2$ and $R$ is your learning rate. The notation $\\frac{\\partial J^{(i)}(\\alpha,\\beta_1,\\ldots)}{\\partial \\beta_j}$ corresponds to the value of the gradient at iteration $(i)$. Essentially we are \"storing\" information about previous iteration gradients. Doing that we effectively decrease the learning rate slower when a feature $x_i$ is sparse (i.e. has many zero values which would lead to zero gradients). Although this method is not necessary for our regression problem, it is good to be familiar with these methods as they are widely used in neural network training.  "
   ]
  },
  {
   "cell_type": "code",
   "execution_count": null,
   "metadata": {
    "collapsed": true,
    "id": "n-fxLK0Rjl7V"
   },
   "outputs": [],
   "source": [
    "# Your code here"
   ]
  },
  {
   "cell_type": "markdown",
   "metadata": {
    "id": "bAa0A7Zzjl7V"
   },
   "source": [
    "*Discuss your results here*"
   ]
  }
 ],
 "metadata": {
  "anaconda-cloud": {},
  "colab": {
   "name": "_INFO251_PS4_2022_Feb22.ipynb",
   "provenance": []
  },
  "kernelspec": {
   "display_name": "Python 3 (ipykernel)",
   "language": "python",
   "name": "python3"
  },
  "language_info": {
   "codemirror_mode": {
    "name": "ipython",
    "version": 3
   },
   "file_extension": ".py",
   "mimetype": "text/x-python",
   "name": "python",
   "nbconvert_exporter": "python",
   "pygments_lexer": "ipython3",
   "version": "3.8.5"
  }
 },
 "nbformat": 4,
 "nbformat_minor": 1
}
