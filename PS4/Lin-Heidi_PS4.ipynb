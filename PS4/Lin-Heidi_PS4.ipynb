{
 "cells": [
  {
   "cell_type": "markdown",
   "metadata": {
    "id": "ckWwG9pdjl7E"
   },
   "source": [
    "\n",
    "This is a fun but challenging problem set. It will test your python skills, as well as your understanding of the material in class and in the readings. Start early and debug often! Some notes:\n",
    "\n",
    "* Part 1 is meant to be easy, so get through it quickly.\n",
    "* Part 2 (especially 2.1) will be difficult, but it is the lynchpin of this problem set to make sure to do it well and understand what you've done. If you find your gradient descent algorithm is taking more than a few minutes to complete, debug more, compare notes with others, and go to the Lab sessions (especially the sections on vectorized computation and computational efficiency).\n",
    "* Depending on how well you've done 2.1, parts 2.3 and 4.3 will be relatively painless or incredibly painful. \n",
    "\n",
    "* Part 4 (especially 4.3) will be computationally intensive. Don't leave this until the last minute, otherwise your code might be running when the deadline arrives.\n",
    "\n",
    "* Do the extra credit problems last. This can help you increase your scores"
   ]
  },
  {
   "cell_type": "markdown",
   "metadata": {
    "id": "9Bscj7wWjl7I"
   },
   "source": [
    "---\n",
    "\n",
    "## Introduction to the assignment\n",
    "\n",
    "As with the last assignment, you will be using the [Boston Housing Prices Data Set](https://archive.ics.uci.edu/ml/machine-learning-databases/housing/housing.names)."
   ]
  },
  {
   "cell_type": "code",
   "execution_count": 7,
   "metadata": {
    "id": "t0_LwTzXjl7J"
   },
   "outputs": [],
   "source": [
    "import IPython\n",
    "import numpy as np\n",
    "import scipy as sp\n",
    "import pandas as pd\n",
    "import matplotlib\n",
    "import sklearn\n",
    "import time\n",
    "\n",
    "%matplotlib inline  \n",
    "import matplotlib.pyplot as plt  \n",
    "import statsmodels.api as sm\n",
    "from sklearn.linear_model import LinearRegression\n",
    "from sklearn.metrics import mean_squared_error\n",
    "import statsmodels.formula.api as smf\n",
    "from sklearn.model_selection import KFold"
   ]
  },
  {
   "cell_type": "code",
   "execution_count": 2,
   "metadata": {
    "id": "72miT9Zhjl7K"
   },
   "outputs": [
    {
     "data": {
      "text/html": [
       "<div>\n",
       "<style scoped>\n",
       "    .dataframe tbody tr th:only-of-type {\n",
       "        vertical-align: middle;\n",
       "    }\n",
       "\n",
       "    .dataframe tbody tr th {\n",
       "        vertical-align: top;\n",
       "    }\n",
       "\n",
       "    .dataframe thead th {\n",
       "        text-align: right;\n",
       "    }\n",
       "</style>\n",
       "<table border=\"1\" class=\"dataframe\">\n",
       "  <thead>\n",
       "    <tr style=\"text-align: right;\">\n",
       "      <th></th>\n",
       "      <th>CRIM</th>\n",
       "      <th>ZN</th>\n",
       "      <th>INDUS</th>\n",
       "      <th>CHAS</th>\n",
       "      <th>NOX</th>\n",
       "      <th>RM</th>\n",
       "      <th>AGE</th>\n",
       "      <th>DIS</th>\n",
       "      <th>RAD</th>\n",
       "      <th>TAX</th>\n",
       "      <th>PTRATIO</th>\n",
       "      <th>B</th>\n",
       "      <th>LSTAT</th>\n",
       "      <th>MEDV</th>\n",
       "    </tr>\n",
       "  </thead>\n",
       "  <tbody>\n",
       "    <tr>\n",
       "      <th>0</th>\n",
       "      <td>0.218960</td>\n",
       "      <td>18.0</td>\n",
       "      <td>2.629288</td>\n",
       "      <td>0.0</td>\n",
       "      <td>0.869420</td>\n",
       "      <td>6.875396</td>\n",
       "      <td>65.2</td>\n",
       "      <td>4.347275</td>\n",
       "      <td>1.0</td>\n",
       "      <td>307.0</td>\n",
       "      <td>15.534711</td>\n",
       "      <td>397.462329</td>\n",
       "      <td>5.715647</td>\n",
       "      <td>24.0</td>\n",
       "    </tr>\n",
       "    <tr>\n",
       "      <th>1</th>\n",
       "      <td>0.141576</td>\n",
       "      <td>0.0</td>\n",
       "      <td>7.315612</td>\n",
       "      <td>0.0</td>\n",
       "      <td>0.549711</td>\n",
       "      <td>6.499894</td>\n",
       "      <td>78.9</td>\n",
       "      <td>5.315684</td>\n",
       "      <td>2.0</td>\n",
       "      <td>255.0</td>\n",
       "      <td>17.914131</td>\n",
       "      <td>397.012611</td>\n",
       "      <td>9.338417</td>\n",
       "      <td>21.6</td>\n",
       "    </tr>\n",
       "    <tr>\n",
       "      <th>2</th>\n",
       "      <td>0.380457</td>\n",
       "      <td>0.0</td>\n",
       "      <td>7.340354</td>\n",
       "      <td>0.0</td>\n",
       "      <td>0.697928</td>\n",
       "      <td>7.263489</td>\n",
       "      <td>61.1</td>\n",
       "      <td>5.356935</td>\n",
       "      <td>2.0</td>\n",
       "      <td>243.0</td>\n",
       "      <td>17.919989</td>\n",
       "      <td>396.628236</td>\n",
       "      <td>4.142473</td>\n",
       "      <td>34.7</td>\n",
       "    </tr>\n",
       "    <tr>\n",
       "      <th>3</th>\n",
       "      <td>0.313563</td>\n",
       "      <td>0.0</td>\n",
       "      <td>2.562407</td>\n",
       "      <td>0.0</td>\n",
       "      <td>0.599629</td>\n",
       "      <td>7.209732</td>\n",
       "      <td>45.8</td>\n",
       "      <td>6.103983</td>\n",
       "      <td>3.0</td>\n",
       "      <td>226.0</td>\n",
       "      <td>18.979527</td>\n",
       "      <td>398.564784</td>\n",
       "      <td>3.239272</td>\n",
       "      <td>33.4</td>\n",
       "    </tr>\n",
       "    <tr>\n",
       "      <th>4</th>\n",
       "      <td>0.330105</td>\n",
       "      <td>0.0</td>\n",
       "      <td>2.497337</td>\n",
       "      <td>0.0</td>\n",
       "      <td>0.476077</td>\n",
       "      <td>7.184111</td>\n",
       "      <td>54.2</td>\n",
       "      <td>6.264372</td>\n",
       "      <td>3.0</td>\n",
       "      <td>234.0</td>\n",
       "      <td>18.708888</td>\n",
       "      <td>399.487766</td>\n",
       "      <td>6.115159</td>\n",
       "      <td>36.2</td>\n",
       "    </tr>\n",
       "    <tr>\n",
       "      <th>...</th>\n",
       "      <td>...</td>\n",
       "      <td>...</td>\n",
       "      <td>...</td>\n",
       "      <td>...</td>\n",
       "      <td>...</td>\n",
       "      <td>...</td>\n",
       "      <td>...</td>\n",
       "      <td>...</td>\n",
       "      <td>...</td>\n",
       "      <td>...</td>\n",
       "      <td>...</td>\n",
       "      <td>...</td>\n",
       "      <td>...</td>\n",
       "      <td>...</td>\n",
       "    </tr>\n",
       "    <tr>\n",
       "      <th>501</th>\n",
       "      <td>0.205345</td>\n",
       "      <td>0.0</td>\n",
       "      <td>11.992590</td>\n",
       "      <td>0.0</td>\n",
       "      <td>0.686750</td>\n",
       "      <td>6.895386</td>\n",
       "      <td>69.1</td>\n",
       "      <td>2.805111</td>\n",
       "      <td>1.0</td>\n",
       "      <td>282.0</td>\n",
       "      <td>21.325449</td>\n",
       "      <td>395.822256</td>\n",
       "      <td>9.795056</td>\n",
       "      <td>22.4</td>\n",
       "    </tr>\n",
       "    <tr>\n",
       "      <th>502</th>\n",
       "      <td>0.120722</td>\n",
       "      <td>0.0</td>\n",
       "      <td>11.994115</td>\n",
       "      <td>0.0</td>\n",
       "      <td>0.583991</td>\n",
       "      <td>6.313574</td>\n",
       "      <td>76.7</td>\n",
       "      <td>2.652694</td>\n",
       "      <td>1.0</td>\n",
       "      <td>282.0</td>\n",
       "      <td>21.032632</td>\n",
       "      <td>398.559567</td>\n",
       "      <td>9.785685</td>\n",
       "      <td>20.6</td>\n",
       "    </tr>\n",
       "    <tr>\n",
       "      <th>503</th>\n",
       "      <td>0.226099</td>\n",
       "      <td>0.0</td>\n",
       "      <td>12.254201</td>\n",
       "      <td>0.0</td>\n",
       "      <td>0.689092</td>\n",
       "      <td>7.199346</td>\n",
       "      <td>91.0</td>\n",
       "      <td>2.348891</td>\n",
       "      <td>1.0</td>\n",
       "      <td>284.0</td>\n",
       "      <td>21.042043</td>\n",
       "      <td>398.026747</td>\n",
       "      <td>5.831161</td>\n",
       "      <td>23.9</td>\n",
       "    </tr>\n",
       "    <tr>\n",
       "      <th>504</th>\n",
       "      <td>0.139833</td>\n",
       "      <td>0.0</td>\n",
       "      <td>12.054379</td>\n",
       "      <td>0.0</td>\n",
       "      <td>0.650875</td>\n",
       "      <td>7.065029</td>\n",
       "      <td>89.3</td>\n",
       "      <td>2.783274</td>\n",
       "      <td>1.0</td>\n",
       "      <td>275.0</td>\n",
       "      <td>21.105130</td>\n",
       "      <td>395.290366</td>\n",
       "      <td>6.890841</td>\n",
       "      <td>22.0</td>\n",
       "    </tr>\n",
       "    <tr>\n",
       "      <th>505</th>\n",
       "      <td>0.183073</td>\n",
       "      <td>0.0</td>\n",
       "      <td>12.282788</td>\n",
       "      <td>0.0</td>\n",
       "      <td>0.783073</td>\n",
       "      <td>6.353149</td>\n",
       "      <td>80.8</td>\n",
       "      <td>2.847304</td>\n",
       "      <td>1.0</td>\n",
       "      <td>283.0</td>\n",
       "      <td>21.326959</td>\n",
       "      <td>400.822740</td>\n",
       "      <td>8.106447</td>\n",
       "      <td>11.9</td>\n",
       "    </tr>\n",
       "  </tbody>\n",
       "</table>\n",
       "<p>506 rows × 14 columns</p>\n",
       "</div>"
      ],
      "text/plain": [
       "         CRIM    ZN      INDUS  CHAS       NOX        RM   AGE       DIS  RAD  \\\n",
       "0    0.218960  18.0   2.629288   0.0  0.869420  6.875396  65.2  4.347275  1.0   \n",
       "1    0.141576   0.0   7.315612   0.0  0.549711  6.499894  78.9  5.315684  2.0   \n",
       "2    0.380457   0.0   7.340354   0.0  0.697928  7.263489  61.1  5.356935  2.0   \n",
       "3    0.313563   0.0   2.562407   0.0  0.599629  7.209732  45.8  6.103983  3.0   \n",
       "4    0.330105   0.0   2.497337   0.0  0.476077  7.184111  54.2  6.264372  3.0   \n",
       "..        ...   ...        ...   ...       ...       ...   ...       ...  ...   \n",
       "501  0.205345   0.0  11.992590   0.0  0.686750  6.895386  69.1  2.805111  1.0   \n",
       "502  0.120722   0.0  11.994115   0.0  0.583991  6.313574  76.7  2.652694  1.0   \n",
       "503  0.226099   0.0  12.254201   0.0  0.689092  7.199346  91.0  2.348891  1.0   \n",
       "504  0.139833   0.0  12.054379   0.0  0.650875  7.065029  89.3  2.783274  1.0   \n",
       "505  0.183073   0.0  12.282788   0.0  0.783073  6.353149  80.8  2.847304  1.0   \n",
       "\n",
       "       TAX    PTRATIO           B     LSTAT  MEDV  \n",
       "0    307.0  15.534711  397.462329  5.715647  24.0  \n",
       "1    255.0  17.914131  397.012611  9.338417  21.6  \n",
       "2    243.0  17.919989  396.628236  4.142473  34.7  \n",
       "3    226.0  18.979527  398.564784  3.239272  33.4  \n",
       "4    234.0  18.708888  399.487766  6.115159  36.2  \n",
       "..     ...        ...         ...       ...   ...  \n",
       "501  282.0  21.325449  395.822256  9.795056  22.4  \n",
       "502  282.0  21.032632  398.559567  9.785685  20.6  \n",
       "503  284.0  21.042043  398.026747  5.831161  23.9  \n",
       "504  275.0  21.105130  395.290366  6.890841  22.0  \n",
       "505  283.0  21.326959  400.822740  8.106447  11.9  \n",
       "\n",
       "[506 rows x 14 columns]"
      ]
     },
     "execution_count": 2,
     "metadata": {},
     "output_type": "execute_result"
    }
   ],
   "source": [
    "boston = pd.read_csv(\"data.txt\", sep = \" \", header=None)\n",
    "boston.columns = ['CRIM','ZN','INDUS','CHAS','NOX','RM','AGE','DIS','RAD','TAX','PTRATIO','B','LSTAT']\n",
    "target = pd.read_csv(\"target.txt\", sep = \" \", header=None)\n",
    "boston[\"MEDV\"] = target\n",
    "boston"
   ]
  },
  {
   "cell_type": "markdown",
   "metadata": {
    "id": "2cbXmKF9jl7L"
   },
   "source": [
    "---\n",
    "\n",
    "## Part 1: Getting oriented\n",
    "\n",
    "\n",
    "### 1.1 Use existing libraries\n",
    "\n",
    "Soon, you will write your own gradient descent algorithm, which you will then use to minimize the squared error cost function.  First, however, let's use the canned versions that come with Python, to make sure we understand what we're aiming to achieve.\n",
    "\n",
    "Using the same Boston housing prices dataset, use the [Linear Regression class](http://scikit-learn.org/stable/modules/generated/sklearn.linear_model.LinearRegression.html) from sklearn or the [OLS class](http://wiki.scipy.org/Cookbook/OLS) from SciPy to explore the relationship between median housing price and number of rooms per house. Do the following:\n",
    "\n",
    "(a) Regress the housing price on the number of rooms per house. Draw a scatter plot of housing price (y-axis) against rooms (x-axis), and draw the regression line in blue.  You might want to make the dots semi-transparent if it improves the presentation of the figure. \n",
    "\n",
    "(b) Regress the housing price on the number of rooms per house and the (number of rooms per house) squared.  Show the (curved) regression line in green. \n",
    "\n",
    "(c) Interpret your results."
   ]
  },
  {
   "cell_type": "code",
   "execution_count": 34,
   "metadata": {},
   "outputs": [
    {
     "name": "stdout",
     "output_type": "stream",
     "text": [
      "-35.576206874519855 8.959927212241066\n"
     ]
    }
   ],
   "source": [
    "X = boston.RM.values.reshape(-1,1)\n",
    "y = boston.MEDV.values\n",
    "\n",
    "lr = LinearRegression(fit_intercept=True)\n",
    "lr.fit(X, y)\n",
    "intercept, coef = lr.intercept_, lr.coef_[0]\n",
    "print(intercept, coef)\n",
    "# mean_squared_error(y, coef*X+intercept, squared=False)"
   ]
  },
  {
   "cell_type": "code",
   "execution_count": 35,
   "metadata": {},
   "outputs": [
    {
     "name": "stdout",
     "output_type": "stream",
     "text": [
      "-7.010080870675754 0.6941761002311669\n"
     ]
    }
   ],
   "source": [
    "X2 = (boston.RM.values**2).reshape(-1,1)\n",
    "\n",
    "lr2 = LinearRegression(fit_intercept=True)\n",
    "lr2.fit(X2, y)\n",
    "intercept2, coef2 = lr2.intercept_, lr2.coef_[0]\n",
    "print(intercept2, coef2)\n",
    "# mean_squared_error(y, coef2*X2+intercept2, squared=False)"
   ]
  },
  {
   "cell_type": "code",
   "execution_count": 33,
   "metadata": {
    "id": "hxCNK0pTjl7L"
   },
   "outputs": [
    {
     "data": {
      "text/plain": [
       "<matplotlib.legend.Legend at 0x7fefeb72b3a0>"
      ]
     },
     "execution_count": 33,
     "metadata": {},
     "output_type": "execute_result"
    },
    {
     "data": {
      "image/png": "[encoded data removed]",
      "text/plain": [
       "<Figure size 648x432 with 1 Axes>"
      ]
     },
     "metadata": {
      "needs_background": "light"
     },
     "output_type": "display_data"
    }
   ],
   "source": [
    "X = boston[\"RM\"]\n",
    "X_sorted = X.sort_values() # to keep curve from going back and forth\n",
    "y = boston[\"MEDV\"]\n",
    "plt.figure(figsize=(9,6))\n",
    "plt.scatter(X, y, alpha=0.5)\n",
    "plt.plot(X, coef*X+intercept, label=\"x = RM\")\n",
    "plt.plot(X_sorted, coef2*X_sorted**2+intercept2, color=\"green\", label=\"x = RM^2\")\n",
    "plt.xlabel('Rooms per house', fontsize=16)\n",
    "plt.ylabel('Median price', fontsize=16)\n",
    "plt.legend()\n"
   ]
  },
  {
   "cell_type": "markdown",
   "metadata": {
    "id": "bjxD1XjXjl7M"
   },
   "source": [
    "*Observations*\n",
    "\n",
    "In the chart, we can see some datapoints lie on the upper part. The regression curve of RM^2 fits better to the dataset because it's closer to these outliers when x is relative small (<5) or large (>8). In short, the RMSE of RM^2 model is smaller than RM model."
   ]
  },
  {
   "cell_type": "markdown",
   "metadata": {
    "id": "hkO8pHRvjl7N"
   },
   "source": [
    "### 1.2 Training and testing\n",
    "\n",
    "Chances are, for the above problem you used all of your data to fit the regression line. In some circumstances this is a reasonable thing to do, but often this will result in overfitting. Let's redo the above results the ML way, using careful cross-validation.  Since you are now experts in cross-validation, and have written your own cross-validation algorithm from scratch, you can now take a shortcut and use the libraries that others have built for you.\n",
    "\n",
    "Using the [cross-validation functions](http://scikit-learn.org/stable/modules/cross_validation.html) from scikit-learn, use 5-fold cross-validation to fit the regression model (a) from 1.1, i.e. the linear fit of housing price on number of rooms per house. Each fold of cross-validation will give you one slope coefficient and one intercept coefficient.  Create a new scatterplot of housing price against rooms, and draw the five different regression lines in light blue, and the oroginal regression line from 1.1 in red (which was estimated using the full dataset). What do you notice?"
   ]
  },
  {
   "cell_type": "code",
   "execution_count": 6,
   "metadata": {
    "id": "gnVo_0TDjl7O"
   },
   "outputs": [
    {
     "data": {
      "text/plain": [
       "<matplotlib.legend.Legend at 0x7feadf4b1e20>"
      ]
     },
     "execution_count": 6,
     "metadata": {},
     "output_type": "execute_result"
    },
    {
     "data": {
      "image/png": "[encoded data removed]",
      "text/plain": [
       "<Figure size 648x432 with 1 Axes>"
      ]
     },
     "metadata": {
      "needs_background": "light"
     },
     "output_type": "display_data"
    }
   ],
   "source": [
    "from sklearn.model_selection import KFold\n",
    "\n",
    "cv = KFold(n_splits=5)\n",
    "params = []\n",
    "\n",
    "for train_idx, test_idx in cv.split(X, y):\n",
    "    # get split dataset\n",
    "    cv_train_X, cv_test_X = X.iloc[train_idx].values.reshape(-1,1), X.iloc[test_idx].values.reshape(-1,1)\n",
    "    cv_train_y, cv_test_y = y.iloc[train_idx].values, y.iloc[test_idx].values\n",
    "    \n",
    "    # fit model\n",
    "    lr = LinearRegression(fit_intercept=True)\n",
    "    lr.fit(cv_train_X, cv_train_y)\n",
    "    \n",
    "    # record\n",
    "    params.append([lr.intercept_, lr.coef_[0]])    \n",
    "\n",
    "\n",
    "# plot \n",
    "plt.figure(figsize=(9,6))\n",
    "plt.scatter(X, y, alpha=0.5)\n",
    "plt.plot(X, coef*X+intercept, color=\"red\", label=\"Training\")\n",
    "for i in range(len(params)):\n",
    "    intercept = params[i][0]\n",
    "    slope = params[i][1]\n",
    "    plt.plot(X, slope*X+intercept, color=\"lightblue\", label=f\"CV-{i+1}\")\n",
    "plt.xlabel('Rooms per house', fontsize=16)\n",
    "plt.ylabel('Median price', fontsize=16)\n",
    "plt.legend()"
   ]
  },
  {
   "cell_type": "markdown",
   "metadata": {
    "id": "a9CI66kKjl7O"
   },
   "source": [
    "*Observations*\n",
    "\n",
    "The regression line of each fold are colse to the red line (the original regression line)."
   ]
  },
  {
   "cell_type": "markdown",
   "metadata": {
    "id": "cblgmgiBjl7P"
   },
   "source": [
    "## Part 2: Gradient descent: Linear Regression\n",
    "\n",
    "This is where it gets fun!\n",
    "\n",
    "### 2.1 Implement gradient descent with one independent variable (average rooms per house)\n",
    "\n",
    "Implement the batch gradient descent algorithm that we discussed in class. Use the version you implement to regress the housing price on the number of rooms per house. Experiment with 3-4 different values of the learning rate *R*, and do the following:\n",
    "\n",
    "* Report the values of alpha and beta that minimize the loss function\n",
    "* Report the number of iterations it takes for your algorithm to converge (for each value of *R*)\n",
    "* Report the total running time of your algorithm, in seconds\n",
    "* How do your coefficients compare to the ones estimated through standard libraries? Does this depend on *R*?\n",
    "\n",
    "Some skeleton code is provided below, but you should feel free to delete this code and start from scratch if you prefer.\n",
    "\n",
    "* *Hint 1: Don't forget to implement a stopping condition, so that at every iteration you check whether your results have converged. Common approaches to this are to (a) check to see if the loss has stopped decreasing; and (b) check if both your current parameter esimates are close to the estimates from the previous iteration.  In both cases, \"close\" should not be ==0, it should be <=epsilon, where epsilon is something very small (like 0.0001).*\n",
    "* *Hint 2: Some people like to include a MaxIterations parameter in their gradient descent algorithm, to prevent divergence.*"
   ]
  },
  {
   "cell_type": "code",
   "execution_count": 19,
   "metadata": {
    "id": "yAfAQ5EQjl7Q"
   },
   "outputs": [
    {
     "name": "stdout",
     "output_type": "stream",
     "text": [
      "===== learning rate: 0.01 =====\n",
      "Time taken: 1.79 seconds\n",
      "starting_loss: 1391.2861893959614\n",
      "ending_loss: 22.24593778550142\n",
      "alpha: -35.567552127305916\n",
      "beta: 8.958607963487506\n",
      "iteration: 74792\n",
      "\n",
      "\n",
      "===== learning rate: 0.005 =====\n",
      "Time taken: 3.23 seconds\n",
      "starting_loss: 1391.2861893959614\n",
      "ending_loss: 22.245938223233544\n",
      "alpha: -35.563966895543025\n",
      "beta: 8.958061464275282\n",
      "iteration: 143519\n",
      "\n",
      "\n",
      "===== learning rate: 0.001 =====\n",
      "Time taken: 14.44 seconds\n",
      "starting_loss: 1391.2861893959614\n",
      "ending_loss: 22.245941725609182\n",
      "alpha: -35.54883525910374\n",
      "beta: 8.955754939079526\n",
      "iteration: 647146\n",
      "\n",
      "\n"
     ]
    }
   ],
   "source": [
    "import time\n",
    "\n",
    "\"\"\"\n",
    "Function\n",
    "--------\n",
    "bivariate_ols\n",
    "    Gradient Decent to minimize OLS. Used to find co-efficients of bivariate OLS Linear regression\n",
    "\n",
    "Parameters\n",
    "----------\n",
    "xvalues, yvalues : narray\n",
    "    xvalues: independent variable\n",
    "    yvalues: dependent variable\n",
    "    \n",
    "R: float\n",
    "    Learning rate\n",
    "    \n",
    "MaxIterations: Int\n",
    "    maximum number of iterations\n",
    "    \n",
    "\n",
    "Returns\n",
    "-------\n",
    "alpha: float\n",
    "    intercept\n",
    "    \n",
    "beta: float\n",
    "    co-efficient\n",
    "\"\"\"\n",
    "def bivariate_ols(xvalues, yvalues, R=0.01, MaxIterations=1000, stopping_tolerance=0.0000000001):\n",
    "    # initialize the parameters\n",
    "    start_time = time.time()\n",
    "    N = len(xvalues)\n",
    "    alpha = 10 #-35.5762\n",
    "    beta = 10 #8.9599\n",
    "    loss = ((alpha + beta*xvalues - yvalues)**2).sum()/(2*N)\n",
    "    \n",
    "    # gradient descent\n",
    "    alpha_visited, beta_visited, loss_visited = [alpha], [beta], [loss]\n",
    "    iterations = 0\n",
    "    while iterations < MaxIterations:\n",
    "        \n",
    "        # calculate first derivative\n",
    "        error = alpha + beta*xvalues - yvalues\n",
    "        deriv_alpha = error.sum()/N\n",
    "#         deriv_beta = (error*xvalues).sum()/N\n",
    "        deriv_beta = error.dot(xvalues)/N  # arrayA.dot(arrayB) == (arrayA*arrayB).sum()\n",
    "        \n",
    "        # update the parameters\n",
    "        alpha = alpha - R * deriv_alpha\n",
    "        beta = beta - R * deriv_beta\n",
    "        loss = ((alpha + beta*xvalues - yvalues)**2).sum()/(2*N) # not parameters\n",
    "        \n",
    "        # record the process\n",
    "        alpha_visited.append(alpha)\n",
    "        beta_visited.append(beta)\n",
    "        loss_visited.append(loss)\n",
    "        iterations += 1\n",
    "        \n",
    "        # stopping condition\n",
    "        if iterations > 1 and (abs(loss_visited[-1] - loss_visited[-2]) < stopping_tolerance):\n",
    "            break\n",
    "        \n",
    "    best_alpha = alpha_visited[-1]\n",
    "    best_beta = beta_visited[-1]\n",
    "    \n",
    "    print(\"Time taken: {:.2f} seconds\".format(time.time() - start_time))\n",
    "    print(f\"starting_loss: {loss_visited[0]}\\nending_loss: {loss_visited[-1]}\\nalpha: {best_alpha}\\nbeta: {best_beta}\\niteration: {iterations}\")\n",
    "    return best_alpha, best_beta, loss_visited[-1]\n",
    "\n",
    "# driver\n",
    "X = boston[\"RM\"].values\n",
    "y = boston[\"MEDV\"].values\n",
    "learning_rate = [0.01, 0.005, 0.001]\n",
    "for R in learning_rate:\n",
    "    print(f\"===== learning rate: {R} =====\")\n",
    "    _, _, _ = bivariate_ols(X, y, R, 1000000)\n",
    "    print(\"\\n\")\n"
   ]
  },
  {
   "cell_type": "markdown",
   "metadata": {
    "id": "S7dK9bMZjl7Q"
   },
   "source": [
    "*Observations*\n",
    "\n",
    "- In general, the 3 different learning rate all converged to the same minimum. The coefficients are pretty close, and they are also close to the parameters emtimated by `sklearn.LinearRegression`.\n",
    "- Smaller learning rate took more time to converge.\n",
    "- Different R brings changes in the result (coeffients and final loss). Using a constant R in this exercise, we can't assume that smaller R always converge to a better minimum (with smaller loss)."
   ]
  },
  {
   "cell_type": "markdown",
   "metadata": {
    "id": "jZqg5yW3jl7Q"
   },
   "source": [
    "### 2.2 Data normalization (done for you!)\n",
    "\n",
    "Soon, you will implement a version of gradient descent that can use an arbitrary number of independent variables. Before doing this, we want to give you some code in case you want to standardize your features."
   ]
  },
  {
   "cell_type": "code",
   "execution_count": 3,
   "metadata": {
    "id": "lU9-kG3Tjl7Q"
   },
   "outputs": [],
   "source": [
    "def standardize(raw_data):\n",
    "    return ((raw_data - np.mean(raw_data, axis = 0)) / np.std(raw_data, axis = 0))"
   ]
  },
  {
   "cell_type": "markdown",
   "metadata": {
    "id": "vUUackd0jl7R"
   },
   "source": [
    "### 2.3 Implement gradient descent with an arbitrary number of independent variables\n",
    "\n",
    "Now that you have a simple version of gradient descent working, create a version of gradient descent that can take more than one independent variable.  Assume all independent variables will be continuous.  Test your algorithm using TAX and RM as independent variables. Standardize these variables before inputting them to the gradient descent algorithm. \n",
    "\n",
    "As before,  report and interpret your estimated coefficients, the number of iterations before convergence, and the total running time of your algorithm. Experiment with 2-3 different values of R.\n",
    "\n",
    "* *Hint 1: Be careful to implement this efficiently, otherwise it might take a long time for your code to run. Commands like `np.dot` can be a good friend to you on this problem*"
   ]
  },
  {
   "cell_type": "code",
   "execution_count": 9,
   "metadata": {
    "id": "yhEcthNtjl7R"
   },
   "outputs": [
    {
     "name": "stdout",
     "output_type": "stream",
     "text": [
      "===== learning rate: 0.1 =====\n",
      "Time taken: 0.01 seconds\n",
      "starting_loss: 171.9821423587905\n",
      "ending_loss: 18.847316062695704\n",
      "alpha: 22.532806115529578\n",
      "beta: [-2.72132857  5.53877057]\n",
      "iteration: 170\n",
      "\n",
      "\n",
      "===== learning rate: 0.01 =====\n",
      "Time taken: 0.08 seconds\n",
      "starting_loss: 171.9821423587905\n",
      "ending_loss: 18.847316069003675\n",
      "alpha: 22.53280487075287\n",
      "beta: [-2.72125953  5.53883959]\n",
      "iteration: 1589\n",
      "\n",
      "\n",
      "===== learning rate: 0.001 =====\n",
      "Time taken: 0.45 seconds\n",
      "starting_loss: 171.9821423587905\n",
      "ending_loss: 18.847316132074077\n",
      "alpha: 22.532798818168533\n",
      "beta: [-2.72104486  5.5390542 ]\n",
      "iteration: 14321\n",
      "\n",
      "\n"
     ]
    }
   ],
   "source": [
    "\"\"\"\n",
    "Function\n",
    "--------\n",
    "multivariate_ols\n",
    "    Gradient Decent to minimize OLS. Used to find co-efficients of bivariate OLS Linear regression\n",
    "\n",
    "Parameters\n",
    "----------\n",
    "xvalue_matrix, yvalues : narray\n",
    "    xvalue_matrix: independent variable\n",
    "    yvalues: dependent variable\n",
    "    \n",
    "R: float\n",
    "    Learning rate\n",
    "    \n",
    "MaxIterations: Int\n",
    "    maximum number of iterations\n",
    "    \n",
    "\n",
    "Returns\n",
    "-------\n",
    "alpha: float\n",
    "    intercept\n",
    "    \n",
    "beta_array: array[float]\n",
    "    co-efficient\n",
    "\"\"\"\n",
    "\n",
    "def multivariate_ols(xmatrix, yvalues, R=0.01, MaxIterations=1000, stopping_tolerance=0.0000000001, printing=True):\n",
    "    # initialize the parameters\n",
    "    start_time = time.time()\n",
    "    N = len(xmatrix)\n",
    "    var_N = len(xmatrix[0])\n",
    "    alpha = 10\n",
    "    beta_arr = 10 * np.ones(var_N)\n",
    "    loss = ((alpha + xmatrix.dot(beta_arr) - yvalues)**2).sum()/(2*N)\n",
    "    \n",
    "    # initiate gradient descent\n",
    "    alpha_visited, beta_arr_visited, loss_visited = [alpha], [beta_arr], [loss]\n",
    "    iterations = 0\n",
    "    while iterations < MaxIterations:\n",
    "        \n",
    "        # calculate first derivative\n",
    "        error = alpha + xmatrix.dot(beta_arr) - yvalues\n",
    "        deriv_alpha = error.sum()/N\n",
    "        deriv_beta_arr = np.zeros(var_N)\n",
    "        for b in range(var_N):\n",
    "            beta = beta_arr[b]\n",
    "            loc_arr = np.zeros(var_N)\n",
    "            loc_arr[b] = 1\n",
    "#             deriv_beta = (error*(xmatrix.dot(loc_arr))).sum()/N\n",
    "            deriv_beta = error.dot(xmatrix.dot(loc_arr))/N\n",
    "            deriv_beta_arr[b] = deriv_beta\n",
    "        \n",
    "        # update the parameters\n",
    "        alpha = alpha - R * deriv_alpha\n",
    "        beta_arr = beta_arr - R * deriv_beta_arr\n",
    "        loss = ((alpha + xmatrix.dot(beta_arr) - yvalues)**2).sum()/(2*N)\n",
    "        \n",
    "        # record the process\n",
    "        alpha_visited.append(alpha)\n",
    "        beta_arr_visited.append(beta_arr)\n",
    "        loss_visited.append(loss)\n",
    "        iterations += 1\n",
    "        \n",
    "        # stopping condition\n",
    "        if iterations > 1 and (abs(loss_visited[-1] - loss_visited[-2]) < stopping_tolerance):\n",
    "            break\n",
    "        \n",
    "    best_alpha = alpha_visited[-1]\n",
    "    best_beta_arr = beta_arr_visited[-1]\n",
    "    \n",
    "    if printing:\n",
    "        print(\"Time taken: {:.2f} seconds\".format(time.time() - start_time))\n",
    "        print(f\"starting_loss: {loss_visited[0]}\\nending_loss: {loss_visited[-1]}\\nalpha: {best_alpha}\\nbeta: {best_beta_arr}\\niteration: {iterations}\")\n",
    "    return best_alpha, best_beta_arr, loss_visited[-1]\n",
    "\n",
    "# driver\n",
    "X = standardize(boston[[\"TAX\", \"RM\"]].values) # standardized input variables\n",
    "y = boston[\"MEDV\"].values\n",
    "\n",
    "learning_rate = [0.1, 0.01, 0.001]\n",
    "for R in learning_rate:\n",
    "    print(f\"===== learning rate: {R} =====\")\n",
    "    _, _, _ = multivariate_ols(X, y, R, 1000000)\n",
    "    print(\"\\n\")\n",
    "\n",
    "   \n",
    "    "
   ]
  },
  {
   "cell_type": "markdown",
   "metadata": {
    "id": "E2o_SDdcjl7R"
   },
   "source": [
    "*Observations*\n",
    "\n",
    "Compared to using only one feature (in 2.1), using multiple features:\n",
    "- Converged at a smaller loss\n",
    "- Took less time and iteration to converge\n"
   ]
  },
  {
   "cell_type": "code",
   "execution_count": 10,
   "metadata": {},
   "outputs": [
    {
     "data": {
      "text/plain": [
       "array([[ 0.21896028, 18.        ],\n",
       "       [ 0.14157586,  0.        ],\n",
       "       [ 0.38045747,  0.        ],\n",
       "       [ 0.31356268,  0.        ],\n",
       "       [ 0.3301047 ,  0.        ]])"
      ]
     },
     "execution_count": 10,
     "metadata": {},
     "output_type": "execute_result"
    }
   ],
   "source": [
    "# test codes\n",
    "x = np.array(boston[[\"CRIM\", \"ZN\"]].head())\n",
    "x"
   ]
  },
  {
   "cell_type": "code",
   "execution_count": 11,
   "metadata": {},
   "outputs": [
    {
     "data": {
      "text/plain": [
       "1312.1851657678017"
      ]
     },
     "execution_count": 11,
     "metadata": {},
     "output_type": "execute_result"
    }
   ],
   "source": [
    "b = np.array([1, 2])\n",
    "(x.dot(b)).dot(x.dot(b))"
   ]
  },
  {
   "cell_type": "markdown",
   "metadata": {
    "id": "dMXw_qcYjl7S"
   },
   "source": [
    "### 2.4 Compare standardized vs. non-standardized results\n",
    "\n",
    "Repeat the analysis from 2.3, but this time do not standardize your variables - i.e., use the original data. Use the same three values of R (0.1, 0.01, and 0.001). What do you notice about the running time and convergence properties of your algorithm?"
   ]
  },
  {
   "cell_type": "code",
   "execution_count": 12,
   "metadata": {
    "id": "AnEvJxxhjl7S"
   },
   "outputs": [
    {
     "name": "stdout",
     "output_type": "stream",
     "text": [
      "===== learning rate: 0.1 =====\n"
     ]
    },
    {
     "name": "stderr",
     "output_type": "stream",
     "text": [
      "<ipython-input-9-9df4f69fec08>:58: RuntimeWarning: overflow encountered in square\n",
      "  loss = ((alpha + xmatrix.dot(beta_arr) - yvalues)**2).sum()/(2*N)\n",
      "/Users/heidi/opt/anaconda3/lib/python3.8/site-packages/numpy/core/_methods.py:47: RuntimeWarning: overflow encountered in reduce\n",
      "  return umr_sum(a, axis, dtype, out, keepdims, initial, where)\n",
      "<ipython-input-9-9df4f69fec08>:67: RuntimeWarning: invalid value encountered in double_scalars\n",
      "  if iterations > 1 and (abs(loss_visited[-1] - loss_visited[-2]) < stopping_tolerance):\n",
      "<ipython-input-9-9df4f69fec08>:57: RuntimeWarning: invalid value encountered in subtract\n",
      "  beta_arr = beta_arr - R * deriv_beta_arr\n"
     ]
    },
    {
     "name": "stdout",
     "output_type": "stream",
     "text": [
      "Time taken: 30.50 seconds\n",
      "starting_loss: 10260042.863935156\n",
      "ending_loss: nan\n",
      "alpha: nan\n",
      "beta: [nan nan]\n",
      "iteration: 1000000\n",
      "\n",
      "\n",
      "===== learning rate: 0.01 =====\n",
      "Time taken: 33.21 seconds\n",
      "starting_loss: 10260042.863935156\n",
      "ending_loss: nan\n",
      "alpha: nan\n",
      "beta: [nan nan]\n",
      "iteration: 1000000\n",
      "\n",
      "\n",
      "===== learning rate: 0.001 =====\n",
      "Time taken: 35.00 seconds\n",
      "starting_loss: 10260042.863935156\n",
      "ending_loss: nan\n",
      "alpha: nan\n",
      "beta: [nan nan]\n",
      "iteration: 1000000\n",
      "\n",
      "\n"
     ]
    }
   ],
   "source": [
    "# driver\n",
    "X = boston[[\"TAX\", \"RM\"]].values\n",
    "y = boston[\"MEDV\"].values\n",
    "\n",
    "learning_rate = [0.1, 0.01, 0.001]\n",
    "for R in learning_rate:\n",
    "    print(f\"===== learning rate: {R} =====\")\n",
    "    _, _, _ = multivariate_ols(X, y, R, 1000000)\n",
    "    print(\"\\n\")\n"
   ]
  },
  {
   "cell_type": "markdown",
   "metadata": {
    "id": "BFdApjEsjl7S"
   },
   "source": [
    "*Observations*\n",
    "\n",
    "Without standardizing the input X, the model could not converge, and the estimated loss will increase instead of minimizing."
   ]
  },
  {
   "cell_type": "markdown",
   "metadata": {
    "id": "5pEk2_UZjl7S"
   },
   "source": [
    "## 3. Prediction\n",
    "\n",
    "Let's use our fitted model to make predictions about housing prices. Make sure to first standardize your features before proceeding.\n",
    "\n",
    "### 3.1 Cross-Validation\n",
    "\n",
    "Unless you were careful above, you probably overfit your data again. Let's fix that. Use 5-fold cross-validation to re-fit the multivariate regression from 2.3 above, and report your estimated coefficients (there should be three, corresponding to the intercept and the two coefficients for TAX and RM). Since there are 5 folds, there will be 5 sets of three coefficients -- report them all in a 5x3 table."
   ]
  },
  {
   "cell_type": "code",
   "execution_count": 13,
   "metadata": {
    "id": "DGQRERuIjl7T"
   },
   "outputs": [
    {
     "data": {
      "text/html": [
       "<div>\n",
       "<style scoped>\n",
       "    .dataframe tbody tr th:only-of-type {\n",
       "        vertical-align: middle;\n",
       "    }\n",
       "\n",
       "    .dataframe tbody tr th {\n",
       "        vertical-align: top;\n",
       "    }\n",
       "\n",
       "    .dataframe thead th {\n",
       "        text-align: right;\n",
       "    }\n",
       "</style>\n",
       "<table border=\"1\" class=\"dataframe\">\n",
       "  <thead>\n",
       "    <tr style=\"text-align: right;\">\n",
       "      <th></th>\n",
       "      <th>intercept</th>\n",
       "      <th>coef_TAX</th>\n",
       "      <th>coef_RM</th>\n",
       "    </tr>\n",
       "  </thead>\n",
       "  <tbody>\n",
       "    <tr>\n",
       "      <th>0</th>\n",
       "      <td>23.043964</td>\n",
       "      <td>-3.146726</td>\n",
       "      <td>5.258522</td>\n",
       "    </tr>\n",
       "    <tr>\n",
       "      <th>1</th>\n",
       "      <td>22.268044</td>\n",
       "      <td>-2.733818</td>\n",
       "      <td>4.903569</td>\n",
       "    </tr>\n",
       "    <tr>\n",
       "      <th>2</th>\n",
       "      <td>21.937024</td>\n",
       "      <td>-2.492420</td>\n",
       "      <td>4.542431</td>\n",
       "    </tr>\n",
       "    <tr>\n",
       "      <th>3</th>\n",
       "      <td>22.220313</td>\n",
       "      <td>-3.264265</td>\n",
       "      <td>6.656393</td>\n",
       "    </tr>\n",
       "    <tr>\n",
       "      <th>4</th>\n",
       "      <td>23.259085</td>\n",
       "      <td>-1.527905</td>\n",
       "      <td>6.200851</td>\n",
       "    </tr>\n",
       "  </tbody>\n",
       "</table>\n",
       "</div>"
      ],
      "text/plain": [
       "   intercept  coef_TAX   coef_RM\n",
       "0  23.043964 -3.146726  5.258522\n",
       "1  22.268044 -2.733818  4.903569\n",
       "2  21.937024 -2.492420  4.542431\n",
       "3  22.220313 -3.264265  6.656393\n",
       "4  23.259085 -1.527905  6.200851"
      ]
     },
     "metadata": {},
     "output_type": "display_data"
    }
   ],
   "source": [
    "X = standardize(boston[[\"TAX\", \"RM\"]].values)\n",
    "y = boston[\"MEDV\"].values\n",
    "\n",
    "cv = KFold(n_splits=5)\n",
    "coef_table = []\n",
    "\n",
    "for train_idx, test_idx in cv.split(X, y):\n",
    "    # get split dataset\n",
    "    cv_train_X, cv_test_X = X[train_idx], X[test_idx]\n",
    "    cv_train_y, cv_test_y = y[train_idx], y[test_idx]\n",
    "    \n",
    "    # fit model\n",
    "    alpha, beta, _ = multivariate_ols(cv_train_X, cv_train_y, 0.01, 1000000, printing=False)\n",
    "    \n",
    "    # record\n",
    "    coef_table.append([alpha, beta[0], beta[1]])\n",
    "\n",
    "coef_table = pd.DataFrame(coef_table)\n",
    "coef_table.columns=[\"intercept\", \"coef_TAX\", \"coef_RM\"]\n",
    "display(coef_table)"
   ]
  },
  {
   "cell_type": "markdown",
   "metadata": {
    "id": "cHk88-z5jl7T"
   },
   "source": [
    "*Observations*\n",
    "\n",
    "The coefficeints in different folds should be close to each other if sampling is fully randomized and stratified, just like the plot in 1.2. "
   ]
  },
  {
   "cell_type": "markdown",
   "metadata": {
    "id": "jaRVr5wpjl7T"
   },
   "source": [
    "### 3.2 Predicted values and RMSE\n",
    "\n",
    "Let's figure out how accurate this predictive model turned out to be. Compute the cross-validated RMSE for each of the 5 folds above. In other words, in fold 1, use the parameters estimated on the 80% of the data to make predictions for the 20%, and calculate the RMSE for those 20%. Repeate this for the remaining folds. Report the RMSE for each of the 5-folds, and the average (mean) RMSE across the five folds. How does this average RMSE compare to the performance of your nearest neighbor algorithm from the last problem set?"
   ]
  },
  {
   "cell_type": "code",
   "execution_count": 11,
   "metadata": {},
   "outputs": [],
   "source": [
    "import time \n",
    "\n",
    "def distance(x1, x2, L):\n",
    "    x1, x2 = np.array(x1), np.array(x2)\n",
    "    if len(x1) == len(x2):\n",
    "        dist = np.power(np.power(abs(x1 - x2), L).sum(), 1/L)\n",
    "        return dist\n",
    "\n",
    "def knn(x_train, y_train, x_test, y_test, L, K, output_runtime=True):\n",
    "    start_time = time.time()\n",
    "    n_train = len(x_train)\n",
    "    n_test = len(x_test)\n",
    "    \n",
    "    # predict on testing data\n",
    "    y_pred_test = []\n",
    "    for i in range(n_test):\n",
    "        dist = []\n",
    "        for j in range(n_train):\n",
    "            dist.append(distance(x_test[i], x_train[j], L))\n",
    "        nearest_idx = pd.Series(dist).sort_values().index[:K]\n",
    "        prediction = y_train[nearest_idx].mean()\n",
    "        y_pred_test.append(prediction)\n",
    "        \n",
    "    rmse = mean_squared_error(y_test, y_pred_test, squared=False)\n",
    "    runtime = time.time() - start_time\n",
    "    if output_runtime:\n",
    "        print(\"Time taken: %.2f seconds\" % runtime)\n",
    "\n",
    "    return rmse, y_pred_test, runtime"
   ]
  },
  {
   "cell_type": "code",
   "execution_count": 12,
   "metadata": {
    "id": "9I1zFLBajl7T"
   },
   "outputs": [
    {
     "name": "stdout",
     "output_type": "stream",
     "text": [
      "===== OLS =====\n",
      "RMSE in 5 CV:\n",
      "            0\n",
      "0   4.253769\n",
      "1   5.567072\n",
      "2   5.536903\n",
      "3  10.587122\n",
      "4   6.924939\n",
      "avg RMSE:  6.573960970694429\n",
      "===== KNN =====\n",
      "RMSE in 5 CV:\n",
      "           0\n",
      "0  3.481584\n",
      "1  4.680790\n",
      "2  3.719116\n",
      "3  8.910964\n",
      "4  6.377141\n",
      "avg RMSE:  5.433919081588295\n"
     ]
    }
   ],
   "source": [
    "X = standardize(boston[[\"TAX\", \"RM\"]].values)\n",
    "y = boston[\"MEDV\"].values\n",
    "\n",
    "cv = KFold(n_splits=5)\n",
    "ols_rmse = []\n",
    "knn_rmse = []\n",
    "\n",
    "for train_idx, test_idx in cv.split(X, y):\n",
    "    # get split dataset\n",
    "    cv_train_X, cv_test_X = X[train_idx], X[test_idx]\n",
    "    cv_train_y, cv_test_y = y[train_idx], y[test_idx]\n",
    "    \n",
    "    ### OLS ###\n",
    "    alpha, beta_arr, _ = multivariate_ols(cv_train_X, cv_train_y, 0.01, 1000000, printing=False)\n",
    "    cv_test_y_pred = alpha + cv_test_X.dot(beta_arr)\n",
    "    ols_rmse.append(mean_squared_error(cv_test_y, cv_test_y_pred, squared=False))\n",
    "    \n",
    "    ### KNN ###\n",
    "    cv_knn_rmse, _, _ = knn(cv_train_X, cv_train_y, cv_test_X, cv_test_y, L=2, K=5, output_runtime=False)\n",
    "    knn_rmse.append(cv_knn_rmse)\n",
    "    \n",
    "print(\"===== OLS =====\")\n",
    "print(\"RMSE in 5 CV:\\n\", pd.DataFrame(ols_rmse))\n",
    "print(\"avg RMSE: \", np.mean(ols_rmse))\n",
    "\n",
    "print(\"===== KNN =====\")\n",
    "print(\"RMSE in 5 CV:\\n\", pd.DataFrame(knn_rmse))\n",
    "print(\"avg RMSE: \", np.mean(knn_rmse))\n"
   ]
  },
  {
   "cell_type": "markdown",
   "metadata": {
    "id": "61FuGxiYjl7T"
   },
   "source": [
    "*Observations*\n",
    "\n",
    "Using the same feature set: [\"TAX\", \"RM\"], \n",
    "- The average cross-validated RMSE of multivariate OLS is 6.57 \n",
    "- The average cross-validated RMSE of KNN (K=5, from PS3) is 5.43\n",
    "- KNN performs better in every fold.\n"
   ]
  },
  {
   "cell_type": "markdown",
   "metadata": {
    "id": "6L-AsWOajl7T"
   },
   "source": [
    "### Extra Credit 1: Logistic Regression\n",
    "\n",
    "For extra credit, implement logistic regression using gradient descent. Create a new variable (EXPENSIVE) to indicate whether the median housing price is more than $40,000. Use your model  a logistic regression of EXPENSIVE on CHAS and RM. Report your results."
   ]
  },
  {
   "cell_type": "code",
   "execution_count": 20,
   "metadata": {},
   "outputs": [
    {
     "name": "stdout",
     "output_type": "stream",
     "text": [
      "Time taken: 0.83 seconds\n",
      "starting_loss: nan\n",
      "ending_loss: 0.042264132280572436\n",
      "alpha: -5.003459463216685\n",
      "beta: [0.38265341 2.38184967]\n",
      "iteration: 11513\n",
      "\n",
      "\n",
      "====== Metrics ======\n",
      "accuracy: 0.960  precision: 0.762  recall: 0.516 \n",
      "baseline performance: 1 - (proportion of EXPENSIVE=1) = 0.939\n"
     ]
    }
   ],
   "source": [
    "def predict(X, alpha, beta_arr):\n",
    "    log_odds = alpha + X.dot(beta_arr)\n",
    "    y_prob = 1.0/(1 + np.exp(-log_odds))\n",
    "    return y_prob\n",
    "    \n",
    "def logsitic_regression(xmatrix, yvalues, R=0.01, MaxIterations=1000, stopping_tolerance=0.0000000001, printing=True):\n",
    "    start_time = time.time()\n",
    "    N = len(xmatrix)\n",
    "    var_N = len(xmatrix[0])\n",
    "    alpha = 10\n",
    "    beta_arr = 10 * np.ones(var_N)\n",
    "    y_prob = predict(xmatrix, alpha, beta_arr)\n",
    "    loss = -np.mean(yvalues*(np.log(y_prob)) - (1-yvalues)*np.log(1-y_prob))\n",
    "    \n",
    "    # initiate gradient descent\n",
    "    alpha_visited, beta_arr_visited, loss_visited = [alpha], [beta_arr], [loss]\n",
    "    iterations = 0\n",
    "    while iterations < MaxIterations:\n",
    "        \n",
    "        # calculate first derivative\n",
    "        error = y_prob - yvalues\n",
    "        deriv_alpha = error.sum()/N\n",
    "        deriv_beta_arr = np.zeros(var_N)\n",
    "        for b in range(var_N):\n",
    "            beta = beta_arr[b]\n",
    "            loc_arr = np.zeros(var_N)\n",
    "            loc_arr[b] = 1\n",
    "            deriv_beta = (error*(xmatrix.dot(loc_arr))).sum()/N\n",
    "            deriv_beta_arr[b] = deriv_beta\n",
    "        \n",
    "        # update the parameters\n",
    "        alpha = alpha - R * deriv_alpha\n",
    "        beta_arr = beta_arr - R * deriv_beta_arr\n",
    "        y_prob = predict(xmatrix, alpha, beta_arr)\n",
    "        loss = -np.mean(yvalues*(np.log(y_prob)) - (1-yvalues)*np.log(1-y_prob))\n",
    "        \n",
    "        # record the process\n",
    "        alpha_visited.append(alpha)\n",
    "        beta_arr_visited.append(beta_arr)\n",
    "        loss_visited.append(loss)\n",
    "        iterations += 1\n",
    "        \n",
    "        # stopping condition\n",
    "        if iterations > 1 and (abs(loss_visited[-1] - loss_visited[-2]) < stopping_tolerance):\n",
    "            break\n",
    "        \n",
    "    best_alpha = alpha_visited[-1]\n",
    "    best_beta_arr = beta_arr_visited[-1]\n",
    "    \n",
    "    if printing:\n",
    "        print(\"Time taken: {:.2f} seconds\".format(time.time() - start_time))\n",
    "        print(f\"starting_loss: {loss_visited[0]}\\nending_loss: {loss_visited[-1]}\\nalpha: {best_alpha}\\nbeta: {best_beta_arr}\\niteration: {iterations}\")\n",
    "    return best_alpha, best_beta_arr, loss_visited[-1]\n",
    "\n",
    "# driver\n",
    "boston[\"EXPENSIVE\"] = (boston[\"MEDV\"] > 40)*1\n",
    "X = standardize(boston[[\"CHAS\", \"RM\"]].values)\n",
    "y = boston[\"EXPENSIVE\"].values\n",
    "\n",
    "# train model\n",
    "with np.errstate(divide='ignore', invalid='ignore'): # mute NaN warnings occured during loss calculation\n",
    "    alpha, beta_arr, _ = logsitic_regression(X, y, 0.01, 100000)\n",
    "\n",
    "# predict\n",
    "y_prob = predict(X, alpha, beta_arr)\n",
    "y_pred = (y_prob > 0.5)\n",
    "\n",
    "# performance\n",
    "from sklearn.metrics import accuracy_score, precision_score, recall_score\n",
    "accuracy = accuracy_score(y, y_pred)\n",
    "precision = precision_score(y, y_pred)\n",
    "recall = recall_score(y, y_pred)\n",
    "print(\"\\n\")\n",
    "print(\"====== Metrics ======\")\n",
    "print(\"accuracy: %5.3f \" % accuracy, \n",
    "     \"precision: %5.3f \" % precision,\n",
    "     \"recall: %5.3f \" % recall)\n",
    "print(\"baseline performance: 1 - (proportion of EXPENSIVE=1) = %5.3f\" % (1-boston[\"EXPENSIVE\"].sum()/boston.shape[0]))"
   ]
  },
  {
   "cell_type": "markdown",
   "metadata": {
    "id": "04AamlXLjl7T"
   },
   "source": [
    "*Observations*\n",
    "\n",
    "- Since this is a highly imbalanced dataset, the baseline performance ~= predicting the majority calss for all datapoints. That's accuracy=0.939, recall=0.00 in this case.\n",
    "- The LogisticRegression model provides accuracy=0.960, recall=0.516, which is better than baseline."
   ]
  },
  {
   "cell_type": "markdown",
   "metadata": {
    "id": "nvkpICWsjl7T"
   },
   "source": [
    "## 4 Regularization \n",
    "\n",
    "### 4.1 Get prepped\n",
    "\n",
    "Step 1: Create new interaction variables between each possible pair of the F_s features. If you originally had *K* features, you should now have K+(K*(K+1))/2 features. Standardize all of your features.\n",
    "\n",
    "Step 2: Randomly sample 80% of your data and call this the training set, and set aside the remaining 20% as your test set."
   ]
  },
  {
   "cell_type": "code",
   "execution_count": 22,
   "metadata": {
    "id": "89-Zqpssjl7U"
   },
   "outputs": [
    {
     "data": {
      "text/plain": [
       "[['CRIM', 'ZN'],\n",
       " ['CRIM', 'INDUS'],\n",
       " ['CRIM', 'CHAS'],\n",
       " ['CRIM', 'NOX'],\n",
       " ['CRIM', 'RM'],\n",
       " ['CRIM', 'AGE'],\n",
       " ['CRIM', 'DIS'],\n",
       " ['CRIM', 'RAD'],\n",
       " ['CRIM', 'TAX'],\n",
       " ['CRIM', 'PTRATIO'],\n",
       " ['CRIM', 'B'],\n",
       " ['CRIM', 'LSTAT'],\n",
       " ['ZN', 'INDUS'],\n",
       " ['ZN', 'CHAS'],\n",
       " ['ZN', 'NOX'],\n",
       " ['ZN', 'RM'],\n",
       " ['ZN', 'AGE'],\n",
       " ['ZN', 'DIS'],\n",
       " ['ZN', 'RAD'],\n",
       " ['ZN', 'TAX'],\n",
       " ['ZN', 'PTRATIO'],\n",
       " ['ZN', 'B'],\n",
       " ['ZN', 'LSTAT'],\n",
       " ['INDUS', 'CHAS'],\n",
       " ['INDUS', 'NOX'],\n",
       " ['INDUS', 'RM'],\n",
       " ['INDUS', 'AGE'],\n",
       " ['INDUS', 'DIS'],\n",
       " ['INDUS', 'RAD'],\n",
       " ['INDUS', 'TAX'],\n",
       " ['INDUS', 'PTRATIO'],\n",
       " ['INDUS', 'B'],\n",
       " ['INDUS', 'LSTAT'],\n",
       " ['CHAS', 'NOX'],\n",
       " ['CHAS', 'RM'],\n",
       " ['CHAS', 'AGE'],\n",
       " ['CHAS', 'DIS'],\n",
       " ['CHAS', 'RAD'],\n",
       " ['CHAS', 'TAX'],\n",
       " ['CHAS', 'PTRATIO'],\n",
       " ['CHAS', 'B'],\n",
       " ['CHAS', 'LSTAT'],\n",
       " ['NOX', 'RM'],\n",
       " ['NOX', 'AGE'],\n",
       " ['NOX', 'DIS'],\n",
       " ['NOX', 'RAD'],\n",
       " ['NOX', 'TAX'],\n",
       " ['NOX', 'PTRATIO'],\n",
       " ['NOX', 'B'],\n",
       " ['NOX', 'LSTAT'],\n",
       " ['RM', 'AGE'],\n",
       " ['RM', 'DIS'],\n",
       " ['RM', 'RAD'],\n",
       " ['RM', 'TAX'],\n",
       " ['RM', 'PTRATIO'],\n",
       " ['RM', 'B'],\n",
       " ['RM', 'LSTAT'],\n",
       " ['AGE', 'DIS'],\n",
       " ['AGE', 'RAD'],\n",
       " ['AGE', 'TAX'],\n",
       " ['AGE', 'PTRATIO'],\n",
       " ['AGE', 'B'],\n",
       " ['AGE', 'LSTAT'],\n",
       " ['DIS', 'RAD'],\n",
       " ['DIS', 'TAX'],\n",
       " ['DIS', 'PTRATIO'],\n",
       " ['DIS', 'B'],\n",
       " ['DIS', 'LSTAT'],\n",
       " ['RAD', 'TAX'],\n",
       " ['RAD', 'PTRATIO'],\n",
       " ['RAD', 'B'],\n",
       " ['RAD', 'LSTAT'],\n",
       " ['TAX', 'PTRATIO'],\n",
       " ['TAX', 'B'],\n",
       " ['TAX', 'LSTAT'],\n",
       " ['PTRATIO', 'B'],\n",
       " ['PTRATIO', 'LSTAT'],\n",
       " ['B', 'LSTAT']]"
      ]
     },
     "execution_count": 22,
     "metadata": {},
     "output_type": "execute_result"
    }
   ],
   "source": [
    "# create interaction feature list\n",
    "feature_list = ['CRIM', 'ZN', 'INDUS', 'CHAS', 'NOX', 'RM', 'AGE', 'DIS', 'RAD', 'TAX', 'PTRATIO', 'B', 'LSTAT']\n",
    "feature_pairs = []\n",
    "for f1 in range(len(feature_list)):\n",
    "#     feature_pairs.append([feature_list[f1]])\n",
    "#     feature_pairs.append([feature_list[f1], feature_list[f1]])\n",
    "    for f2 in range(f1+1, len(feature_list)):\n",
    "        pair = [feature_list[f1], feature_list[f2]]\n",
    "        feature_pairs.append(pair)\n",
    "feature_pairs"
   ]
  },
  {
   "cell_type": "code",
   "execution_count": 23,
   "metadata": {
    "scrolled": false
   },
   "outputs": [
    {
     "data": {
      "text/html": [
       "<div>\n",
       "<style scoped>\n",
       "    .dataframe tbody tr th:only-of-type {\n",
       "        vertical-align: middle;\n",
       "    }\n",
       "\n",
       "    .dataframe tbody tr th {\n",
       "        vertical-align: top;\n",
       "    }\n",
       "\n",
       "    .dataframe thead th {\n",
       "        text-align: right;\n",
       "    }\n",
       "</style>\n",
       "<table border=\"1\" class=\"dataframe\">\n",
       "  <thead>\n",
       "    <tr style=\"text-align: right;\">\n",
       "      <th></th>\n",
       "      <th>CRIM</th>\n",
       "      <th>ZN</th>\n",
       "      <th>INDUS</th>\n",
       "      <th>CHAS</th>\n",
       "      <th>NOX</th>\n",
       "      <th>RM</th>\n",
       "      <th>AGE</th>\n",
       "      <th>DIS</th>\n",
       "      <th>RAD</th>\n",
       "      <th>TAX</th>\n",
       "      <th>...</th>\n",
       "      <th>RADxTAX</th>\n",
       "      <th>RADxPTRATIO</th>\n",
       "      <th>RADxB</th>\n",
       "      <th>RADxLSTAT</th>\n",
       "      <th>TAXxPTRATIO</th>\n",
       "      <th>TAXxB</th>\n",
       "      <th>TAXxLSTAT</th>\n",
       "      <th>PTRATIOxB</th>\n",
       "      <th>PTRATIOxLSTAT</th>\n",
       "      <th>BxLSTAT</th>\n",
       "    </tr>\n",
       "  </thead>\n",
       "  <tbody>\n",
       "    <tr>\n",
       "      <th>count</th>\n",
       "      <td>5.060000e+02</td>\n",
       "      <td>5.060000e+02</td>\n",
       "      <td>5.060000e+02</td>\n",
       "      <td>5.060000e+02</td>\n",
       "      <td>5.060000e+02</td>\n",
       "      <td>5.060000e+02</td>\n",
       "      <td>5.060000e+02</td>\n",
       "      <td>5.060000e+02</td>\n",
       "      <td>5.060000e+02</td>\n",
       "      <td>5.060000e+02</td>\n",
       "      <td>...</td>\n",
       "      <td>5.060000e+02</td>\n",
       "      <td>5.060000e+02</td>\n",
       "      <td>5.060000e+02</td>\n",
       "      <td>5.060000e+02</td>\n",
       "      <td>5.060000e+02</td>\n",
       "      <td>5.060000e+02</td>\n",
       "      <td>5.060000e+02</td>\n",
       "      <td>5.060000e+02</td>\n",
       "      <td>5.060000e+02</td>\n",
       "      <td>5.060000e+02</td>\n",
       "    </tr>\n",
       "    <tr>\n",
       "      <th>mean</th>\n",
       "      <td>3.230837e-16</td>\n",
       "      <td>-6.343191e-16</td>\n",
       "      <td>-3.407463e-16</td>\n",
       "      <td>4.701992e-16</td>\n",
       "      <td>-1.400998e-15</td>\n",
       "      <td>-2.825254e-15</td>\n",
       "      <td>-1.423762e-15</td>\n",
       "      <td>-1.876409e-15</td>\n",
       "      <td>5.441409e-16</td>\n",
       "      <td>1.753099e-16</td>\n",
       "      <td>...</td>\n",
       "      <td>-2.310405e-16</td>\n",
       "      <td>4.783174e-16</td>\n",
       "      <td>-3.708057e-17</td>\n",
       "      <td>-2.962057e-17</td>\n",
       "      <td>1.295626e-16</td>\n",
       "      <td>1.018399e-15</td>\n",
       "      <td>1.614870e-16</td>\n",
       "      <td>2.808469e-15</td>\n",
       "      <td>2.049305e-16</td>\n",
       "      <td>1.520962e-15</td>\n",
       "    </tr>\n",
       "    <tr>\n",
       "      <th>std</th>\n",
       "      <td>1.000990e+00</td>\n",
       "      <td>1.000990e+00</td>\n",
       "      <td>1.000990e+00</td>\n",
       "      <td>1.000990e+00</td>\n",
       "      <td>1.000990e+00</td>\n",
       "      <td>1.000990e+00</td>\n",
       "      <td>1.000990e+00</td>\n",
       "      <td>1.000990e+00</td>\n",
       "      <td>1.000990e+00</td>\n",
       "      <td>1.000990e+00</td>\n",
       "      <td>...</td>\n",
       "      <td>1.000990e+00</td>\n",
       "      <td>1.000990e+00</td>\n",
       "      <td>1.000990e+00</td>\n",
       "      <td>1.000990e+00</td>\n",
       "      <td>1.000990e+00</td>\n",
       "      <td>1.000990e+00</td>\n",
       "      <td>1.000990e+00</td>\n",
       "      <td>1.000990e+00</td>\n",
       "      <td>1.000990e+00</td>\n",
       "      <td>1.000990e+00</td>\n",
       "    </tr>\n",
       "    <tr>\n",
       "      <th>min</th>\n",
       "      <td>-4.361564e-01</td>\n",
       "      <td>-4.877224e-01</td>\n",
       "      <td>-1.538226e+00</td>\n",
       "      <td>-2.725986e-01</td>\n",
       "      <td>-2.015477e+00</td>\n",
       "      <td>-4.050681e+00</td>\n",
       "      <td>-2.335437e+00</td>\n",
       "      <td>-1.356452e+00</td>\n",
       "      <td>-9.828429e-01</td>\n",
       "      <td>-1.330951e+00</td>\n",
       "      <td>...</td>\n",
       "      <td>-7.859111e-01</td>\n",
       "      <td>-9.530100e-01</td>\n",
       "      <td>-1.003561e+00</td>\n",
       "      <td>-7.579511e-01</td>\n",
       "      <td>-1.334296e+00</td>\n",
       "      <td>-2.145452e+00</td>\n",
       "      <td>-1.046549e+00</td>\n",
       "      <td>-3.550789e+00</td>\n",
       "      <td>-1.450656e+00</td>\n",
       "      <td>-1.671223e+00</td>\n",
       "    </tr>\n",
       "    <tr>\n",
       "      <th>25%</th>\n",
       "      <td>-4.073236e-01</td>\n",
       "      <td>-4.877224e-01</td>\n",
       "      <td>-8.728710e-01</td>\n",
       "      <td>-2.725986e-01</td>\n",
       "      <td>-7.527715e-01</td>\n",
       "      <td>-5.853111e-01</td>\n",
       "      <td>-8.374480e-01</td>\n",
       "      <td>-7.969357e-01</td>\n",
       "      <td>-6.379618e-01</td>\n",
       "      <td>-7.610163e-01</td>\n",
       "      <td>...</td>\n",
       "      <td>-6.372634e-01</td>\n",
       "      <td>-6.226994e-01</td>\n",
       "      <td>-5.285371e-01</td>\n",
       "      <td>-6.199807e-01</td>\n",
       "      <td>-7.645161e-01</td>\n",
       "      <td>-5.729753e-01</td>\n",
       "      <td>-7.417752e-01</td>\n",
       "      <td>-2.324111e-01</td>\n",
       "      <td>-7.955287e-01</td>\n",
       "      <td>-7.401321e-01</td>\n",
       "    </tr>\n",
       "    <tr>\n",
       "      <th>50%</th>\n",
       "      <td>-3.818725e-01</td>\n",
       "      <td>-4.877224e-01</td>\n",
       "      <td>-2.251620e-01</td>\n",
       "      <td>-2.725986e-01</td>\n",
       "      <td>-3.151203e-02</td>\n",
       "      <td>-1.013785e-01</td>\n",
       "      <td>3.173816e-01</td>\n",
       "      <td>-2.838178e-01</td>\n",
       "      <td>-5.230014e-01</td>\n",
       "      <td>-4.433962e-01</td>\n",
       "      <td>...</td>\n",
       "      <td>-5.380618e-01</td>\n",
       "      <td>-5.585222e-01</td>\n",
       "      <td>-3.791751e-01</td>\n",
       "      <td>-4.763288e-01</td>\n",
       "      <td>-4.593501e-01</td>\n",
       "      <td>-2.926274e-01</td>\n",
       "      <td>-4.061227e-01</td>\n",
       "      <td>3.025343e-01</td>\n",
       "      <td>-2.222831e-01</td>\n",
       "      <td>-1.689888e-01</td>\n",
       "    </tr>\n",
       "    <tr>\n",
       "      <th>75%</th>\n",
       "      <td>5.657007e-03</td>\n",
       "      <td>4.877224e-02</td>\n",
       "      <td>1.012410e+00</td>\n",
       "      <td>-2.725986e-01</td>\n",
       "      <td>6.302320e-01</td>\n",
       "      <td>4.896922e-01</td>\n",
       "      <td>9.067981e-01</td>\n",
       "      <td>6.613002e-01</td>\n",
       "      <td>1.661245e+00</td>\n",
       "      <td>1.494977e+00</td>\n",
       "      <td>...</td>\n",
       "      <td>1.651325e+00</td>\n",
       "      <td>1.639488e+00</td>\n",
       "      <td>-9.403750e-02</td>\n",
       "      <td>1.364565e-01</td>\n",
       "      <td>1.495848e+00</td>\n",
       "      <td>3.617118e-01</td>\n",
       "      <td>5.323260e-01</td>\n",
       "      <td>6.356537e-01</td>\n",
       "      <td>6.548578e-01</td>\n",
       "      <td>5.201456e-01</td>\n",
       "    </tr>\n",
       "    <tr>\n",
       "      <th>max</th>\n",
       "      <td>9.936231e+00</td>\n",
       "      <td>3.804234e+00</td>\n",
       "      <td>2.439882e+00</td>\n",
       "      <td>3.668398e+00</td>\n",
       "      <td>2.492551e+00</td>\n",
       "      <td>3.609165e+00</td>\n",
       "      <td>1.117494e+00</td>\n",
       "      <td>3.881584e+00</td>\n",
       "      <td>1.661245e+00</td>\n",
       "      <td>1.833376e+00</td>\n",
       "      <td>...</td>\n",
       "      <td>1.703243e+00</td>\n",
       "      <td>1.689182e+00</td>\n",
       "      <td>2.203021e+00</td>\n",
       "      <td>3.835083e+00</td>\n",
       "      <td>1.804739e+00</td>\n",
       "      <td>2.264795e+00</td>\n",
       "      <td>3.794034e+00</td>\n",
       "      <td>1.072959e+00</td>\n",
       "      <td>3.571392e+00</td>\n",
       "      <td>4.109090e+00</td>\n",
       "    </tr>\n",
       "  </tbody>\n",
       "</table>\n",
       "<p>8 rows × 104 columns</p>\n",
       "</div>"
      ],
      "text/plain": [
       "               CRIM            ZN         INDUS          CHAS           NOX  \\\n",
       "count  5.060000e+02  5.060000e+02  5.060000e+02  5.060000e+02  5.060000e+02   \n",
       "mean   3.230837e-16 -6.343191e-16 -3.407463e-16  4.701992e-16 -1.400998e-15   \n",
       "std    1.000990e+00  1.000990e+00  1.000990e+00  1.000990e+00  1.000990e+00   \n",
       "min   -4.361564e-01 -4.877224e-01 -1.538226e+00 -2.725986e-01 -2.015477e+00   \n",
       "25%   -4.073236e-01 -4.877224e-01 -8.728710e-01 -2.725986e-01 -7.527715e-01   \n",
       "50%   -3.818725e-01 -4.877224e-01 -2.251620e-01 -2.725986e-01 -3.151203e-02   \n",
       "75%    5.657007e-03  4.877224e-02  1.012410e+00 -2.725986e-01  6.302320e-01   \n",
       "max    9.936231e+00  3.804234e+00  2.439882e+00  3.668398e+00  2.492551e+00   \n",
       "\n",
       "                 RM           AGE           DIS           RAD           TAX  \\\n",
       "count  5.060000e+02  5.060000e+02  5.060000e+02  5.060000e+02  5.060000e+02   \n",
       "mean  -2.825254e-15 -1.423762e-15 -1.876409e-15  5.441409e-16  1.753099e-16   \n",
       "std    1.000990e+00  1.000990e+00  1.000990e+00  1.000990e+00  1.000990e+00   \n",
       "min   -4.050681e+00 -2.335437e+00 -1.356452e+00 -9.828429e-01 -1.330951e+00   \n",
       "25%   -5.853111e-01 -8.374480e-01 -7.969357e-01 -6.379618e-01 -7.610163e-01   \n",
       "50%   -1.013785e-01  3.173816e-01 -2.838178e-01 -5.230014e-01 -4.433962e-01   \n",
       "75%    4.896922e-01  9.067981e-01  6.613002e-01  1.661245e+00  1.494977e+00   \n",
       "max    3.609165e+00  1.117494e+00  3.881584e+00  1.661245e+00  1.833376e+00   \n",
       "\n",
       "       ...       RADxTAX   RADxPTRATIO         RADxB     RADxLSTAT  \\\n",
       "count  ...  5.060000e+02  5.060000e+02  5.060000e+02  5.060000e+02   \n",
       "mean   ... -2.310405e-16  4.783174e-16 -3.708057e-17 -2.962057e-17   \n",
       "std    ...  1.000990e+00  1.000990e+00  1.000990e+00  1.000990e+00   \n",
       "min    ... -7.859111e-01 -9.530100e-01 -1.003561e+00 -7.579511e-01   \n",
       "25%    ... -6.372634e-01 -6.226994e-01 -5.285371e-01 -6.199807e-01   \n",
       "50%    ... -5.380618e-01 -5.585222e-01 -3.791751e-01 -4.763288e-01   \n",
       "75%    ...  1.651325e+00  1.639488e+00 -9.403750e-02  1.364565e-01   \n",
       "max    ...  1.703243e+00  1.689182e+00  2.203021e+00  3.835083e+00   \n",
       "\n",
       "        TAXxPTRATIO         TAXxB     TAXxLSTAT     PTRATIOxB  PTRATIOxLSTAT  \\\n",
       "count  5.060000e+02  5.060000e+02  5.060000e+02  5.060000e+02   5.060000e+02   \n",
       "mean   1.295626e-16  1.018399e-15  1.614870e-16  2.808469e-15   2.049305e-16   \n",
       "std    1.000990e+00  1.000990e+00  1.000990e+00  1.000990e+00   1.000990e+00   \n",
       "min   -1.334296e+00 -2.145452e+00 -1.046549e+00 -3.550789e+00  -1.450656e+00   \n",
       "25%   -7.645161e-01 -5.729753e-01 -7.417752e-01 -2.324111e-01  -7.955287e-01   \n",
       "50%   -4.593501e-01 -2.926274e-01 -4.061227e-01  3.025343e-01  -2.222831e-01   \n",
       "75%    1.495848e+00  3.617118e-01  5.323260e-01  6.356537e-01   6.548578e-01   \n",
       "max    1.804739e+00  2.264795e+00  3.794034e+00  1.072959e+00   3.571392e+00   \n",
       "\n",
       "            BxLSTAT  \n",
       "count  5.060000e+02  \n",
       "mean   1.520962e-15  \n",
       "std    1.000990e+00  \n",
       "min   -1.671223e+00  \n",
       "25%   -7.401321e-01  \n",
       "50%   -1.689888e-01  \n",
       "75%    5.201456e-01  \n",
       "max    4.109090e+00  \n",
       "\n",
       "[8 rows x 104 columns]"
      ]
     },
     "metadata": {},
     "output_type": "display_data"
    }
   ],
   "source": [
    "# create squard features\n",
    "for f in feature_list:\n",
    "    boston[f\"{f}^2\"] = boston[f]**2\n",
    "\n",
    "# create paired features \n",
    "for p in feature_pairs:\n",
    "    f1, f2 = p[0], p[1] \n",
    "    boston[f\"{f1}x{f2}\"] = boston[f1] * boston[f2]\n",
    "    \n",
    "# standardizing input variables\n",
    "X = standardize(boston)\n",
    "X.drop(columns=[\"MEDV\", \"EXPENSIVE\"], inplace=True)\n",
    "# X.drop(columns=[\"MEDV\"], inplace=True)\n",
    "display(X.describe())\n",
    "y = boston[\"MEDV\"]"
   ]
  },
  {
   "cell_type": "code",
   "execution_count": 24,
   "metadata": {},
   "outputs": [
    {
     "name": "stdout",
     "output_type": "stream",
     "text": [
      "(404, 104) (102, 104)\n",
      "mean: 22.522 , 22.575\n"
     ]
    }
   ],
   "source": [
    "# split dataset\n",
    "from sklearn.model_selection import train_test_split\n",
    "X_train, X_test, y_train, y_test = train_test_split(X, y, test_size=0.2, random_state=1)\n",
    "\n",
    "print(X_train.shape, X_test.shape)\n",
    "print(r\"mean: %5.3f\" % y_train.mean(),\", %5.3f\" % y_test.mean())"
   ]
  },
  {
   "cell_type": "markdown",
   "metadata": {
    "id": "JeXkvp7njl7U"
   },
   "source": [
    "### 4.2 Overfitting (sort of)\n",
    "Now, using your version of multivariate regression from 2.3, let's overfit the training data. Using your training set, regress housing price on as many of those K+(K*(K+1))/2 features as you can (Don't forget to add quadratic terms. Form instance, RM^2.).  If you get too greedy, it's possible this will take a long time to compute, so start with 5-10 features, and if you have the time, add more features.\n",
    "\n",
    "Report the RMSE when you apply your model to your training set and to your testing set. How do these numbers compare to each other, and to the RMSE from 3.2 and nearest neighbors?"
   ]
  },
  {
   "cell_type": "code",
   "execution_count": 30,
   "metadata": {
    "id": "kgQ48hi6jl7U"
   },
   "outputs": [
    {
     "name": "stdout",
     "output_type": "stream",
     "text": [
      "Testing Condition:  13 features\n",
      "****** train RMSE: 4.751 *****\n",
      "****** test RMSE: 4.891 ***** \n",
      "\n",
      "Testing Condition:  26 features(+ squared)\n",
      "****** train RMSE: 4.022 *****\n",
      "****** test RMSE: 3.733 ***** \n",
      "\n",
      "Testing Condition:  39 features\n",
      "****** train RMSE: 3.859 *****\n",
      "****** test RMSE: 3.553 ***** \n",
      "\n"
     ]
    }
   ],
   "source": [
    "testing_condition = [\"13 features\", \"26 features(+ squared)\", \"39 features\"] # \"104 features (all pairs)\"\n",
    "testing_feature = [13, 26, 39]\n",
    "    \n",
    "for i in range(3):\n",
    "    print(\"Testing Condition: \", testing_condition[i])\n",
    "    n = testing_feature[i]\n",
    "    partial_X_train = X_train.iloc[:,0:n].values\n",
    "    partial_X_test = X_test.iloc[:,0:n].values\n",
    "    \n",
    "    # train\n",
    "    alpha, beta_arr, _ = multivariate_ols(partial_X_train, y_train, R=0.01, MaxIterations=1000000, printing=False)\n",
    "\n",
    "    # prediction\n",
    "    y_train_pred = alpha + partial_X_train.dot(beta_arr)\n",
    "    y_test_pred = alpha + partial_X_test.dot(beta_arr)\n",
    "\n",
    "    # performance\n",
    "    train_rmse = mean_squared_error(y_train, y_train_pred, squared=False)\n",
    "    test_rmse = mean_squared_error(y_test, y_test_pred, squared=False)\n",
    "    print(\"****** train RMSE: %5.3f *****\" % train_rmse)\n",
    "    print(\"****** test RMSE: %5.3f *****\" % test_rmse, \"\\n\")"
   ]
  },
  {
   "cell_type": "markdown",
   "metadata": {
    "id": "wf3h2JEIjl7U"
   },
   "source": [
    "*Observations*\n",
    "\n",
    "| Algorithm      | Feature count | RSME |\n",
    "| :---           |    :----:     | ---: |\n",
    "| KNN            | 2             | 5.43 (CV)   |\n",
    "| OLS (in 3.2)   | 2             | 6.57 (CV)   |\n",
    "| OLS (in 4.2)   | 13            | 4.75 (Train) / 4.89 (Test)|\n",
    "| OLS (in 4.2)   | 26            | 4.02 (Train) / 3.73 (Test)|\n",
    "| OLS (in 4.2)   | 39            | 3.86 (Train) / 3.55 (Test)|\n",
    "\n",
    "1. Overall, using mode features in OLS regression results in smaller RSME.\n",
    "2. In 4.2 OLS, the gap between train RSME and test RMSE gets larger when more features are added to the model."
   ]
  },
  {
   "cell_type": "markdown",
   "metadata": {
    "id": "XDlDsi4wjl7U"
   },
   "source": [
    "### 4.3 Ridge regularization (basic)\n",
    "Incorporate L2 (Ridge) regularization into your multivariate_ols regression. Write a new version of your gradient descent algorithm that includes a regularization term \"lambda\" to penalize excessive complexity. \n",
    "\n",
    "Use your regularized regression to re-fit the model from 4.2 above on your training data, using the value lambda = 0.5.  Report the RMSE obtained for your training data, and the RMSE obtained for your testing data."
   ]
  },
  {
   "cell_type": "code",
   "execution_count": 31,
   "metadata": {
    "id": "Rlaok4imjl7U",
    "scrolled": true
   },
   "outputs": [
    {
     "name": "stdout",
     "output_type": "stream",
     "text": [
      "Testing Condition:  13 features\n",
      "****** train RMSE: 4.751 *****\n",
      "****** train RMSE: 4.891 ***** \n",
      "\n",
      "Testing Condition:  26 features(+ squared)\n",
      "****** train RMSE: 4.022 *****\n",
      "****** train RMSE: 3.733 ***** \n",
      "\n"
     ]
    }
   ],
   "source": [
    "def multivariate_ols(xmatrix, yvalues, lam=0.5, R=0.01, MaxIterations=1000, stopping_tolerance=0.0000000001, printing=True):\n",
    "    # initialize the parameters\n",
    "    start_time = time.time()\n",
    "    N = len(xmatrix)\n",
    "    var_N = len(xmatrix[0])\n",
    "    alpha = 10\n",
    "    beta_arr = 10 * np.ones(var_N)\n",
    "    loss = ((alpha + xmatrix.dot(beta_arr) - yvalues)**2).sum()/(2*N) + lam*(np.append(alpha, beta_arr)**2).sum()\n",
    "    \n",
    "    # initiate gradient descent\n",
    "    alpha_visited, beta_arr_visited, loss_visited = [alpha], [beta_arr], [loss]\n",
    "    iterations = 0\n",
    "    while iterations < MaxIterations:\n",
    "        \n",
    "        # calculate first derivative\n",
    "        error = alpha + xmatrix.dot(beta_arr) - yvalues\n",
    "        deriv_alpha = error.sum()/N\n",
    "        deriv_beta_arr = np.zeros(var_N)\n",
    "        for b in range(var_N):\n",
    "            beta = beta_arr[b]\n",
    "            loc_arr = np.zeros(var_N)\n",
    "            loc_arr[b] = 1\n",
    "            deriv_beta = error.dot(xmatrix.dot(loc_arr))/N\n",
    "            deriv_beta_arr[b] = deriv_beta\n",
    "        \n",
    "        # update the parameters\n",
    "        alpha = alpha - R * deriv_alpha\n",
    "        beta_arr = beta_arr * (1-R*lam/N) - R * deriv_beta_arr\n",
    "        loss = ((alpha + xmatrix.dot(beta_arr) - yvalues)**2).sum()/(2*N) + lam*(np.append(alpha, beta_arr)**2).sum()\n",
    "\n",
    "        # record the process\n",
    "        alpha_visited.append(alpha)\n",
    "        beta_arr_visited.append(beta_arr)\n",
    "        loss_visited.append(loss)\n",
    "        iterations += 1\n",
    "        \n",
    "        # stopping condition\n",
    "        if iterations > 1 and (abs(loss_visited[-1] - loss_visited[-2]) < stopping_tolerance):\n",
    "            break\n",
    "        \n",
    "    best_alpha = alpha_visited[-1]\n",
    "    best_beta_arr = beta_arr_visited[-1]\n",
    "    \n",
    "    if printing:\n",
    "        print(\"Time taken: {:.2f} seconds\".format(time.time() - start_time))\n",
    "        print(f\"starting_loss: {loss_visited[0]}\\nending_loss: {loss_visited[-1]}\\nalpha: {best_alpha}\\nbeta: {best_beta_arr}\\niteration: {iterations}\")\n",
    "    return best_alpha, best_beta_arr, loss_visited[-1]\n",
    "\n",
    "# driver\n",
    "testing_condition = [\"13 features\", \"26 features(+ squared)\", \"39 features\"] # \"104 features (all pairs)\"\n",
    "testing_feature = [13, 26, 39]\n",
    "\n",
    "for i in range(2):\n",
    "    print(\"Testing Condition: \", testing_condition[i])\n",
    "    n = testing_feature[i]\n",
    "    partial_X_train = X_train.iloc[:,0:n].values\n",
    "    partial_X_test = X_test.iloc[:,0:n].values\n",
    "    \n",
    "    # train\n",
    "    alpha, beta_arr, _ = multivariate_ols(partial_X_train, y_train, lam=0.5, R=0.01, MaxIterations=1000000, printing=False)\n",
    "\n",
    "    # prediction\n",
    "    y_train_pred = alpha + partial_X_train.dot(beta_arr)\n",
    "    y_test_pred = alpha + partial_X_test.dot(beta_arr)\n",
    "\n",
    "    # performance\n",
    "    train_rmse = mean_squared_error(y_train, y_train_pred, squared=False)\n",
    "    test_rmse = mean_squared_error(y_test, y_test_pred, squared=False)\n",
    "    print(\"****** train RMSE: %5.3f *****\" % train_rmse)\n",
    "    print(\"****** test RMSE: %5.3f *****\" % test_rmse, \"\\n\")"
   ]
  },
  {
   "cell_type": "markdown",
   "metadata": {
    "id": "sxZdfCKvjl7U"
   },
   "source": [
    "*Observations*\n",
    "\n",
    "| Algorithm      | Feature count | RSME |\n",
    "| :---           |    :----:     | ---: |\n",
    "| KNN            | 2             | 5.43 (CV)   |\n",
    "| OLS (in 3.2)   | 2             | 6.57 (CV)   |\n",
    "| OLS (in 4.2)   | 13            | 4.75 (Train) / 4.89 (Test)|\n",
    "| OLS (in 4.2)   | 26            | 4.02 (Train) / 3.73 (Test)|\n",
    "| OLS (in 4.2)   | 39            | 3.86 (Train) / 3.55 (Test)|\n",
    "| OLS-L2 (in 4.3)   | 13            | 4.75 (Train) / 4.89 (Test)|\n",
    "| OLS-L2 (in 4.3)   | 26            | 4.02 (Train) / 3.73 (Test)|\n",
    "\n",
    "From the result in 4.4, a penalty of 0.5 is too small to show a significant difference in RSME."
   ]
  },
  {
   "cell_type": "markdown",
   "metadata": {
    "id": "QIYjxCfAjl7U"
   },
   "source": [
    "### 4.4: Cross-validate lambda\n",
    "\n",
    "This is where it all comes together! Use k-fold cross-validation to select the optimal value of lambda. In other words, define a set of different values of lambda. Then, using the 80% of your data that you set aside for training, iterate through the values of lambda one at a time. For each value of lambda, use k-fold cross-validation to compute the average cross-validated (test) RMSE for that lambda value, computed as the average across the held-out folds. You should also record the average cross-validated train RMSE, computed as the average across the folds used for training. Create a scatter plot that shows RMSE as a function of lambda. The scatter plot should have two lines: a red line showing the cross-validated (test) RMSE, and a blue line showing the cross-validated train RMSE.  At this point, you should not have touched your held-out 20% of \"true\" test data.\n",
    "\n",
    "What value of lambda minimizes your cross-validated (test) RMSE? Fix that value of lambda, and train a new model using all of your training data with that value of lambda (i.e., use the entire 80% of the data that you set aside in 4.1). Calcuate the RMSE for this model on the 20% of \"true\" test data. How does your test RMSE compare to the RMSE from 4.3, 4.2, 2.3, and to the RMSE from nearest neighbors? What do you make of these results?\n",
    "\n",
    "Go brag to your friends about how you just implemented cross-validated ridge-regularized multivariate regression using gradient descent optimization, from scratch. If you still have friends."
   ]
  },
  {
   "cell_type": "code",
   "execution_count": 55,
   "metadata": {
    "id": "35QDSkeGjl7U"
   },
   "outputs": [
    {
     "name": "stdout",
     "output_type": "stream",
     "text": [
      "Testing Condition:  13 features\n"
     ]
    },
    {
     "data": {
      "text/plain": [
       "{0: [4.723732140187157, 4.948130049455891],\n",
       " 1: [4.723931396249677, 4.946731538287743],\n",
       " 2: [4.7244740487080294, 4.945705918171077],\n",
       " 3: [4.725293001284169, 4.944972932879574],\n",
       " 4: [4.726337323534677, 4.944479364846617],\n",
       " 5: [4.727567833872521, 4.944184831780459],\n",
       " 6: [4.72895401813354, 4.944058290231572],\n",
       " 7: [4.730471837750719, 4.944075579299055],\n",
       " 8: [4.7321021488994575, 4.944217670471703],\n",
       " 9: [4.7338295355686375, 4.944470619048649]}"
      ]
     },
     "execution_count": 55,
     "metadata": {},
     "output_type": "execute_result"
    }
   ],
   "source": [
    "testing_condition = [\"13 features\", ] # \"26 features(+ squared)\", \"39 features\",\"104 features (all pairs)\"\n",
    "testing_feature = [13, ]\n",
    "lam_list = np.arange(0, 10, 1)\n",
    "\n",
    "i = 0\n",
    "print(\"Testing Condition: \", testing_condition[i])\n",
    "n = testing_feature[i]\n",
    "partial_X_train = X_train.iloc[:,0:n].values\n",
    "partial_X_test = X_test.iloc[:,0:n].values\n",
    "\n",
    "perf = {}\n",
    "for lam in lam_list:\n",
    "    cv_train_rmse, cv_test_rmse = [], []\n",
    "    for train_idx, test_idx in cv.split(partial_X_train, y_train):\n",
    "        cv_train_X, cv_test_X = partial_X_train[train_idx], partial_X_train[test_idx]\n",
    "        cv_train_y, cv_test_y = y_train.values[train_idx], y_train.values[test_idx]\n",
    "    \n",
    "        # train\n",
    "        alpha, beta_arr, _ = multivariate_ols(cv_train_X, cv_train_y, lam=lam, R=0.01, MaxIterations=1000000, printing=False)\n",
    "\n",
    "        # prediction\n",
    "        y_train_pred = alpha + cv_train_X.dot(beta_arr)\n",
    "        y_test_pred = alpha + cv_test_X.dot(beta_arr)\n",
    "\n",
    "        # performance\n",
    "        cv_train_rmse.append(mean_squared_error(cv_train_y, y_train_pred, squared=False))\n",
    "        cv_test_rmse.append(mean_squared_error(cv_test_y, y_test_pred, squared=False))\n",
    "    perf.update({lam: [np.mean(cv_train_rmse), np.mean(cv_test_rmse)]})\n",
    "\n",
    "perf"
   ]
  },
  {
   "cell_type": "code",
   "execution_count": 56,
   "metadata": {},
   "outputs": [
    {
     "data": {
      "image/png": "[encoded data removed]",
      "text/plain": [
       "<Figure size 432x288 with 1 Axes>"
      ]
     },
     "metadata": {
      "needs_background": "light"
     },
     "output_type": "display_data"
    }
   ],
   "source": [
    "for i in perf.keys():\n",
    "    plt.scatter(i, perf[i][0], color=\"blue\", s=3)\n",
    "    plt.scatter(i, perf[i][1], color=\"red\", s=3)\n",
    "    \n",
    "plt.show()"
   ]
  },
  {
   "cell_type": "code",
   "execution_count": 58,
   "metadata": {},
   "outputs": [
    {
     "name": "stdout",
     "output_type": "stream",
     "text": [
      "Testing Condition:  13 features\n",
      "****** test RMSE: 4.904 ***** \n",
      "\n"
     ]
    }
   ],
   "source": [
    "testing_condition = [\"13 features\", ] # \"26 features(+ squared)\", \"39 features\",\"104 features (all pairs)\"\n",
    "testing_feature = [13, ]\n",
    "lam = 6\n",
    "\n",
    "i = 0\n",
    "print(\"Testing Condition: \", testing_condition[i])\n",
    "n = testing_feature[i]\n",
    "partial_X_train = X_train.iloc[:,0:n].values\n",
    "partial_X_test = X_test.iloc[:,0:n].values\n",
    "\n",
    "alpha, beta_arr, _ = multivariate_ols(partial_X_train, y_train, lam=lam, R=0.01, MaxIterations=1000000, printing=False)\n",
    "y_test_pred = alpha + partial_X_test.dot(beta_arr)\n",
    "rmse = mean_squared_error(y_test, y_test_pred, squared=False)\n",
    "\n",
    "print(\"****** test RMSE: %5.3f *****\" % rmse)"
   ]
  },
  {
   "cell_type": "markdown",
   "metadata": {},
   "source": [
    "What value of lambda minimizes your cross-validated (test) RMSE? Fix that value of lambda, and train a new model using \n",
    "all of your training data with that value of lambda (i.e., use the entire 80% of the data that you set aside in 4.1). Calcuate the RMSE for this model on the 20% of \"true\" test data. How does your test RMSE compare to the RMSE from 4.3, 4.2, 2.3, and to the RMSE from nearest neighbors? What do you make of these results?"
   ]
  },
  {
   "cell_type": "markdown",
   "metadata": {
    "id": "fJRo-C3kjl7U"
   },
   "source": [
    "*Observations*\n",
    "\n",
    "- lambda=6 minimizes the RSME.\n",
    "- The test RSME with penalty=6 results in RSME=4.9, which is higher compare to RMSE from 4.3/4.2, but lower than RMSE from 2.3 and KNN.\n",
    "- Without a propoer regulation, OLS in 2.3/2.3 is overfitting the training data. Though it gives smaller RSME in testing dataset, it's still possible to fail to generalize in new datasets."
   ]
  },
  {
   "cell_type": "markdown",
   "metadata": {
    "id": "izzKtl3_jl7U"
   },
   "source": [
    "###  Extra Credit 2: AdaGrad\n",
    "\n",
    "AdaGrad is a method to implement gradient descent with different learning rates for each feature. Adaptive algorithms like this one are being extensively used especially in neural network training. Implement AdaGrad on 2.3 but now use CRIM, RM and DIS as independent variables. Standardize these variables before inputting them to the gradient descent algorithm. Tune the algorithm until you estimate the regression coefficients within a tolerance of 1e-1. Use mini-batch gradient descent in this implementation. In summary for each parameter (in our case one intercept and three slopes) the update step of the gradient (in this example $\\beta_j$) at iteration $k$ of the GD algorithm becomes:\n",
    "\n",
    "$$\\beta_j=\\beta_j -\\frac{R}{\\sqrt{G^{(k)}_j}}\\frac{\\partial J(\\alpha,\\beta_1,\\ldots)}{\\partial \\beta_j}$$ where\n",
    "$G^{(k)}_j=\\sum_{i=1}^{k} (\\frac{\\partial J^{(i)}(\\alpha,\\beta_1,\\ldots)}{\\partial \\beta_j})^2$ and $R$ is your learning rate. The notation $\\frac{\\partial J^{(i)}(\\alpha,\\beta_1,\\ldots)}{\\partial \\beta_j}$ corresponds to the value of the gradient at iteration $(i)$. Essentially we are \"storing\" information about previous iteration gradients. Doing that we effectively decrease the learning rate slower when a feature $x_i$ is sparse (i.e. has many zero values which would lead to zero gradients). Although this method is not necessary for our regression problem, it is good to be familiar with these methods as they are widely used in neural network training.  "
   ]
  },
  {
   "cell_type": "code",
   "execution_count": null,
   "metadata": {
    "collapsed": true,
    "id": "n-fxLK0Rjl7V"
   },
   "outputs": [],
   "source": [
    "# Your code here"
   ]
  },
  {
   "cell_type": "markdown",
   "metadata": {
    "id": "bAa0A7Zzjl7V"
   },
   "source": [
    "*Discuss your results here*"
   ]
  }
 ],
 "metadata": {
  "anaconda-cloud": {},
  "colab": {
   "name": "_INFO251_PS4_2022_Feb22.ipynb",
   "provenance": []
  },
  "kernelspec": {
   "display_name": "Python 3",
   "language": "python",
   "name": "python3"
  },
  "language_info": {
   "codemirror_mode": {
    "name": "ipython",
    "version": 3
   },
   "file_extension": ".py",
   "mimetype": "text/x-python",
   "name": "python",
   "nbconvert_exporter": "python",
   "pygments_lexer": "ipython3",
   "version": "3.8.8"
  }
 },
 "nbformat": 4,
 "nbformat_minor": 1
}
