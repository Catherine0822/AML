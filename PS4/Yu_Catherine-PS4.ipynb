{
 "cells": [
  {
   "cell_type": "code",
   "execution_count": null,
   "metadata": {},
   "outputs": [],
   "source": []
  },
  {
   "cell_type": "markdown",
   "metadata": {
    "id": "ckWwG9pdjl7E"
   },
   "source": [
    "\n",
    "This is a fun but challenging problem set. It will test your python skills, as well as your understanding of the material in class and in the readings. Start early and debug often! Some notes:\n",
    "\n",
    "* Part 1 is meant to be easy, so get through it quickly.\n",
    "* Part 2 (especially 2.1) will be difficult, but it is the lynchpin of this problem set to make sure to do it well and understand what you've done. If you find your gradient descent algorithm is taking more than a few minutes to complete, debug more, compare notes with others, and go to the Lab sessions (especially the sections on vectorized computation and computational efficiency).\n",
    "* Depending on how well you've done 2.1, parts 2.3 and 4.3 will be relatively painless or incredibly painful. \n",
    "\n",
    "* Part 4 (especially 4.3) will be computationally intensive. Don't leave this until the last minute, otherwise your code might be running when the deadline arrives.\n",
    "\n",
    "* Do the extra credit problems last. This can help you increase your scores"
   ]
  },
  {
   "cell_type": "markdown",
   "metadata": {
    "id": "9Bscj7wWjl7I"
   },
   "source": [
    "---\n",
    "\n",
    "## Introduction to the assignment\n",
    "\n",
    "As with the last assignment, you will be using the [Boston Housing Prices Data Set](https://archive.ics.uci.edu/ml/machine-learning-databases/housing/housing.names)."
   ]
  },
  {
   "cell_type": "code",
   "execution_count": 2,
   "metadata": {
    "collapsed": true,
    "id": "t0_LwTzXjl7J"
   },
   "outputs": [],
   "source": [
    "import IPython\n",
    "import numpy as np\n",
    "import scipy as sp\n",
    "import pandas as pd\n",
    "import matplotlib\n",
    "import sklearn\n",
    "\n",
    "%matplotlib inline  \n",
    "import matplotlib.pyplot as plt  \n",
    "import statsmodels.api as sm\n",
    "from sklearn.linear_model import LinearRegression\n",
    "from sklearn.metrics import mean_squared_error\n",
    "import statsmodels.formula.api as smf\n"
   ]
  },
  {
   "cell_type": "code",
   "execution_count": 3,
   "metadata": {
    "id": "72miT9Zhjl7K"
   },
   "outputs": [
    {
     "data": {
      "text/html": [
       "<div>\n",
       "<style scoped>\n",
       "    .dataframe tbody tr th:only-of-type {\n",
       "        vertical-align: middle;\n",
       "    }\n",
       "\n",
       "    .dataframe tbody tr th {\n",
       "        vertical-align: top;\n",
       "    }\n",
       "\n",
       "    .dataframe thead th {\n",
       "        text-align: right;\n",
       "    }\n",
       "</style>\n",
       "<table border=\"1\" class=\"dataframe\">\n",
       "  <thead>\n",
       "    <tr style=\"text-align: right;\">\n",
       "      <th></th>\n",
       "      <th>CRIM</th>\n",
       "      <th>ZN</th>\n",
       "      <th>INDUS</th>\n",
       "      <th>CHAS</th>\n",
       "      <th>NOX</th>\n",
       "      <th>RM</th>\n",
       "      <th>AGE</th>\n",
       "      <th>DIS</th>\n",
       "      <th>RAD</th>\n",
       "      <th>TAX</th>\n",
       "      <th>PTRATIO</th>\n",
       "      <th>B</th>\n",
       "      <th>LSTAT</th>\n",
       "      <th>MEDV</th>\n",
       "    </tr>\n",
       "  </thead>\n",
       "  <tbody>\n",
       "    <tr>\n",
       "      <th>0</th>\n",
       "      <td>0.218960</td>\n",
       "      <td>18.0</td>\n",
       "      <td>2.629288</td>\n",
       "      <td>0.0</td>\n",
       "      <td>0.869420</td>\n",
       "      <td>6.875396</td>\n",
       "      <td>65.2</td>\n",
       "      <td>4.347275</td>\n",
       "      <td>1.0</td>\n",
       "      <td>307.0</td>\n",
       "      <td>15.534711</td>\n",
       "      <td>397.462329</td>\n",
       "      <td>5.715647</td>\n",
       "      <td>24.0</td>\n",
       "    </tr>\n",
       "    <tr>\n",
       "      <th>1</th>\n",
       "      <td>0.141576</td>\n",
       "      <td>0.0</td>\n",
       "      <td>7.315612</td>\n",
       "      <td>0.0</td>\n",
       "      <td>0.549711</td>\n",
       "      <td>6.499894</td>\n",
       "      <td>78.9</td>\n",
       "      <td>5.315684</td>\n",
       "      <td>2.0</td>\n",
       "      <td>255.0</td>\n",
       "      <td>17.914131</td>\n",
       "      <td>397.012611</td>\n",
       "      <td>9.338417</td>\n",
       "      <td>21.6</td>\n",
       "    </tr>\n",
       "    <tr>\n",
       "      <th>2</th>\n",
       "      <td>0.380457</td>\n",
       "      <td>0.0</td>\n",
       "      <td>7.340354</td>\n",
       "      <td>0.0</td>\n",
       "      <td>0.697928</td>\n",
       "      <td>7.263489</td>\n",
       "      <td>61.1</td>\n",
       "      <td>5.356935</td>\n",
       "      <td>2.0</td>\n",
       "      <td>243.0</td>\n",
       "      <td>17.919989</td>\n",
       "      <td>396.628236</td>\n",
       "      <td>4.142473</td>\n",
       "      <td>34.7</td>\n",
       "    </tr>\n",
       "    <tr>\n",
       "      <th>3</th>\n",
       "      <td>0.313563</td>\n",
       "      <td>0.0</td>\n",
       "      <td>2.562407</td>\n",
       "      <td>0.0</td>\n",
       "      <td>0.599629</td>\n",
       "      <td>7.209732</td>\n",
       "      <td>45.8</td>\n",
       "      <td>6.103983</td>\n",
       "      <td>3.0</td>\n",
       "      <td>226.0</td>\n",
       "      <td>18.979527</td>\n",
       "      <td>398.564784</td>\n",
       "      <td>3.239272</td>\n",
       "      <td>33.4</td>\n",
       "    </tr>\n",
       "    <tr>\n",
       "      <th>4</th>\n",
       "      <td>0.330105</td>\n",
       "      <td>0.0</td>\n",
       "      <td>2.497337</td>\n",
       "      <td>0.0</td>\n",
       "      <td>0.476077</td>\n",
       "      <td>7.184111</td>\n",
       "      <td>54.2</td>\n",
       "      <td>6.264372</td>\n",
       "      <td>3.0</td>\n",
       "      <td>234.0</td>\n",
       "      <td>18.708888</td>\n",
       "      <td>399.487766</td>\n",
       "      <td>6.115159</td>\n",
       "      <td>36.2</td>\n",
       "    </tr>\n",
       "  </tbody>\n",
       "</table>\n",
       "</div>"
      ],
      "text/plain": [
       "       CRIM    ZN     INDUS  CHAS       NOX        RM   AGE       DIS  RAD  \\\n",
       "0  0.218960  18.0  2.629288   0.0  0.869420  6.875396  65.2  4.347275  1.0   \n",
       "1  0.141576   0.0  7.315612   0.0  0.549711  6.499894  78.9  5.315684  2.0   \n",
       "2  0.380457   0.0  7.340354   0.0  0.697928  7.263489  61.1  5.356935  2.0   \n",
       "3  0.313563   0.0  2.562407   0.0  0.599629  7.209732  45.8  6.103983  3.0   \n",
       "4  0.330105   0.0  2.497337   0.0  0.476077  7.184111  54.2  6.264372  3.0   \n",
       "\n",
       "     TAX    PTRATIO           B     LSTAT  MEDV  \n",
       "0  307.0  15.534711  397.462329  5.715647  24.0  \n",
       "1  255.0  17.914131  397.012611  9.338417  21.6  \n",
       "2  243.0  17.919989  396.628236  4.142473  34.7  \n",
       "3  226.0  18.979527  398.564784  3.239272  33.4  \n",
       "4  234.0  18.708888  399.487766  6.115159  36.2  "
      ]
     },
     "execution_count": 3,
     "metadata": {},
     "output_type": "execute_result"
    }
   ],
   "source": [
    "# Load you data the Boston Housing data into a dataframe\n",
    "# MEDV.txt containt the median house values and data.txt the other 13 features\n",
    "# in order [\"CRIM\", \"ZN\", \"INDUS\", \"CHAS\", \"NOX\",\"RM\",\"AGE\",\"DIS\",\"RAD\",\"TAX\",\"PTRATIO\",\"B\",\"LSTAT\"]\n",
    "# Your code here\n",
    "data = np.loadtxt('data.txt')\n",
    "target = np.loadtxt('target.txt')\n",
    "bdata = pd.concat([pd.DataFrame(data), pd.DataFrame(target)], axis = 1)\n",
    "bdata.columns = ['CRIM','ZN','INDUS','CHAS','NOX','RM','AGE','DIS','RAD','TAX','PTRATIO','B','LSTAT','MEDV']\n",
    "bdata.head()"
   ]
  },
  {
   "cell_type": "markdown",
   "metadata": {
    "id": "2cbXmKF9jl7L"
   },
   "source": [
    "---\n",
    "\n",
    "## Part 1: Getting oriented\n",
    "\n",
    "\n",
    "### 1.1 Use existing libraries\n",
    "\n",
    "Soon, you will write your own gradient descent algorithm, which you will then use to minimize the squared error cost function.  First, however, let's use the canned versions that come with Python, to make sure we understand what we're aiming to achieve.\n",
    "\n",
    "Using the same Boston housing prices dataset, use the [Linear Regression class](http://scikit-learn.org/stable/modules/generated/sklearn.linear_model.LinearRegression.html) from sklearn or the [OLS class](http://wiki.scipy.org/Cookbook/OLS) from SciPy to explore the relationship between median housing price and number of rooms per house. Do the following:\n",
    "\n",
    "(a) Regress the housing price on the number of rooms per house. Draw a scatter plot of housing price (y-axis) against rooms (x-axis), and draw the regression line in blue.  You might want to make the dots semi-transparent if it improves the presentation of the figure. \n",
    "\n",
    "(b) Regress the housing price on the number of rooms per house and the (number of rooms per house) squared.  Show the (curved) regression line in green. \n",
    "\n",
    "(c) Interpret your results."
   ]
  },
  {
   "cell_type": "code",
   "execution_count": 4,
   "metadata": {
    "id": "hxCNK0pTjl7L"
   },
   "outputs": [
    {
     "name": "stdout",
     "output_type": "stream",
     "text": [
      "                            OLS Regression Results                            \n",
      "==============================================================================\n",
      "Dep. Variable:                   MEDV   R-squared:                       0.473\n",
      "Model:                            OLS   Adj. R-squared:                  0.472\n",
      "Method:                 Least Squares   F-statistic:                     452.3\n",
      "Date:                Mon, 14 Mar 2022   Prob (F-statistic):           4.12e-72\n",
      "Time:                        13:19:28   Log-Likelihood:                -1678.2\n",
      "No. Observations:                 506   AIC:                             3360.\n",
      "Df Residuals:                     504   BIC:                             3369.\n",
      "Df Model:                           1                                         \n",
      "Covariance Type:            nonrobust                                         \n",
      "==============================================================================\n",
      "                 coef    std err          t      P>|t|      [0.025      0.975]\n",
      "------------------------------------------------------------------------------\n",
      "Intercept    -35.5762      2.748    -12.944      0.000     -40.976     -30.176\n",
      "RM             8.9599      0.421     21.267      0.000       8.132       9.788\n",
      "==============================================================================\n",
      "Omnibus:                      105.253   Durbin-Watson:                   0.705\n",
      "Prob(Omnibus):                  0.000   Jarque-Bera (JB):              604.717\n",
      "Skew:                           0.763   Prob(JB):                    4.87e-132\n",
      "Kurtosis:                       8.133   Cond. No.                         61.7\n",
      "==============================================================================\n",
      "\n",
      "Notes:\n",
      "[1] Standard Errors assume that the covariance matrix of the errors is correctly specified.\n"
     ]
    }
   ],
   "source": [
    "model1 = smf.ols(formula='MEDV ~ RM ', data=bdata).fit()\n",
    "print(model1.summary())"
   ]
  },
  {
   "cell_type": "code",
   "execution_count": 5,
   "metadata": {},
   "outputs": [
    {
     "data": {
      "image/png": "[encoded data removed]",
      "text/plain": [
       "<Figure size 432x288 with 1 Axes>"
      ]
     },
     "metadata": {
      "needs_background": "light"
     },
     "output_type": "display_data"
    }
   ],
   "source": [
    "X = bdata[['RM']].values\n",
    "y = bdata['MEDV'].values\n",
    "\n",
    "from sklearn.preprocessing import PolynomialFeatures\n",
    "from sklearn.linear_model import LinearRegression\n",
    "from sklearn.metrics import r2_score\n",
    "from sklearn.metrics import mean_squared_error\n",
    "\n",
    "regr = LinearRegression()   #reference: https://charleshsliao.wordpress.com/2017/06/16/ransac-and-nonlinear-regression-in-python/\n",
    "quadratic = PolynomialFeatures(degree=2)\n",
    "X_quad = quadratic.fit_transform(X)\n",
    " \n",
    "X_fit = np.arange(X.min(), X.max(), 1)[:, np.newaxis]\n",
    " \n",
    "regr = regr.fit(X, y)\n",
    "y_lin_fit = regr.predict(X_fit)\n",
    "linear_r2 = r2_score(y, regr.predict(X))\n",
    " \n",
    "regr = regr.fit(X_quad, y)\n",
    "y_quad_fit = regr.predict(quadratic.fit_transform(X_fit))\n",
    "quadratic_r2 = r2_score(y, regr.predict(X_quad))\n",
    " \n",
    " \n",
    "plt.scatter(X, y, label='training points', color='blue', alpha = 0.25)\n",
    " \n",
    "plt.plot(X_fit, y_lin_fit, \n",
    "         label='linear (d=1), $R^2=%.2f$' % linear_r2, \n",
    "         color='blue', \n",
    "         lw=2)\n",
    " \n",
    "plt.plot(X_fit, y_quad_fit, \n",
    "         label='quadratic (d=2), $R^2=%.2f$' % quadratic_r2,\n",
    "         color='green', \n",
    "         lw=2)\n",
    " \n",
    " \n",
    "plt.xlabel('RM')\n",
    "plt.ylabel('MEDV')\n",
    "plt.legend(loc='upper right')\n",
    " \n",
    "plt.tight_layout()\n",
    "plt.show()\n"
   ]
  },
  {
   "cell_type": "markdown",
   "metadata": {
    "id": "bjxD1XjXjl7M"
   },
   "source": [
    "The R-square of the quadratic line is larger, indicating that the quadratic line fits the data better. From the graph, we can see that the quadratic line fits the data with MEDV>35 & RM <5 more."
   ]
  },
  {
   "cell_type": "markdown",
   "metadata": {
    "id": "hkO8pHRvjl7N"
   },
   "source": [
    "### 1.2 Training and testing\n",
    "\n",
    "Chances are, for the above problem you used all of your data to fit the regression line. In some circumstances this is a reasonable thing to do, but often this will result in overfitting. Let's redo the above results the ML way, using careful cross-validation.  Since you are now experts in cross-validation, and have written your own cross-validation algorithm from scratch, you can now take a shortcut and use the libraries that others have built for you.\n",
    "\n",
    "Using the [cross-validation functions](http://scikit-learn.org/stable/modules/cross_validation.html) from scikit-learn, use 5-fold cross-validation to fit the regression model (a) from 1.1, i.e. the linear fit of housing price on number of rooms per house. Each fold of cross-validation will give you one slope coefficient and one intercept coefficient.  Create a new scatterplot of housing price against rooms, and draw the five different regression lines in light blue, and the oroginal regression line from 1.1 in red (which was estimated using the full dataset). What do you notice?"
   ]
  },
  {
   "cell_type": "code",
   "execution_count": 104,
   "metadata": {
    "id": "gnVo_0TDjl7O"
   },
   "outputs": [
    {
     "data": {
      "image/png": "[encoded data removed]",
      "text/plain": [
       "<Figure size 432x288 with 1 Axes>"
      ]
     },
     "metadata": {
      "needs_background": "light"
     },
     "output_type": "display_data"
    }
   ],
   "source": [
    "from sklearn.model_selection import KFold\n",
    "\n",
    "# your code here\n",
    "X = np.array(bdata['RM']).reshape(-1,1)\n",
    "y = np.array(bdata['MEDV']).reshape(-1,1)\n",
    "regr = LinearRegression()\n",
    "\n",
    "#5-fold cross validation\n",
    "kf = KFold(n_splits=5)\n",
    "\n",
    "for train, test in kf.split(X):\n",
    "    lm = regr.fit(X[train], y[train])\n",
    "    y_lin_fit = lm.predict(X[test])\n",
    "\n",
    "    plt.plot(X[test], y_lin_fit, \n",
    "            #label='cv', \n",
    "            color='lightblue', \n",
    "            lw=2)\n",
    "\n",
    "#original regression\n",
    "lm = regr.fit(X, y)\n",
    "y_lin_fit = lm.predict(X)\n",
    "plt.plot(X, y_lin_fit, color='red') #, label = 'original regression line')\n",
    "\n",
    "#scatter\n",
    "plt.scatter(X, y, color='blue', alpha = 0.25)\n",
    "\n",
    "\n",
    "plt.xlabel('RM')\n",
    "plt.ylabel('MEDV')\n",
    "#plt.legend(loc=\"best\")\n",
    "#plt.gca().legend(('y0','y1'))\n",
    "plt.show()"
   ]
  },
  {
   "cell_type": "markdown",
   "metadata": {
    "id": "a9CI66kKjl7O"
   },
   "source": [
    "The cross-validated lines (light blue) are similar to the original regression line (red)."
   ]
  },
  {
   "cell_type": "markdown",
   "metadata": {
    "id": "cblgmgiBjl7P"
   },
   "source": [
    "## Part 2: Gradient descent: Linear Regression\n",
    "\n",
    "This is where it gets fun!\n",
    "\n",
    "### 2.1 Implement gradient descent with one independent variable (average rooms per house)\n",
    "\n",
    "Implement the batch gradient descent algorithm that we discussed in class. Use the version you implement to regress the housing price on the number of rooms per house. Experiment with 3-4 different values of the learning rate *R*, and do the following:\n",
    "\n",
    "* Report the values of alpha and beta that minimize the loss function\n",
    "* Report the number of iterations it takes for your algorithm to converge (for each value of *R*)\n",
    "* Report the total running time of your algorithm, in seconds\n",
    "* How do your coefficients compare to the ones estimated through standard libraries? Does this depend on *R*?\n",
    "\n",
    "Some skeleton code is provided below, but you should feel free to delete this code and start from scratch if you prefer.\n",
    "\n",
    "* *Hint 1: Don't forget to implement a stopping condition, so that at every iteration you check whether your results have converged. Common approaches to this are to (a) check to see if the loss has stopped decreasing; and (b) check if both your current parameter esimates are close to the estimates from the previous iteration.  In both cases, \"close\" should not be ==0, it should be <=epsilon, where epsilon is something very small (like 0.0001).*\n",
    "* *Hint 2: Some people like to include a MaxIterations parameter in their gradient descent algorithm, to prevent divergence. *"
   ]
  },
  {
   "cell_type": "code",
   "execution_count": 18,
   "metadata": {
    "id": "yAfAQ5EQjl7Q"
   },
   "outputs": [
    {
     "name": "stdout",
     "output_type": "stream",
     "text": [
      "========== learning rate 0.01 ==========\n",
      "Time taken: 0.22 seconds\n",
      "alpha = -34.7108\n",
      "beta = 8.828020292015715\n",
      "iterations = 34473\n",
      "========== learning rate 0.02 ==========\n",
      "Time taken: 0.12 seconds\n",
      "alpha = -34.9644\n",
      "beta = 8.866674329673275\n",
      "iterations = 18753\n",
      "========== learning rate 0.0001 ==========\n",
      "Time taken: 0.61 seconds\n",
      "alpha = 4.0195\n",
      "beta = 2.924328740752573\n",
      "iterations = 99999\n"
     ]
    }
   ],
   "source": [
    "import time\n",
    "\n",
    "\"\"\"\n",
    "Function\n",
    "--------\n",
    "bivariate_ols\n",
    "    Gradient Decent to minimize OLS. Used to find co-efficients of bivariate OLS Linear regression\n",
    "\n",
    "Parameters\n",
    "----------\n",
    "xvalues, yvalues : narray\n",
    "    xvalues: independent variable\n",
    "    yvalues: dependent variable\n",
    "    \n",
    "R: float\n",
    "    Learning rate\n",
    "    \n",
    "MaxIterations: Int\n",
    "    maximum number of iterations\n",
    "    \n",
    "\n",
    "Returns\n",
    "-------\n",
    "alpha: float\n",
    "    intercept\n",
    "    \n",
    "beta: float\n",
    "    co-efficient\n",
    "\"\"\"\n",
    "def bivariate_ols(xvalues, yvalues, R=0.01, MaxIterations=1000):\n",
    "    # initialize the parameters\n",
    "    start_time = time.time()\n",
    "\n",
    "    # your code here\n",
    "    # Define lists to keep track of each function value visited\n",
    "    alpha = 10 #arbitrary number\n",
    "    beta = 10 #arbitrary number\n",
    "    init_cost = 0\n",
    "    N = len(xvalues)\n",
    " \n",
    "    for i in range(MaxIterations):\n",
    "\n",
    "        error = alpha + beta*xvalues - yvalues\n",
    "\n",
    "        alpha -= R * error.sum() / N\n",
    "        beta -= R * xvalues.dot(error).sum() / N\n",
    "        cost = (error**2).sum() / (2 * N)\n",
    "\n",
    "        if abs(cost - init_cost) < 0.000001:\n",
    "            break\n",
    "        else:\n",
    "            init_cost = cost\n",
    "\n",
    "    print(\"Time taken: {:.2f} seconds\".format(time.time() - start_time))\n",
    "    return alpha, beta, i\n",
    "\n",
    "# example function call\n",
    "\n",
    "X = np.array(bdata['RM'])\n",
    "Y = np.array(bdata['MEDV'])\n",
    "\n",
    "R = [0.01, 0.02, 0.0001]\n",
    "for r in R:\n",
    "    print('========== learning rate %s ==========' %r)\n",
    "    ols = bivariate_ols(X, y, r, 100000)\n",
    "    print('alpha = %.4f' % ols[0])\n",
    "    print('beta = %s' % ols[1])\n",
    "    print('iterations = %s' % ols[2])\n",
    "\n"
   ]
  },
  {
   "cell_type": "markdown",
   "metadata": {
    "id": "S7dK9bMZjl7Q"
   },
   "source": [
    "1. The coeficients of learning rate = 0.0001 is significantly different from the other two. \n",
    "2. The iteration = 99999 of R=0.0001 infer that it might have not reach minimun before hitting the max iteration because the learning rate is too small. "
   ]
  },
  {
   "cell_type": "markdown",
   "metadata": {
    "id": "jZqg5yW3jl7Q"
   },
   "source": [
    "### 2.2 Data normalization (done for you!)\n",
    "\n",
    "Soon, you will implement a version of gradient descent that can use an arbitrary number of independent variables. Before doing this, we want to give you some code in case you want to standardize your features."
   ]
  },
  {
   "cell_type": "code",
   "execution_count": 10,
   "metadata": {
    "collapsed": true,
    "id": "lU9-kG3Tjl7Q"
   },
   "outputs": [],
   "source": [
    "def standardize(raw_data):\n",
    "    return ((raw_data - np.mean(raw_data, axis = 0)) / np.std(raw_data, axis = 0))"
   ]
  },
  {
   "cell_type": "markdown",
   "metadata": {
    "id": "vUUackd0jl7R"
   },
   "source": [
    "### 2.3 Implement gradient descent with an arbitrary number of independent variables\n",
    "\n",
    "Now that you have a simple version of gradient descent working, create a version of gradient descent that can take more than one independent variable.  Assume all independent variables will be continuous.  Test your algorithm using TAX and RM as independent variables. Standardize these variables before inputting them to the gradient descent algorithm. \n",
    "\n",
    "As before,  report and interpret your estimated coefficients, the number of iterations before convergence, and the total running time of your algorithm. Experiment with 2-3 different values of R.\n",
    "\n",
    "* *Hint 1: Be careful to implement this efficiently, otherwise it might take a long time for your code to run. Commands like `np.dot` can be a good friend to you on this problem*"
   ]
  },
  {
   "cell_type": "code",
   "execution_count": 11,
   "metadata": {
    "collapsed": true,
    "id": "yhEcthNtjl7R"
   },
   "outputs": [],
   "source": [
    "\"\"\"\n",
    "Function\n",
    "--------\n",
    "multivariate_ols\n",
    "    Gradient Decent to minimize OLS. Used to find co-efficients of bivariate OLS Linear regression\n",
    "\n",
    "Parameters\n",
    "----------\n",
    "xvalue_matrix, yvalues : narray\n",
    "    xvalue_matrix: independent variable\n",
    "    yvalues: dependent variable\n",
    "    \n",
    "R: float\n",
    "    Learning rate\n",
    "    \n",
    "MaxIterations: Int\n",
    "    maximum number of iterations\n",
    "    \n",
    "\n",
    "Returns\n",
    "-------\n",
    "alpha: float\n",
    "    intercept\n",
    "    \n",
    "beta_array: array[float]\n",
    "    co-efficient\n",
    "\"\"\"\n",
    "\n",
    "def multivariate_ols(xvalue_matrix, yvalues, R=0.05, MaxIterations=1000):\n",
    "    # your code here\n",
    "    start_time = time.time()\n",
    "\n",
    "    # your code here\n",
    "    # Define lists to keep track of each function value visited\n",
    "    N = len(xvalue_matrix[0])\n",
    "    alpha = 10 #arbitrary number\n",
    "    beta_array = 10 * np.ones(N)\n",
    "    init_cost = 0\n",
    "\n",
    " \n",
    "    for i in range(MaxIterations):\n",
    "\n",
    "        error = alpha + xvalue_matrix.dot(beta_array) - yvalues\n",
    "        deriv_beta_arr = np.zeros(N)\n",
    "\n",
    "        for j in range(N):\n",
    "            loc_arr = np.zeros(N)\n",
    "            loc_arr[j] = 1\n",
    "            deriv_beta = error.dot(xvalue_matrix.dot(loc_arr))/len(xvalue_matrix)\n",
    "            deriv_beta_arr[j] = deriv_beta\n",
    "\n",
    "\n",
    "        alpha -= R * error.sum() / len(xvalue_matrix)\n",
    "        beta_array -= R * deriv_beta_arr\n",
    "        cost = ((alpha + xvalue_matrix.dot(beta_array) - yvalues)**2).sum()/(2*len(xvalue_matrix))\n",
    "\n",
    "\n",
    "        if abs(cost - init_cost) < 0.000001:\n",
    "            break\n",
    "        else:\n",
    "            init_cost = cost\n",
    "        \n",
    "        duration = time.time() - start_time\n",
    "        \n",
    "    return alpha, beta_array, i, duration"
   ]
  },
  {
   "cell_type": "code",
   "execution_count": 12,
   "metadata": {},
   "outputs": [
    {
     "name": "stdout",
     "output_type": "stream",
     "text": [
      "========== learning rate 0.1 ==========\n",
      "alpha = 22.5327\n",
      "beta array = [-2.71845349  5.54164278]\n",
      "iterations = 107\n",
      "time taken = 0.0020\n",
      "========== learning rate 0.01 ==========\n",
      "alpha = 22.5319\n",
      "beta array = [-2.71157235  5.54848779]\n",
      "iterations = 946\n",
      "time taken = 0.0128\n",
      "========== learning rate 0.001 ==========\n",
      "alpha = 22.5281\n",
      "beta array = [-2.69022063  5.56955549]\n",
      "iterations = 7882\n",
      "time taken = 0.0946\n"
     ]
    }
   ],
   "source": [
    "#driver\n",
    "X = standardize(np.array(bdata[[\"TAX\", \"RM\"]]))\n",
    "y = np.array(bdata[\"MEDV\"])\n",
    "\n",
    "R = [0.1, 0.01, 0.001]\n",
    "\n",
    "for r in R:\n",
    "    ols = multivariate_ols(X, y, r, 100000)\n",
    "    print('========== learning rate %s ==========' %r)\n",
    "    print('alpha = %.4f' % ols[0])\n",
    "    print('beta array = %s' % ols[1])\n",
    "    print('iterations = %s' % ols[2])\n",
    "    print('time taken = %.4f' % ols[3])"
   ]
  },
  {
   "cell_type": "markdown",
   "metadata": {
    "id": "E2o_SDdcjl7R"
   },
   "source": [
    "1. The three learning rates lead to the same minimun. The coefficients do not change a lot as the learning rate changes.\n",
    "2. The number of iterations increases as the learning rate gets smaller.\n",
    "3. Compared with 2.1, the model converges faster. "
   ]
  },
  {
   "cell_type": "markdown",
   "metadata": {
    "id": "dMXw_qcYjl7S"
   },
   "source": [
    "### 2.4 Compare standardized vs. non-standardized results\n",
    "\n",
    "Repeat the analysis from 2.3, but this time do not standardize your variables - i.e., use the original data. Use the same three values of R (0.1, 0.01, and 0.001). What do you notice about the running time and convergence properties of your algorithm?"
   ]
  },
  {
   "cell_type": "code",
   "execution_count": 19,
   "metadata": {
    "id": "AnEvJxxhjl7S"
   },
   "outputs": [
    {
     "name": "stderr",
     "output_type": "stream",
     "text": [
      "/var/folders/2h/4fcst_952sn2rw58_smpkpzw0000gn/T/ipykernel_32658/3435541686.py:55: RuntimeWarning: overflow encountered in square\n",
      "  cost = ((alpha + xvalue_matrix.dot(beta_array) - yvalues)**2).sum()/(2*len(xvalue_matrix))\n",
      "/var/folders/2h/4fcst_952sn2rw58_smpkpzw0000gn/T/ipykernel_32658/3435541686.py:58: RuntimeWarning: invalid value encountered in double_scalars\n",
      "  if abs(cost - init_cost) < 0.000001:\n",
      "/var/folders/2h/4fcst_952sn2rw58_smpkpzw0000gn/T/ipykernel_32658/3435541686.py:54: RuntimeWarning: invalid value encountered in subtract\n",
      "  beta_array -= R * deriv_beta_arr\n"
     ]
    },
    {
     "name": "stdout",
     "output_type": "stream",
     "text": [
      "========== learning rate 0.1 ==========\n",
      "alpha = nan\n",
      "beta array = [nan nan]\n",
      "iterations = 99999\n",
      "time taken = 1.1592\n",
      "========== learning rate 0.01 ==========\n",
      "alpha = nan\n",
      "beta array = [nan nan]\n",
      "iterations = 99999\n",
      "time taken = 1.1382\n",
      "========== learning rate 0.001 ==========\n",
      "alpha = nan\n",
      "beta array = [nan nan]\n",
      "iterations = 99999\n",
      "time taken = 1.1486\n"
     ]
    }
   ],
   "source": [
    "# Your code here\n",
    "X = np.array(bdata[[\"TAX\", \"RM\"]])\n",
    "y = np.array(bdata[\"MEDV\"])\n",
    "\n",
    "R = [0.1, 0.01, 0.001]\n",
    "\n",
    "for r in R:\n",
    "    ols = multivariate_ols(X, y, r, 100000)\n",
    "    print('========== learning rate %s ==========' %r)\n",
    "    print('alpha = %.4f' % ols[0])\n",
    "    print('beta array = %s' % ols[1])\n",
    "    print('iterations = %s' % ols[2])\n",
    "    print('time taken = %.4f' % ols[3])"
   ]
  },
  {
   "cell_type": "markdown",
   "metadata": {
    "id": "BFdApjEsjl7S"
   },
   "source": [
    "Without standardization, the model would not converge, leading to a increasing cost. "
   ]
  },
  {
   "cell_type": "markdown",
   "metadata": {
    "id": "5pEk2_UZjl7S"
   },
   "source": [
    "## 3. Prediction\n",
    "\n",
    "Let's use our fitted model to make predictions about housing prices. Make sure to first standardize your features before proceeding.\n",
    "\n",
    "### 3.1 Cross-Validation\n",
    "\n",
    "Unless you were careful above, you probably overfit your data again. Let's fix that. Use 5-fold cross-validation to re-fit the multivariate regression from 2.3 above, and report your estimated coefficients (there should be three, corresponding to the intercept and the two coefficients for TAX and RM). Since there are 5 folds, there will be 5 sets of three coefficients -- report them all in a 5x3 table."
   ]
  },
  {
   "cell_type": "code",
   "execution_count": 20,
   "metadata": {
    "id": "DGQRERuIjl7T"
   },
   "outputs": [
    {
     "name": "stdout",
     "output_type": "stream",
     "text": [
      "  alpha      TAX      RM\n",
      "-------  -------  ------\n",
      "23.0378  -3.1370  5.2667\n",
      "22.2654  -2.7255  4.9139\n",
      "21.9343  -2.4840  4.5523\n",
      "22.2202  -3.2539  6.6663\n",
      "23.2691  -1.5094  6.2077\n"
     ]
    }
   ],
   "source": [
    "# Your code here\n",
    "from tabulate import tabulate\n",
    "\n",
    "#5-fold cross validation\n",
    "X = np.array(bdata[[\"TAX\", \"RM\"]])\n",
    "y = np.array(bdata[\"MEDV\"])\n",
    "X_norm = standardize(X)\n",
    "\n",
    "kf = KFold(n_splits=5)\n",
    "alpha = []\n",
    "beta1 = []\n",
    "beta2 = []\n",
    "\n",
    "for train, test in kf.split(X_norm):\n",
    "    ols = multivariate_ols(X_norm[train], y[train], 0.01, 100000)\n",
    "    alpha.append(ols[0])\n",
    "    beta1.append(ols[1][0])\n",
    "    beta2.append(ols[1][1])\n",
    "\n",
    "#print table\n",
    "columns = ['alpha', 'TAX', 'RM']\n",
    "Table = np.array([alpha, beta1, beta2]).T\n",
    "print(tabulate(Table, headers=columns, tablefmt='simple', floatfmt=\"0.4f\"))\n"
   ]
  },
  {
   "cell_type": "markdown",
   "metadata": {
    "id": "cHk88-z5jl7T"
   },
   "source": [
    "The coefficients of different model trained by different fold are not very equal, probably because the amount of data in each fold is not enough (about 80 data in each fold)."
   ]
  },
  {
   "cell_type": "markdown",
   "metadata": {
    "id": "jaRVr5wpjl7T"
   },
   "source": [
    "### 3.2 Predicted values and RMSE\n",
    "\n",
    "Let's figure out how accurate this predictive model turned out to be. Compute the cross-validated RMSE for each of the 5 folds above. In other words, in fold 1, use the parameters estimated on the 80% of the data to make predictions for the 20%, and calculate the RMSE for those 20%. Repeate this for the remaining folds. Report the RMSE for each of the 5-folds, and the average (mean) RMSE across the five folds. How does this average RMSE compare to the performance of your nearest neighbor algorithm from the last problem set?"
   ]
  },
  {
   "cell_type": "code",
   "execution_count": 21,
   "metadata": {
    "id": "9I1zFLBajl7T"
   },
   "outputs": [
    {
     "name": "stdout",
     "output_type": "stream",
     "text": [
      "========== RMSE for each of the five folds ==========\n",
      "[4.24469633014263, 5.563126070555063, 5.532800683258357, 10.58888900314894, 6.945270205709904]\n",
      "========== average RMSE ==========\n",
      "6.574956458562978\n"
     ]
    }
   ],
   "source": [
    "# Your code here\n",
    "def compute_rmse(predictions, yvalues):\n",
    "    temp = list(map(lambda i, j : (i-j)**2, predictions, yvalues))\n",
    "    rmse = np.sqrt(sum(temp)/len(predictions))\n",
    "    return rmse\n",
    "\n",
    "RMSE = []\n",
    "for train, test in kf.split(X_norm):\n",
    "    alpha, beta_array, _, _ = multivariate_ols(X_norm[train], y[train], 0.01, 100000)\n",
    "    y_predict = alpha + X_norm[test].dot(beta_array)\n",
    "    RMSE.append(compute_rmse(y_predict, y[test]))\n",
    "\n",
    "print ('========== RMSE for each of the five folds ==========')\n",
    "print(RMSE)\n",
    "print ('========== average RMSE ==========')\n",
    "print(np.mean(RMSE))"
   ]
  },
  {
   "cell_type": "markdown",
   "metadata": {
    "id": "61FuGxiYjl7T"
   },
   "source": [
    "The RMSE here (6.574) is greater than the RMSE of knn (5.9130) I got in ps3, however it is hard to compare the two RMSE because the choice of features are not the same. "
   ]
  },
  {
   "cell_type": "markdown",
   "metadata": {
    "id": "6L-AsWOajl7T"
   },
   "source": [
    "### Extra Credit 1: Logistic Regression\n",
    "\n",
    "For extra credit, implement logistic regression using gradient descent. Create a new variable (EXPENSIVE) to indicate whether the median housing price is more than $40,000. Use your model  a logistic regression of EXPENSIVE on CHAS and RM. Report your results."
   ]
  },
  {
   "cell_type": "code",
   "execution_count": null,
   "metadata": {
    "collapsed": true,
    "id": "UR9qYdndjl7T"
   },
   "outputs": [],
   "source": [
    "# Your code here"
   ]
  },
  {
   "cell_type": "markdown",
   "metadata": {
    "id": "04AamlXLjl7T"
   },
   "source": [
    "*Discuss your results here*"
   ]
  },
  {
   "cell_type": "markdown",
   "metadata": {
    "id": "nvkpICWsjl7T"
   },
   "source": [
    "## 4 Regularization \n",
    "\n",
    "### 4.1 Get prepped\n",
    "\n",
    "Step 1: Create new interaction variables between each possible pair of the F_s features. If you originally had *K* features, you should now have K+(K*(K+1))/2 features. Standardize all of your features.\n",
    "\n",
    "Step 2: Randomly sample 80% of your data and call this the training set, and set aside the remaining 20% as your test set."
   ]
  },
  {
   "cell_type": "code",
   "execution_count": 22,
   "metadata": {
    "id": "89-Zqpssjl7U"
   },
   "outputs": [
    {
     "data": {
      "text/html": [
       "<div>\n",
       "<style scoped>\n",
       "    .dataframe tbody tr th:only-of-type {\n",
       "        vertical-align: middle;\n",
       "    }\n",
       "\n",
       "    .dataframe tbody tr th {\n",
       "        vertical-align: top;\n",
       "    }\n",
       "\n",
       "    .dataframe thead th {\n",
       "        text-align: right;\n",
       "    }\n",
       "</style>\n",
       "<table border=\"1\" class=\"dataframe\">\n",
       "  <thead>\n",
       "    <tr style=\"text-align: right;\">\n",
       "      <th></th>\n",
       "      <th>CRIM</th>\n",
       "      <th>ZN</th>\n",
       "      <th>INDUS</th>\n",
       "      <th>CHAS</th>\n",
       "      <th>NOX</th>\n",
       "      <th>RM</th>\n",
       "      <th>AGE</th>\n",
       "      <th>DIS</th>\n",
       "      <th>RAD</th>\n",
       "      <th>TAX</th>\n",
       "      <th>...</th>\n",
       "      <th>TAX x TAX</th>\n",
       "      <th>TAX x PTRATIO</th>\n",
       "      <th>TAX x B</th>\n",
       "      <th>TAX x LSTAT</th>\n",
       "      <th>PTRATIO x PTRATIO</th>\n",
       "      <th>PTRATIO x B</th>\n",
       "      <th>PTRATIO x LSTAT</th>\n",
       "      <th>B x B</th>\n",
       "      <th>B x LSTAT</th>\n",
       "      <th>LSTAT x LSTAT</th>\n",
       "    </tr>\n",
       "  </thead>\n",
       "  <tbody>\n",
       "    <tr>\n",
       "      <th>0</th>\n",
       "      <td>-0.416323</td>\n",
       "      <td>0.284830</td>\n",
       "      <td>-1.270520</td>\n",
       "      <td>-0.272599</td>\n",
       "      <td>0.738124</td>\n",
       "      <td>0.552955</td>\n",
       "      <td>-0.120013</td>\n",
       "      <td>0.165247</td>\n",
       "      <td>-0.982843</td>\n",
       "      <td>-0.642280</td>\n",
       "      <td>...</td>\n",
       "      <td>-0.666456</td>\n",
       "      <td>-0.833076</td>\n",
       "      <td>-0.309350</td>\n",
       "      <td>-0.835367</td>\n",
       "      <td>-1.443290</td>\n",
       "      <td>-0.260551</td>\n",
       "      <td>-1.088942</td>\n",
       "      <td>0.497397</td>\n",
       "      <td>-0.827189</td>\n",
       "      <td>-0.783600</td>\n",
       "    </tr>\n",
       "    <tr>\n",
       "      <th>1</th>\n",
       "      <td>-0.425331</td>\n",
       "      <td>-0.487722</td>\n",
       "      <td>-0.586750</td>\n",
       "      <td>-0.272599</td>\n",
       "      <td>-1.184627</td>\n",
       "      <td>0.020504</td>\n",
       "      <td>0.367166</td>\n",
       "      <td>0.624852</td>\n",
       "      <td>-0.867883</td>\n",
       "      <td>-0.950995</td>\n",
       "      <td>...</td>\n",
       "      <td>-0.849329</td>\n",
       "      <td>-0.886279</td>\n",
       "      <td>-0.628821</td>\n",
       "      <td>-0.714306</td>\n",
       "      <td>-0.413379</td>\n",
       "      <td>0.245572</td>\n",
       "      <td>-0.557697</td>\n",
       "      <td>0.488925</td>\n",
       "      <td>-0.282211</td>\n",
       "      <td>-0.557487</td>\n",
       "    </tr>\n",
       "    <tr>\n",
       "      <th>2</th>\n",
       "      <td>-0.397524</td>\n",
       "      <td>-0.487722</td>\n",
       "      <td>-0.583140</td>\n",
       "      <td>-0.272599</td>\n",
       "      <td>-0.293242</td>\n",
       "      <td>1.103260</td>\n",
       "      <td>-0.265812</td>\n",
       "      <td>0.644430</td>\n",
       "      <td>-0.867883</td>\n",
       "      <td>-1.022237</td>\n",
       "      <td>...</td>\n",
       "      <td>-0.886725</td>\n",
       "      <td>-0.942789</td>\n",
       "      <td>-0.703492</td>\n",
       "      <td>-0.979900</td>\n",
       "      <td>-0.410662</td>\n",
       "      <td>0.243110</td>\n",
       "      <td>-1.187464</td>\n",
       "      <td>0.481691</td>\n",
       "      <td>-1.065847</td>\n",
       "      <td>-0.847899</td>\n",
       "    </tr>\n",
       "    <tr>\n",
       "      <th>3</th>\n",
       "      <td>-0.405311</td>\n",
       "      <td>-0.487722</td>\n",
       "      <td>-1.280278</td>\n",
       "      <td>-0.272599</td>\n",
       "      <td>-0.884416</td>\n",
       "      <td>1.027034</td>\n",
       "      <td>-0.809889</td>\n",
       "      <td>0.998977</td>\n",
       "      <td>-0.752922</td>\n",
       "      <td>-1.123163</td>\n",
       "      <td>...</td>\n",
       "      <td>-0.936618</td>\n",
       "      <td>-0.960038</td>\n",
       "      <td>-0.800412</td>\n",
       "      <td>-1.032944</td>\n",
       "      <td>0.095261</td>\n",
       "      <td>0.489781</td>\n",
       "      <td>-1.273772</td>\n",
       "      <td>0.518208</td>\n",
       "      <td>-1.199447</td>\n",
       "      <td>-0.875541</td>\n",
       "    </tr>\n",
       "    <tr>\n",
       "      <th>4</th>\n",
       "      <td>-0.403385</td>\n",
       "      <td>-0.487722</td>\n",
       "      <td>-1.289773</td>\n",
       "      <td>-0.272599</td>\n",
       "      <td>-1.627468</td>\n",
       "      <td>0.990705</td>\n",
       "      <td>-0.511180</td>\n",
       "      <td>1.075097</td>\n",
       "      <td>-0.752922</td>\n",
       "      <td>-1.075668</td>\n",
       "      <td>...</td>\n",
       "      <td>-0.913589</td>\n",
       "      <td>-0.936617</td>\n",
       "      <td>-0.748078</td>\n",
       "      <td>-0.897918</td>\n",
       "      <td>-0.036731</td>\n",
       "      <td>0.440878</td>\n",
       "      <td>-0.915578</td>\n",
       "      <td>0.535675</td>\n",
       "      <td>-0.762212</td>\n",
       "      <td>-0.764004</td>\n",
       "    </tr>\n",
       "  </tbody>\n",
       "</table>\n",
       "<p>5 rows × 104 columns</p>\n",
       "</div>"
      ],
      "text/plain": [
       "       CRIM        ZN     INDUS      CHAS       NOX        RM       AGE  \\\n",
       "0 -0.416323  0.284830 -1.270520 -0.272599  0.738124  0.552955 -0.120013   \n",
       "1 -0.425331 -0.487722 -0.586750 -0.272599 -1.184627  0.020504  0.367166   \n",
       "2 -0.397524 -0.487722 -0.583140 -0.272599 -0.293242  1.103260 -0.265812   \n",
       "3 -0.405311 -0.487722 -1.280278 -0.272599 -0.884416  1.027034 -0.809889   \n",
       "4 -0.403385 -0.487722 -1.289773 -0.272599 -1.627468  0.990705 -0.511180   \n",
       "\n",
       "        DIS       RAD       TAX  ...  TAX x TAX  TAX x PTRATIO   TAX x B  \\\n",
       "0  0.165247 -0.982843 -0.642280  ...  -0.666456      -0.833076 -0.309350   \n",
       "1  0.624852 -0.867883 -0.950995  ...  -0.849329      -0.886279 -0.628821   \n",
       "2  0.644430 -0.867883 -1.022237  ...  -0.886725      -0.942789 -0.703492   \n",
       "3  0.998977 -0.752922 -1.123163  ...  -0.936618      -0.960038 -0.800412   \n",
       "4  1.075097 -0.752922 -1.075668  ...  -0.913589      -0.936617 -0.748078   \n",
       "\n",
       "   TAX x LSTAT  PTRATIO x PTRATIO  PTRATIO x B  PTRATIO x LSTAT     B x B  \\\n",
       "0    -0.835367          -1.443290    -0.260551        -1.088942  0.497397   \n",
       "1    -0.714306          -0.413379     0.245572        -0.557697  0.488925   \n",
       "2    -0.979900          -0.410662     0.243110        -1.187464  0.481691   \n",
       "3    -1.032944           0.095261     0.489781        -1.273772  0.518208   \n",
       "4    -0.897918          -0.036731     0.440878        -0.915578  0.535675   \n",
       "\n",
       "   B x LSTAT  LSTAT x LSTAT  \n",
       "0  -0.827189      -0.783600  \n",
       "1  -0.282211      -0.557487  \n",
       "2  -1.065847      -0.847899  \n",
       "3  -1.199447      -0.875541  \n",
       "4  -0.762212      -0.764004  \n",
       "\n",
       "[5 rows x 104 columns]"
      ]
     },
     "execution_count": 22,
     "metadata": {},
     "output_type": "execute_result"
    }
   ],
   "source": [
    "# Your code here\n",
    "\n",
    "#step 1: Create new interaction variables between each possible pair of the F_s features.\n",
    "newframe = pd.DataFrame()\n",
    "features = bdata[bdata.columns.drop('MEDV')]\n",
    "\n",
    "for i in features:\n",
    "    iloc = features.columns.get_loc(i) #get idx from column name\n",
    "    for j in features:\n",
    "        jloc = features.columns.get_loc(j)\n",
    "        if iloc <= jloc :  #i<=j skip repeated variables\n",
    "            column = '%s x %s' %(i, j)\n",
    "            newframe[column] = standardize(features[i]*features[j])\n",
    "\n",
    "#bdata_fs = standardize(bdata[bdata.columns.drop('MEDV')]).join(newframe) #drop MEDV, standardize bdata ,and concat the two dataframes\n",
    "bdata_fs = standardize(features).join(newframe)\n",
    "bdata_fs.head()"
   ]
  },
  {
   "cell_type": "code",
   "execution_count": 23,
   "metadata": {},
   "outputs": [
    {
     "name": "stdout",
     "output_type": "stream",
     "text": [
      "Total examples: 506\n",
      "Number of training examples: 404\n",
      "Number of testing examples: 102\n"
     ]
    }
   ],
   "source": [
    "#step 2: Randomly sample 80% of your data and call this the training set, and set aside the remaining 20% as your test set.\n",
    "np.random.seed(seed=13579)\n",
    "\n",
    "# enter your code here\n",
    "train_percent = .8\n",
    "train_number = int(train_percent*len(bdata_fs))\n",
    "print('Total examples: %i' % len(bdata_fs))\n",
    "print('Number of training examples: %i' % train_number)\n",
    "print('Number of testing examples: %i' % (len(bdata_fs) - train_number))\n",
    "\n",
    "bdata_fs = bdata_fs.join(bdata['MEDV'])\n",
    "ids = np.arange(0, len(bdata_fs), 1)\n",
    "ids = np.random.permutation(ids)\n",
    "df_shuffled = bdata_fs.iloc[ids]\n",
    "bdata_fs_train = df_shuffled[:train_number]\n",
    "bdata_fs_test = df_shuffled[train_number:]"
   ]
  },
  {
   "cell_type": "markdown",
   "metadata": {
    "id": "JeXkvp7njl7U"
   },
   "source": [
    "### 4.2 Overfitting (sort of)\n",
    "Now, using your version of multivariate regression from 2.3, let's overfit the training data. Using your training set, regress housing price on as many of those K+(K*(K+1))/2 features as you can (Don't forget to add quadratic terms. Form instance, RM^2.).  If you get too greedy, it's possible this will take a long time to compute, so start with 5-10 features, and if you have the time, add more features.\n",
    "\n",
    "Report the RMSE when you apply your model to your training set and to your testing set. How do these numbers compare to each other, and to the RMSE from 3.2 and nearest neighbors?"
   ]
  },
  {
   "cell_type": "code",
   "execution_count": 24,
   "metadata": {
    "id": "kgQ48hi6jl7U"
   },
   "outputs": [
    {
     "name": "stdout",
     "output_type": "stream",
     "text": [
      "=========== RMSE (training set) = 5.3462 ===========\n",
      "=========== RMSE (test set) = 6.0373 ===========\n"
     ]
    }
   ],
   "source": [
    "# Your code here\n",
    "features = [\"TAX\", \"RM\",\"INDUS x NOX\",\"ZN x ZN\", \"DIS x B\",\"AGE\",\"NOX\",\"DIS x DIS\",\"TAX x PTRATIO\",\"B x B\",\"CRIM\"]\n",
    "\n",
    "X_train = np.array(bdata_fs_train[features])\n",
    "y_train = np.array(bdata_fs_train[\"MEDV\"])\n",
    "X_test = np.array(bdata_fs_test[features])\n",
    "y_test = np.array(bdata_fs_test[\"MEDV\"])\n",
    "\n",
    "alpha, beta_array, _, _ = multivariate_ols(X_train, y_train, 0.01, 100000)\n",
    "y_predict_train = alpha + X_train.dot(beta_array) # predicted y value of training data\n",
    "y_predict_test = alpha + X_test.dot(beta_array) # predicted y value of test data\n",
    "\n",
    "print('=========== RMSE (training set) = %.4f ===========' %compute_rmse(y_predict_train, y_train))\n",
    "print('=========== RMSE (test set) = %.4f ===========' %compute_rmse(y_predict_test, y_test))\n"
   ]
  },
  {
   "cell_type": "markdown",
   "metadata": {
    "id": "wf3h2JEIjl7U"
   },
   "source": [
    "1. The trainig set RMSE is smaller than the test set RMSE, which makes sense because the model might be overfit the training set. \n",
    "2. Compared with 3.2, the test set RMSE decreases (from 6.57 to 6.04)."
   ]
  },
  {
   "cell_type": "markdown",
   "metadata": {
    "id": "XDlDsi4wjl7U"
   },
   "source": [
    "### 4.3 Ridge regularization (basic)\n",
    "Incorporate L2 (Ridge) regularization into your multivariate_ols regression. Write a new version of your gradient descent algorithm that includes a regularization term \"lambda\" to penalize excessive complexity. \n",
    "\n",
    "Use your regularized regression to re-fit the model from 4.2 above on your training data, using the value lambda = 0.5.  Report the RMSE obtained for your training data, and the RMSE obtained for your testing data."
   ]
  },
  {
   "cell_type": "code",
   "execution_count": 75,
   "metadata": {
    "collapsed": true,
    "id": "Rlaok4imjl7U"
   },
   "outputs": [],
   "source": [
    "# Your code here\n",
    "def multivariate_ols_regularized(xvalue_matrix, yvalues, R = 0.01, MaxIterations=1000, lam = 0.5):\n",
    "    # your code here\n",
    "    start_time = time.time()\n",
    "\n",
    "    # your code here\n",
    "    # Define lists to keep track of each function value visited\n",
    "    N = len(xvalue_matrix[0])\n",
    "    N_len = len(xvalue_matrix)\n",
    "    alpha = 10 #arbitrary number\n",
    "    beta_array = 10 * np.ones(N)\n",
    "    init_cost = 0\n",
    "\n",
    "    for i in range(MaxIterations):\n",
    "\n",
    "        error = alpha + xvalue_matrix.dot(beta_array) - yvalues\n",
    "        deriv_beta_arr = np.zeros(N)\n",
    "\n",
    "        for j in range(N):\n",
    "            loc_arr = np.zeros(N)\n",
    "            loc_arr[j] = 1\n",
    "            deriv_beta = error.dot(xvalue_matrix.dot(loc_arr))/N_len\n",
    "            deriv_beta_arr[j] = deriv_beta\n",
    "\n",
    "        alpha -= R * error.sum() / len(xvalue_matrix)\n",
    "        beta_array = beta_array * (1-R*lam/N_len) - R * deriv_beta_arr #add penalty\n",
    "        cost = ((alpha + xvalue_matrix.dot(beta_array) - yvalues)**2).sum()/(2* N_len) + lam*(beta_array**2).sum() #add penalty\n",
    "\n",
    "        if abs(cost - init_cost) < 0.000001:\n",
    "            break\n",
    "        else:\n",
    "            init_cost = cost\n",
    "        \n",
    "        duration = time.time() - start_time\n",
    "        \n",
    "    return alpha, beta_array, i, duration"
   ]
  },
  {
   "cell_type": "code",
   "execution_count": 99,
   "metadata": {},
   "outputs": [
    {
     "name": "stdout",
     "output_type": "stream",
     "text": [
      "=========== RMSE (training set) = 5.3468 ===========\n",
      "=========== RMSE (test set) = 6.0374 ===========\n"
     ]
    }
   ],
   "source": [
    "# Your code here\n",
    "X_train = np.array(bdata_fs_train[features])\n",
    "y_train = np.array(bdata_fs_train[\"MEDV\"])\n",
    "X_test = np.array(bdata_fs_test[features])\n",
    "y_test = np.array(bdata_fs_test[\"MEDV\"])\n",
    "\n",
    "alpha, beta_array, _, _ = multivariate_ols_regularized(X_train, y_train, 0.01, 100000, 0.5)\n",
    "y_predict_train = alpha + X_train.dot(beta_array) # predicted y value of training data\n",
    "y_predict_test = alpha + X_test.dot(beta_array) # predicted y value of test data\n",
    "\n",
    "print('=========== RMSE (training set) = %.4f ===========' %compute_rmse(y_predict_train, y_train))\n",
    "print('=========== RMSE (test set) = %.4f ===========' %compute_rmse(y_predict_test, y_test))"
   ]
  },
  {
   "cell_type": "markdown",
   "metadata": {
    "id": "sxZdfCKvjl7U"
   },
   "source": [
    "After adding penalty (regularization) with lambda = 0.5, the RMSE of the test set doesn't change."
   ]
  },
  {
   "cell_type": "markdown",
   "metadata": {
    "id": "QIYjxCfAjl7U"
   },
   "source": [
    "### 4.4: Cross-validate lambda\n",
    "\n",
    "This is where it all comes together! Use k-fold cross-validation to select the optimal value of lambda. In other words, define a set of different values of lambda. Then, using the 80% of your data that you set aside for training, iterate through the values of lambda one at a time. For each value of lambda, use k-fold cross-validation to compute the average cross-validated (test) RMSE for that lambda value, computed as the average across the held-out folds. You should also record the average cross-validated train RMSE, computed as the average across the folds used for training. Create a scatter plot that shows RMSE as a function of lambda. The scatter plot should have two lines: a red line showing the cross-validated (test) RMSE, and a blue line showing the cross-validated train RMSE.  At this point, you should not have touched your held-out 20% of \"true\" test data.\n",
    "\n",
    "What value of lambda minimizes your cross-validated (test) RMSE? Fix that value of lambda, and train a new model using all of your training data with that value of lambda (i.e., use the entire 80% of the data that you set aside in 4.1). Calcuate the RMSE for this model on the 20% of \"true\" test data. How does your test RMSE compare to the RMSE from 4.3, 4.2, 2.3, and to the RMSE from nearest neighbors? What do you make of these results?\n",
    "\n",
    "Go brag to your friends about how you just implemented cross-validated ridge-regularized multivariate regression using gradient descent optimization, from scratch. If you still have friends."
   ]
  },
  {
   "cell_type": "code",
   "execution_count": 83,
   "metadata": {},
   "outputs": [],
   "source": [
    "# Your code here\n",
    "# cross validation for lambda\n",
    "#LAM = np.linspace(0,1,11) \n",
    "LAM = [0.1, 0.2, 0.3, 0.4, 0.5, 0.6, 0.7, 0.8, 0.9, 1.0] #define a set of lambda\n",
    "\n",
    "X_train = np.array(bdata_fs_train[features])\n",
    "y_train = np.array(bdata_fs_train[\"MEDV\"])\n",
    "X_test = np.array(bdata_fs_test[features])\n",
    "y_test = np.array(bdata_fs_test[\"MEDV\"])\n",
    "\n",
    "RMSE_LAM = {}\n",
    "\n",
    "for lam in LAM:\n",
    "    kf = KFold(n_splits=5)\n",
    "    rmse_train = []\n",
    "    rmse_test = []\n",
    "\n",
    "    for train, test in kf.split(X_train, y_train):\n",
    "\n",
    "        alpha, beta_array, _, _ = multivariate_ols_regularized(X_train[train], y_train[train], 0.01, 100000, lam)\n",
    "        y_predict_train = alpha + X_train[train].dot(beta_array) # predicted y value of training data\n",
    "        y_predict_test = alpha + X_train[test].dot(beta_array) # predicted y value of test data\n",
    "\n",
    "        rmse_train.append(compute_rmse(y_predict_train, y_train[train]))\n",
    "        rmse_test.append(compute_rmse(y_predict_test, y_train[test]))\n",
    "    \n",
    "    RMSE_LAM.update({lam: [np.mean(rmse_train), np.mean(rmse_test)]}) \n",
    "\n",
    "    "
   ]
  },
  {
   "cell_type": "code",
   "execution_count": 84,
   "metadata": {},
   "outputs": [
    {
     "data": {
      "text/plain": [
       "{0.1: [5.4897090687808445, 5.7562071216477015],\n",
       " 0.2: [5.461795575728277, 5.740466697515791],\n",
       " 0.3: [5.467918679836951, 5.743346563305323],\n",
       " 0.4: [5.399187839766066, 5.650877719012667],\n",
       " 0.5: [5.435100528597551, 5.698953075085211],\n",
       " 0.6: [5.401687689756971, 5.655463700183676],\n",
       " 0.7: [5.31137894350795, 5.577161050073899],\n",
       " 0.8: [5.351570028401334, 5.62377589616816],\n",
       " 0.9: [5.354602276143242, 5.62635634197685],\n",
       " 1.0: [5.353487383697289, 5.625008932691563]}"
      ]
     },
     "execution_count": 84,
     "metadata": {},
     "output_type": "execute_result"
    }
   ],
   "source": [
    "# average RMSE of 5-fold cross-validation across differnet lambda (from 0 to 1)\n",
    "RMSE_LAM"
   ]
  },
  {
   "cell_type": "code",
   "execution_count": 96,
   "metadata": {},
   "outputs": [
    {
     "data": {
      "image/png": "[encoded data removed]",
      "text/plain": [
       "<Figure size 432x288 with 1 Axes>"
      ]
     },
     "metadata": {
      "needs_background": "light"
     },
     "output_type": "display_data"
    }
   ],
   "source": [
    "#scatter plot\n",
    "for i in RMSE_LAM.keys():\n",
    "    plt.scatter(i, RMSE_LAM[i][0], color=\"blue\")\n",
    "    plt.scatter(i, RMSE_LAM[i][1], color=\"red\")\n",
    "\n",
    "plt.xlabel('lambda')\n",
    "plt.ylabel('RMSE')\n",
    "plt.legend(['cross-validated test RMSE', 'cross-validated training RMSE'], loc='best')\n",
    "plt.show()\n"
   ]
  },
  {
   "cell_type": "code",
   "execution_count": 97,
   "metadata": {},
   "outputs": [
    {
     "name": "stdout",
     "output_type": "stream",
     "text": [
      "========== RMSE of 20% test data ==========\n",
      "6.2576454800494945\n"
     ]
    }
   ],
   "source": [
    "# train a new model using all of your training data (80%) with that value of lambda minimizes your cross-validated (test) RMSE\n",
    "\n",
    "alpha, beta_array, _, _ = multivariate_ols_regularized(X_train, y_train, 0.01, 100000, lam = 0.7)\n",
    "y_predict_test = alpha + X_test.dot(beta_array) # predicted y value of test data\n",
    "\n",
    "print('========== RMSE of 20% test data ==========')\n",
    "print(compute_rmse(y_predict_test, y_test))"
   ]
  },
  {
   "cell_type": "markdown",
   "metadata": {
    "id": "fJRo-C3kjl7U"
   },
   "source": [
    "1. According to the result of cross-validation, the test set gets the lowest RMSE when lambda = 0.7. \n",
    "2. However, compared with the result of 4.3, when training the new model using all of the training data (80%) using lambda =0.7, the result of the test (20%) RMSE (6.2576) is higher than using lambda = 0.5 (6.0374). \n",
    "3. Compared with 4.2, the RMSE of test data using model lambda =0.7 is still higher than using the model without regularization lambda =0.5.\n",
    "4. Compared with 3.3, in which the model is not regularized and with fewer features (RMSE = 6.5749), the test RMSE (6.2576) in 4.4 is smaller. \n",
    "5. The RMSE here is greater than the RMSE of knn I got in ps3, however it is hard to compare the two RMSE because the choice of features are not the same. "
   ]
  },
  {
   "cell_type": "markdown",
   "metadata": {
    "id": "izzKtl3_jl7U"
   },
   "source": [
    "###  Extra Credit 2: AdaGrad\n",
    "\n",
    "AdaGrad is a method to implement gradient descent with different learning rates for each feature. Adaptive algorithms like this one are being extensively used especially in neural network training. Implement AdaGrad on 2.3 but now use CRIM, RM and DIS as independent variables. Standardize these variables before inputting them to the gradient descent algorithm. Tune the algorithm until you estimate the regression coefficients within a tolerance of 1e-1. Use mini-batch gradient descent in this implementation. In summary for each parameter (in our case one intercept and three slopes) the update step of the gradient (in this example $\\beta_j$) at iteration $k$ of the GD algorithm becomes:\n",
    "\n",
    "$$\\beta_j=\\beta_j -\\frac{R}{\\sqrt{G^{(k)}_j}}\\frac{\\partial J(\\alpha,\\beta_1,\\ldots)}{\\partial \\beta_j}$$ where\n",
    "$G^{(k)}_j=\\sum_{i=1}^{k} (\\frac{\\partial J^{(i)}(\\alpha,\\beta_1,\\ldots)}{\\partial \\beta_j})^2$ and $R$ is your learning rate. The notation $\\frac{\\partial J^{(i)}(\\alpha,\\beta_1,\\ldots)}{\\partial \\beta_j}$ corresponds to the value of the gradient at iteration $(i)$. Essentially we are \"storing\" information about previous iteration gradients. Doing that we effectively decrease the learning rate slower when a feature $x_i$ is sparse (i.e. has many zero values which would lead to zero gradients). Although this method is not necessary for our regression problem, it is good to be familiar with these methods as they are widely used in neural network training.  "
   ]
  },
  {
   "cell_type": "code",
   "execution_count": null,
   "metadata": {
    "collapsed": true,
    "id": "n-fxLK0Rjl7V"
   },
   "outputs": [],
   "source": [
    "# Your code here"
   ]
  },
  {
   "cell_type": "markdown",
   "metadata": {
    "id": "bAa0A7Zzjl7V"
   },
   "source": [
    "*Discuss your results here*"
   ]
  }
 ],
 "metadata": {
  "anaconda-cloud": {},
  "colab": {
   "name": "_INFO251_PS4_2022_Feb22.ipynb",
   "provenance": []
  },
  "kernelspec": {
   "display_name": "Python 3 (ipykernel)",
   "language": "python",
   "name": "python3"
  },
  "language_info": {
   "codemirror_mode": {
    "name": "ipython",
    "version": 3
   },
   "file_extension": ".py",
   "mimetype": "text/x-python",
   "name": "python",
   "nbconvert_exporter": "python",
   "pygments_lexer": "ipython3",
   "version": "3.9.7"
  }
 },
 "nbformat": 4,
 "nbformat_minor": 1
}
